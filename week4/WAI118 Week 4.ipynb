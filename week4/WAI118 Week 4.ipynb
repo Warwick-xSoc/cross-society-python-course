{
 "cells": [
  {
   "cell_type": "markdown",
   "id": "ef584785",
   "metadata": {},
   "source": [
    "# Week 4 - Taking Input"
   ]
  },
  {
   "cell_type": "markdown",
   "id": "3b214b1a",
   "metadata": {},
   "source": [
    "ALR TO DO:\n",
    "* Maybe talk about read/writeline for files"
   ]
  },
  {
   "cell_type": "markdown",
   "id": "606d5adb",
   "metadata": {},
   "source": [
    "This week we will look at various methods of taking input into our python applications and the challenges that come with that.\n",
    "\n",
    "In this lecture, we will aim to cover:\n",
    "* File reading\n",
    "* File writing\n",
    "* User input\n",
    "* Command line arguments\n",
    "* Libraries"
   ]
  },
  {
   "cell_type": "markdown",
   "id": "ad926535",
   "metadata": {},
   "source": [
    "## File Reading"
   ]
  },
  {
   "cell_type": "markdown",
   "id": "6f35b417",
   "metadata": {},
   "source": [
    "To read from a file, we need a file to read from.\n",
    "**Create a file in the same folder as the notebook called \"test.txt\" and add some text to it.**"
   ]
  },
  {
   "cell_type": "markdown",
   "id": "d980531a",
   "metadata": {},
   "source": [
    "Now we will read the file into Python. To do this, we use the ```open()``` function.\n",
    "\n",
    "The ```open()``` function primarily takes two arguments: **file path** and **mode**\n",
    "\n",
    "The file path argument is either the relative or absolute path to the file, we will cover the different modes later, but inorder to read text, we use the mode \"r\""
   ]
  },
  {
   "cell_type": "code",
   "execution_count": 1,
   "id": "58f4d19f",
   "metadata": {},
   "outputs": [],
   "source": [
    "test_file = open(\"test.txt\",\"r\")"
   ]
  },
  {
   "cell_type": "markdown",
   "id": "5b6c3749",
   "metadata": {},
   "source": [
    "To read the file, we call ```read()``` on the result of the ```open()``` method. Let's put this in a variable called data for now."
   ]
  },
  {
   "cell_type": "code",
   "execution_count": 2,
   "id": "84cba540",
   "metadata": {},
   "outputs": [],
   "source": [
    "data = test_file.read()"
   ]
  },
  {
   "cell_type": "markdown",
   "id": "cf0dbc64",
   "metadata": {},
   "source": [
    "Now we can print the contents of the file using ```print(data)```"
   ]
  },
  {
   "cell_type": "code",
   "execution_count": 3,
   "id": "8b6d6971",
   "metadata": {},
   "outputs": [
    {
     "name": "stdout",
     "output_type": "stream",
     "text": [
      "Warwick AI is the best computing society!\n"
     ]
    }
   ],
   "source": [
    "print(data)"
   ]
  },
  {
   "cell_type": "markdown",
   "id": "56465cdd",
   "metadata": {},
   "source": [
    "Hooray, we have read from a file!\n",
    "\n",
    "However let's see what happens if we try to read from the file again."
   ]
  },
  {
   "cell_type": "code",
   "execution_count": 4,
   "id": "2a2020c6",
   "metadata": {},
   "outputs": [
    {
     "name": "stdout",
     "output_type": "stream",
     "text": [
      "\n"
     ]
    }
   ],
   "source": [
    "data = test_file.read()\n",
    "print(data)"
   ]
  },
  {
   "cell_type": "markdown",
   "id": "2c51b14d",
   "metadata": {},
   "source": [
    "Notice we don't get anything this time. This is because Python remebers what postion you are at in a file. When we used ```read()``` the first time, we read all the way up to the end of the file so when we call ```read()``` again, we are already at the end so we get nothing!\n",
    "\n",
    "Think of it like a bookmark. When we read the book, the bookmark is at the end, so when we go to read it again, we find there is nothing left to read."
   ]
  },
  {
   "cell_type": "markdown",
   "id": "a8d0cd9d",
   "metadata": {},
   "source": [
    "### Seeking\n",
    "However, Python allows us to change where the bookmark is using the ```seek()``` method.\n",
    "\n",
    "The ```seek()``` method takes two arguments: **offset** and **whence**\n",
    "\n",
    "Offset determines how far forwards or backwards we want to move the bookmark.\n",
    "\n",
    "Whence determines from where we move the bookmark, the options are:\n",
    "* 0 Move from the start of the file\n",
    "* 1 Move from the position of the bookmark\n",
    "* 2 Move from the end of the file\n",
    "\n",
    "*Note: for text files, only option 0 is supported. We will come onto the other options later.*\n",
    "\n",
    "Therefore using ```seek(0,0)``` should bring us back to the start of the file as we're telling Python to put the bookmark 0 places from the start of the file."
   ]
  },
  {
   "cell_type": "code",
   "execution_count": 5,
   "id": "8da47dff",
   "metadata": {},
   "outputs": [
    {
     "data": {
      "text/plain": [
       "0"
      ]
     },
     "execution_count": 5,
     "metadata": {},
     "output_type": "execute_result"
    }
   ],
   "source": [
    "test_file.seek(0,0)"
   ]
  },
  {
   "cell_type": "markdown",
   "id": "90f48224",
   "metadata": {},
   "source": [
    "Now let's read in the data and print the results again"
   ]
  },
  {
   "cell_type": "code",
   "execution_count": 6,
   "id": "52b28b4e",
   "metadata": {},
   "outputs": [
    {
     "name": "stdout",
     "output_type": "stream",
     "text": [
      "Warwick AI is the best computing society!\n"
     ]
    }
   ],
   "source": [
    "data = test_file.read()\n",
    "print(data)"
   ]
  },
  {
   "cell_type": "markdown",
   "id": "ae77a1f4",
   "metadata": {},
   "source": [
    "We can also try seeking to the middle of the file as so"
   ]
  },
  {
   "cell_type": "code",
   "execution_count": 7,
   "id": "d268e056",
   "metadata": {},
   "outputs": [
    {
     "name": "stdout",
     "output_type": "stream",
     "text": [
      "AI is the best computing society!\n"
     ]
    }
   ],
   "source": [
    "test_file.seek(8,0)\n",
    "data = test_file.read()\n",
    "print(data)"
   ]
  },
  {
   "cell_type": "markdown",
   "id": "fde0869c",
   "metadata": {},
   "source": [
    "Lastly, we need to make sure we close the file once we're done with it. This is done using ```close()```"
   ]
  },
  {
   "cell_type": "code",
   "execution_count": 8,
   "id": "80df39a5",
   "metadata": {},
   "outputs": [],
   "source": [
    "test_file.close()"
   ]
  },
  {
   "cell_type": "markdown",
   "id": "f320d8aa",
   "metadata": {},
   "source": [
    "Now if we try to read from the file, we will get an error so we can tell that the file is closed."
   ]
  },
  {
   "cell_type": "code",
   "execution_count": 9,
   "id": "37617978",
   "metadata": {},
   "outputs": [
    {
     "ename": "ValueError",
     "evalue": "I/O operation on closed file.",
     "output_type": "error",
     "traceback": [
      "\u001b[1;31m---------------------------------------------------------------------------\u001b[0m",
      "\u001b[1;31mValueError\u001b[0m                                Traceback (most recent call last)",
      "\u001b[1;32m<ipython-input-9-ea84fdc5df52>\u001b[0m in \u001b[0;36m<module>\u001b[1;34m\u001b[0m\n\u001b[1;32m----> 1\u001b[1;33m \u001b[0mtest_file\u001b[0m\u001b[1;33m.\u001b[0m\u001b[0mread\u001b[0m\u001b[1;33m(\u001b[0m\u001b[1;33m)\u001b[0m\u001b[1;33m\u001b[0m\u001b[1;33m\u001b[0m\u001b[0m\n\u001b[0m",
      "\u001b[1;31mValueError\u001b[0m: I/O operation on closed file."
     ]
    }
   ],
   "source": [
    "test_file.read()"
   ]
  },
  {
   "cell_type": "markdown",
   "id": "0a7888f0",
   "metadata": {},
   "source": [
    "### With ... As\n",
    "Instead of using file.close() we can also use Python's ```with ... as``` operator.\n",
    "After using ```with ... as```, we indent our code and once we return from the indent, the file will be closed automatically."
   ]
  },
  {
   "cell_type": "code",
   "execution_count": 10,
   "id": "46a75371",
   "metadata": {},
   "outputs": [
    {
     "name": "stdout",
     "output_type": "stream",
     "text": [
      "Warwick AI is the best computing society!\n"
     ]
    }
   ],
   "source": [
    "with open(\"test.txt\",\"r\") as test_file:\n",
    "    print(test_file.read())"
   ]
  },
  {
   "cell_type": "markdown",
   "id": "9ee6730f",
   "metadata": {},
   "source": [
    "### Binary Files\n",
    "Python also allows us to read in files as binary. This is done by appending a '**b**' to the mode parameter of the ```open()``` method."
   ]
  },
  {
   "cell_type": "code",
   "execution_count": 14,
   "id": "5d29fb04",
   "metadata": {},
   "outputs": [
    {
     "name": "stdout",
     "output_type": "stream",
     "text": [
      "b'Warwick AI is the best computing society!'\n",
      "87\n"
     ]
    },
    {
     "data": {
      "text/plain": [
       "bytes"
      ]
     },
     "execution_count": 14,
     "metadata": {},
     "output_type": "execute_result"
    }
   ],
   "source": [
    "with open(\"test.txt\",\"rb\") as test_file:\n",
    "    data = test_file.read()\n",
    "print(data)\n",
    "print(data[0])\n",
    "type(data)"
   ]
  },
  {
   "cell_type": "markdown",
   "id": "5ce67b10",
   "metadata": {},
   "source": [
    "We can see that data is now a **bytes** object. This is useful for processing any filetype that isn't primarily text based, such as images or audio."
   ]
  },
  {
   "cell_type": "markdown",
   "id": "8cb118df",
   "metadata": {},
   "source": [
    "Binary files also allow us to seek from the current cursor position or from the end of the file. The offset is the number of bytes to move forwards or backwards in the file."
   ]
  },
  {
   "cell_type": "code",
   "execution_count": 16,
   "id": "a7edc375",
   "metadata": {},
   "outputs": [
    {
     "name": "stdout",
     "output_type": "stream",
     "text": [
      "b'iety!'\n"
     ]
    }
   ],
   "source": [
    "with open(\"test.txt\",\"rb\") as test_file:\n",
    "    test_file.seek(-5,2)\n",
    "    print(test_file.read())"
   ]
  },
  {
   "cell_type": "markdown",
   "id": "bc8caf8c",
   "metadata": {},
   "source": [
    "## File Writing\n",
    "Now that we have covered reading from files, we now need to try to write to files.\n",
    "\n",
    "This is done using a different **mode** with the ```open()``` function. The possible modes are as follows:\n",
    "* 'r' &emsp;Read from file, error if file doesn't exist\n",
    "* 'w' &emsp;Write to file, will create/overwrite file\n",
    "* 'x' &emsp;Write to file, will error if file exists\n",
    "* 'a' &emsp;Appending to file, will create/overwrite file\n",
    "* 'b' &emsp;Binary mode\n",
    "* 't' &emsp;Text mode (default)\n",
    "* '+' &emsp;Allows either writing if used as 'r+' or reading if used as 'w+'\n",
    "\n",
    "In this lecture, we will only cover 'w' and 'a', but feel free to explore in your own time!"
   ]
  },
  {
   "cell_type": "markdown",
   "id": "4f6517a7",
   "metadata": {},
   "source": [
    "To begin with, lets open a file called '**test2.txt**' and write some text to it.\n",
    "\n",
    "*Note we don't need to create the file as Python will do that for us!*"
   ]
  },
  {
   "cell_type": "code",
   "execution_count": 8,
   "id": "50ba509c",
   "metadata": {},
   "outputs": [],
   "source": [
    "with open(\"test2.txt\",\"w\") as test_file_2:\n",
    "    test_file_2.write(\"Warwick AI is still the best!\")"
   ]
  },
  {
   "cell_type": "markdown",
   "id": "36bd8a72",
   "metadata": {},
   "source": [
    "Now go to your file explorer and open the file, you should see that the text has been written to it!\n",
    "\n",
    "Now let's try that again, but this time use different text."
   ]
  },
  {
   "cell_type": "code",
   "execution_count": 9,
   "id": "65bc4124",
   "metadata": {},
   "outputs": [],
   "source": [
    "with open(\"test2.txt\",\"w\") as test_file_2:\n",
    "    test_file_2.write(\"I love WAI!\")"
   ]
  },
  {
   "cell_type": "markdown",
   "id": "fdeef264",
   "metadata": {},
   "source": [
    "We should see that the file has been overwritten with the new text. In some cases, this is useful, however sometimes we will want to append to the file without overwriting the previous content, for example when writing to an application log.\n",
    "\n",
    "We can do this using the '**a**' mode. Try appending some text to 'test2.txt'."
   ]
  },
  {
   "cell_type": "code",
   "execution_count": 10,
   "id": "4fb5af0e",
   "metadata": {},
   "outputs": [],
   "source": [
    "with open(\"test2.txt\",\"a\") as test_file_2:\n",
    "    test_file_2.write(\" I am probably biased tho.\")"
   ]
  },
  {
   "cell_type": "markdown",
   "id": "43b70430",
   "metadata": {},
   "source": [
    "Opening the file in notepad, we see that we have appended text to the original file."
   ]
  },
  {
   "cell_type": "code",
   "execution_count": null,
   "id": "04445981",
   "metadata": {},
   "outputs": [],
   "source": []
  }
 ],
 "metadata": {
  "kernelspec": {
   "display_name": "Python 3",
   "language": "python",
   "name": "python3"
  },
  "language_info": {
   "codemirror_mode": {
    "name": "ipython",
    "version": 3
   },
   "file_extension": ".py",
   "mimetype": "text/x-python",
   "name": "python",
   "nbconvert_exporter": "python",
   "pygments_lexer": "ipython3",
   "version": "3.8.8"
  }
 },
 "nbformat": 4,
 "nbformat_minor": 5
}
