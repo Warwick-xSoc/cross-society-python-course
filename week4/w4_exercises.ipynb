{
 "cells": [
  {
   "cell_type": "markdown",
   "metadata": {},
   "source": [
    "# Week 4 Exercises"
   ]
  },
  {
   "cell_type": "markdown",
   "metadata": {},
   "source": [
    "## Exercise 1\n",
    "Complete this code so that it will read in the **LoremIpsum.txt** file and count the occurences of the letter input by the user. You should print the number of occurences at the end and it should be case insensitive, meaning if the user inputs 'e', both 'E' and 'e' will be counted."
   ]
  },
  {
   "cell_type": "code",
   "execution_count": null,
   "metadata": {},
   "outputs": [],
   "source": [
    "#Store occurences in here\n",
    "occurences = 0\n",
    "# Get letter from user\n",
    "user_letter = input(\"Please input a letter to count: \")\n",
    "\n",
    "# Open file and count the occurences here\n",
    "\n",
    "# Print out number of occurences\n",
    "print(f\"Letter {user_letter} appeared {occurences} times in LoremIpsum.txt\")"
   ]
  },
  {
   "cell_type": "markdown",
   "metadata": {},
   "source": [
    "## Exercise 2\n",
    "In the first cell, read in the file DailyLog.txta and display the current contents.  \n",
    "In the second cell, allow the user to input an entry and append it to the end of the file.  \n",
    "The appended entry must start with the current date-timestamp which is stored in the ```current_datetime``` variable and must appear on a new line."
   ]
  },
  {
   "cell_type": "code",
   "execution_count": null,
   "metadata": {},
   "outputs": [],
   "source": [
    "import datetime\n",
    "\n",
    "# Read in the file and display contents\n"
   ]
  },
  {
   "cell_type": "code",
   "execution_count": null,
   "metadata": {},
   "outputs": [],
   "source": [
    "# Get current datetime and store as string\n",
    "current_datetime = str(datetime.datetime.now())\n",
    "\n",
    "# Get entry from user\n",
    "user_entry = input(\"Input log entry: \")\n",
    "\n",
    "# Write entry to file with datetime prepended"
   ]
  },
  {
   "cell_type": "markdown",
   "metadata": {},
   "source": [
    "## Exercise 3\n",
    "\n",
    "Open the Text_Editor_Unfinished.py file and complete the code so that it does the following:  \n",
    "* Takes in a file path as a command line argument and prints the file content.\n",
    "* Allows the user to input data one line at a time and appends that data to the file.\n",
    "* Takes in an optional argument **w** which will overwrite the original file.\n",
    "* Takes in an optional argument **c** which will copy the original file and then append the data to the copy.\n",
    "\n",
    "*Note the program should only take in one optional argument, so ```python Text_Editor.py file.txt w c``` is invalid.*"
   ]
  },
  {
   "cell_type": "markdown",
   "metadata": {},
   "source": [
    "## Exercise 4\n",
    "\n",
    "Complete the code below so that StudentExamData.csv is read in, a mark is input for each student and then the data is output to StudentExamDataMarked.csv so that it contains the marks for each student.\n",
    "\n",
    "Your code should refer to the student name, ID and exam when prompting for the mark input, i.e. \"Please input the mark for John (ID: 2101234) for exam CS118\".\n",
    "\n",
    "You may use an alternative data structure to a list to store the student data if you want."
   ]
  },
  {
   "cell_type": "code",
   "execution_count": null,
   "metadata": {},
   "outputs": [],
   "source": [
    "# Create a list to store data\n",
    "student_data = []\n",
    "\n",
    "# Read data into list\n",
    "\n",
    "\n",
    "# Iterate over student data and add a mark for each student\n",
    "\n",
    "\n",
    "# Write student data into StudentExamDataMarked.csv\n"
   ]
  },
  {
   "cell_type": "markdown",
   "metadata": {},
   "source": [
    "## Bonus Exercise\n",
    "\n",
    "Research the pandas library and redo exercise 4 by using a pandas DataFrame to store the student data. Pandas comes preinstalled with the Anaconda distribution so you don't need to use pip to install it!  \n",
    " *Note this exercise is intented as a challenge to teach you how to research new libraries for yourself*"
   ]
  },
  {
   "cell_type": "code",
   "execution_count": null,
   "metadata": {},
   "outputs": [],
   "source": [
    "import pandas"
   ]
  }
 ],
 "metadata": {
  "kernelspec": {
   "display_name": "Python 3.10.7 64-bit",
   "language": "python",
   "name": "python3"
  },
  "language_info": {
   "codemirror_mode": {
    "name": "ipython",
    "version": 3
   },
   "file_extension": ".py",
   "mimetype": "text/x-python",
   "name": "python",
   "nbconvert_exporter": "python",
   "pygments_lexer": "ipython3",
   "version": "3.10.7"
  },
  "orig_nbformat": 4,
  "vscode": {
   "interpreter": {
    "hash": "268a003517095b3e00ec49a0832a87899bac50083c754616205934d33472dfcd"
   }
  }
 },
 "nbformat": 4,
 "nbformat_minor": 2
}
