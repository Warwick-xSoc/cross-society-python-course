{
 "cells": [
  {
   "cell_type": "markdown",
   "id": "ef584785",
   "metadata": {},
   "source": [
    "# Week 4 - Taking Input"
   ]
  },
  {
   "cell_type": "markdown",
   "id": "606d5adb",
   "metadata": {},
   "source": [
    "This week we will look at various methods of taking input into our python applications and the challenges that come with that.\n",
    "\n",
    "In this lecture, we will aim to cover:\n",
    "* File reading\n",
    "* File writing\n",
    "* User input\n",
    "* Command line arguments\n",
    "* Libraries"
   ]
  },
  {
   "cell_type": "markdown",
   "id": "ad926535",
   "metadata": {},
   "source": [
    "## File Reading"
   ]
  },
  {
   "cell_type": "markdown",
   "id": "6f35b417",
   "metadata": {},
   "source": [
    "To read from a file, we need a file to read from.\n",
    "**Create a file in the same folder as the notebook called \"test.txt\" and add some text to it.**"
   ]
  },
  {
   "cell_type": "markdown",
   "id": "d980531a",
   "metadata": {},
   "source": [
    "Now we will read the file into Python. To do this, we use the ```open()``` function.\n",
    "\n",
    "The ```open()``` function primarily takes two arguments: **file path** and **mode**\n",
    "\n",
    "The file path argument is either the relative or absolute path to the file, we will cover the different modes later, but inorder to read text, we use the mode \"r\""
   ]
  },
  {
   "cell_type": "code",
   "execution_count": 1,
   "id": "58f4d19f",
   "metadata": {},
   "outputs": [],
   "source": [
    "test_file = open(\"test.txt\",\"r\")"
   ]
  },
  {
   "cell_type": "markdown",
   "id": "5b6c3749",
   "metadata": {},
   "source": [
    "To read the file, we call ```read()``` on the result of the ```open()``` method. Let's put this in a variable called data for now."
   ]
  },
  {
   "cell_type": "code",
   "execution_count": 2,
   "id": "84cba540",
   "metadata": {},
   "outputs": [],
   "source": [
    "data = test_file.read()"
   ]
  },
  {
   "cell_type": "markdown",
   "id": "cf0dbc64",
   "metadata": {},
   "source": [
    "Now we can print the contents of the file using ```print(data)```"
   ]
  },
  {
   "cell_type": "code",
   "execution_count": 3,
   "id": "8b6d6971",
   "metadata": {},
   "outputs": [
    {
     "name": "stdout",
     "output_type": "stream",
     "text": [
      "Warwick AI is the best computing society!\n"
     ]
    }
   ],
   "source": [
    "print(data)"
   ]
  },
  {
   "cell_type": "markdown",
   "id": "56465cdd",
   "metadata": {},
   "source": [
    "Hooray, we have read from a file!\n",
    "\n",
    "However let's see what happens if we try to read from the file again."
   ]
  },
  {
   "cell_type": "code",
   "execution_count": 4,
   "id": "2a2020c6",
   "metadata": {},
   "outputs": [
    {
     "name": "stdout",
     "output_type": "stream",
     "text": [
      "\n"
     ]
    }
   ],
   "source": [
    "data = test_file.read()\n",
    "print(data)"
   ]
  },
  {
   "cell_type": "markdown",
   "id": "2c51b14d",
   "metadata": {},
   "source": [
    "Notice we don't get anything this time. This is because Python remebers what postion you are at in a file. When we used ```read()``` the first time, we read all the way up to the end of the file so when we call ```read()``` again, we are already at the end so we get nothing!\n",
    "\n",
    "Think of it like a bookmark. When we read the book, the bookmark is at the end, so when we go to read it again, we find there is nothing left to read."
   ]
  },
  {
   "cell_type": "markdown",
   "id": "a8d0cd9d",
   "metadata": {},
   "source": [
    "### Seeking\n",
    "However, Python allows us to change where the bookmark is using the ```seek()``` method.\n",
    "\n",
    "The ```seek()``` method takes two arguments: **offset** and **whence**\n",
    "\n",
    "Offset determines how far forwards or backwards we want to move the bookmark.\n",
    "\n",
    "Whence determines from where we move the bookmark, the options are:\n",
    "* 0 Move from the start of the file\n",
    "* 1 Move from the position of the bookmark\n",
    "* 2 Move from the end of the file\n",
    "\n",
    "*Note: for text files, only option 0 is supported. We will come onto the other options later.*\n",
    "\n",
    "Therefore using ```seek(0,0)``` should bring us back to the start of the file as we're telling Python to put the bookmark 0 places from the start of the file."
   ]
  },
  {
   "cell_type": "code",
   "execution_count": 5,
   "id": "8da47dff",
   "metadata": {},
   "outputs": [
    {
     "data": {
      "text/plain": [
       "0"
      ]
     },
     "execution_count": 5,
     "metadata": {},
     "output_type": "execute_result"
    }
   ],
   "source": [
    "test_file.seek(0,0)"
   ]
  },
  {
   "cell_type": "markdown",
   "id": "90f48224",
   "metadata": {},
   "source": [
    "Now let's read in the data and print the results again"
   ]
  },
  {
   "cell_type": "code",
   "execution_count": 6,
   "id": "52b28b4e",
   "metadata": {},
   "outputs": [
    {
     "name": "stdout",
     "output_type": "stream",
     "text": [
      "Warwick AI is the best computing society!\n"
     ]
    }
   ],
   "source": [
    "data = test_file.read()\n",
    "print(data)"
   ]
  },
  {
   "cell_type": "markdown",
   "id": "ae77a1f4",
   "metadata": {},
   "source": [
    "We can also try seeking to the middle of the file as so"
   ]
  },
  {
   "cell_type": "code",
   "execution_count": 7,
   "id": "d268e056",
   "metadata": {},
   "outputs": [
    {
     "name": "stdout",
     "output_type": "stream",
     "text": [
      "AI is the best computing society!\n"
     ]
    }
   ],
   "source": [
    "test_file.seek(8,0)\n",
    "data = test_file.read()\n",
    "print(data)"
   ]
  },
  {
   "cell_type": "markdown",
   "id": "fde0869c",
   "metadata": {},
   "source": [
    "Lastly, we need to make sure we close the file once we're done with it. This is done using ```close()```"
   ]
  },
  {
   "cell_type": "code",
   "execution_count": 8,
   "id": "80df39a5",
   "metadata": {},
   "outputs": [],
   "source": [
    "test_file.close()"
   ]
  },
  {
   "cell_type": "markdown",
   "id": "f320d8aa",
   "metadata": {},
   "source": [
    "Now if we try to read from the file, we will get an error so we can tell that the file is closed."
   ]
  },
  {
   "cell_type": "code",
   "execution_count": 9,
   "id": "37617978",
   "metadata": {},
   "outputs": [
    {
     "ename": "ValueError",
     "evalue": "I/O operation on closed file.",
     "output_type": "error",
     "traceback": [
      "\u001b[1;31m---------------------------------------------------------------------------\u001b[0m",
      "\u001b[1;31mValueError\u001b[0m                                Traceback (most recent call last)",
      "\u001b[1;32m<ipython-input-9-ea84fdc5df52>\u001b[0m in \u001b[0;36m<module>\u001b[1;34m\u001b[0m\n\u001b[1;32m----> 1\u001b[1;33m \u001b[0mtest_file\u001b[0m\u001b[1;33m.\u001b[0m\u001b[0mread\u001b[0m\u001b[1;33m(\u001b[0m\u001b[1;33m)\u001b[0m\u001b[1;33m\u001b[0m\u001b[1;33m\u001b[0m\u001b[0m\n\u001b[0m",
      "\u001b[1;31mValueError\u001b[0m: I/O operation on closed file."
     ]
    }
   ],
   "source": [
    "test_file.read()"
   ]
  },
  {
   "cell_type": "markdown",
   "id": "0a7888f0",
   "metadata": {},
   "source": [
    "### With ... As\n",
    "Instead of using file.close() we can also use Python's ```with ... as``` operator.\n",
    "After using ```with ... as```, we indent our code and once we return from the indent, the file will be closed automatically."
   ]
  },
  {
   "cell_type": "code",
   "execution_count": 10,
   "id": "46a75371",
   "metadata": {},
   "outputs": [
    {
     "name": "stdout",
     "output_type": "stream",
     "text": [
      "Warwick AI is the best computing society!\n"
     ]
    }
   ],
   "source": [
    "with open(\"test.txt\",\"r\") as test_file:\n",
    "    print(test_file.read())"
   ]
  },
  {
   "cell_type": "markdown",
   "id": "9ee6730f",
   "metadata": {},
   "source": [
    "### Binary Files\n",
    "Python also allows us to read in files as binary. This is done by appending a '**b**' to the mode parameter of the ```open()``` method."
   ]
  },
  {
   "cell_type": "code",
   "execution_count": 14,
   "id": "5d29fb04",
   "metadata": {},
   "outputs": [
    {
     "name": "stdout",
     "output_type": "stream",
     "text": [
      "b'Warwick AI is the best computing society!'\n",
      "87\n"
     ]
    },
    {
     "data": {
      "text/plain": [
       "bytes"
      ]
     },
     "execution_count": 14,
     "metadata": {},
     "output_type": "execute_result"
    }
   ],
   "source": [
    "with open(\"test.txt\",\"rb\") as test_file:\n",
    "    data = test_file.read()\n",
    "print(data)\n",
    "print(data[0])\n",
    "type(data)"
   ]
  },
  {
   "cell_type": "markdown",
   "id": "5ce67b10",
   "metadata": {},
   "source": [
    "We can see that data is now a **bytes** object. This is useful for processing any filetype that isn't primarily text based, such as images or audio."
   ]
  },
  {
   "cell_type": "markdown",
   "id": "8cb118df",
   "metadata": {},
   "source": [
    "Binary files also allow us to seek from the current cursor position or from the end of the file. The offset is the number of bytes to move forwards or backwards in the file."
   ]
  },
  {
   "cell_type": "code",
   "execution_count": 16,
   "id": "a7edc375",
   "metadata": {},
   "outputs": [
    {
     "name": "stdout",
     "output_type": "stream",
     "text": [
      "b'iety!'\n"
     ]
    }
   ],
   "source": [
    "with open(\"test.txt\",\"rb\") as test_file:\n",
    "    test_file.seek(-5,2)\n",
    "    print(test_file.read())"
   ]
  },
  {
   "cell_type": "markdown",
   "id": "bc8caf8c",
   "metadata": {},
   "source": [
    "## File Writing\n",
    "Now that we have covered reading from files, we now need to try to write to files.\n",
    "\n",
    "This is done using a different **mode** with the ```open()``` function. The possible modes are as follows:\n",
    "* 'r' &emsp;Read from file, error if file doesn't exist\n",
    "* 'w' &emsp;Write to file, will create/overwrite file\n",
    "* 'x' &emsp;Write to file, will error if file exists\n",
    "* 'a' &emsp;Appending to file, will create/overwrite file\n",
    "* 'b' &emsp;Binary mode\n",
    "* 't' &emsp;Text mode (default)\n",
    "* '+' &emsp;Allows either writing if used as 'r+' or reading if used as 'w+'\n",
    "\n",
    "In this lecture, we will only cover 'w' and 'a', but feel free to explore in your own time!"
   ]
  },
  {
   "cell_type": "markdown",
   "id": "4f6517a7",
   "metadata": {},
   "source": [
    "To begin with, lets open a file called '**test2.txt**' and write some text to it.\n",
    "\n",
    "*Note we don't need to create the file as Python will do that for us!*"
   ]
  },
  {
   "cell_type": "code",
   "execution_count": 8,
   "id": "50ba509c",
   "metadata": {},
   "outputs": [],
   "source": [
    "with open(\"test2.txt\",\"w\") as test_file_2:\n",
    "    test_file_2.write(\"Warwick AI is still the best!\")"
   ]
  },
  {
   "cell_type": "markdown",
   "id": "36bd8a72",
   "metadata": {},
   "source": [
    "Now go to your file explorer and open the file, you should see that the text has been written to it!\n",
    "\n",
    "Now let's try that again, but this time use different text."
   ]
  },
  {
   "cell_type": "code",
   "execution_count": 9,
   "id": "65bc4124",
   "metadata": {},
   "outputs": [],
   "source": [
    "with open(\"test2.txt\",\"w\") as test_file_2:\n",
    "    test_file_2.write(\"I love reading\")"
   ]
  },
  {
   "cell_type": "markdown",
   "id": "fdeef264",
   "metadata": {},
   "source": [
    "We should see that the file has been overwritten with the new text. In some cases, this is useful, however sometimes we will want to append to the file without overwriting the previous content, for example when writing to an application log.\n",
    "\n",
    "We can do this using the '**a**' mode. Try appending some text to 'test2.txt'."
   ]
  },
  {
   "cell_type": "code",
   "execution_count": 10,
   "id": "4fb5af0e",
   "metadata": {},
   "outputs": [],
   "source": [
    "with open(\"test2.txt\",\"a\") as test_file_2:\n",
    "    test_file_2.write(\" and writing files.\")"
   ]
  },
  {
   "cell_type": "markdown",
   "id": "43b70430",
   "metadata": {},
   "source": [
    "Opening the file in notepad, we see that we have appended text to the original file."
   ]
  },
  {
   "cell_type": "markdown",
   "id": "04445981",
   "metadata": {},
   "source": [
    "### One Line at a Time\n",
    "There are many instances where we will want to read a file in parts and process each part separately. For example, if we want to read Comma Separated Values (.csv) files into our program, we will want to read the header line first, then each line individually as each line will contain a new row of data."
   ]
  },
  {
   "cell_type": "markdown",
   "id": "a8cdc298",
   "metadata": {},
   "source": [
    "#### Example CSV\n",
    "Name, StudentNumber, Course  \n",
    "John, 2201234, Biology  \n",
    "Emma, 2109876, Maths  \n",
    "Sophie, 2001234, CompSci  \n",
    "James, 2101234, English  \n",
    "\n",
    "*Note to make this more readable, I've added in spaces, however usually this would not be the case as they would require removal in the program.*"
   ]
  },
  {
   "cell_type": "markdown",
   "id": "86c42157",
   "metadata": {},
   "source": [
    "Fortunately, we can use the ```readline()``` method to do exactly this. First lets open the **test_data.csv** file in **r+** mode so we can read and write to it."
   ]
  },
  {
   "cell_type": "code",
   "execution_count": 28,
   "id": "00a422f6",
   "metadata": {},
   "outputs": [],
   "source": [
    "csv_file = open(\"test_data.csv\",\"r+\")"
   ]
  },
  {
   "cell_type": "markdown",
   "id": "739eeebb",
   "metadata": {},
   "source": [
    "Let's store the headers of the file in a list called ```headers```. This is done by reading the firstline of the file using the ```readine()```, then split the string by '**,**' since this is a csv file.\n",
    "\n",
    "Note you may want to use ```.strip('\\n')``` to remove the trailing newline from the line."
   ]
  },
  {
   "cell_type": "code",
   "execution_count": 29,
   "id": "f7262280",
   "metadata": {},
   "outputs": [
    {
     "name": "stdout",
     "output_type": "stream",
     "text": [
      "['Name', 'Society']\n"
     ]
    }
   ],
   "source": [
    "headers = csv_file.readline().strip('\\n').split(',')\n",
    "print(headers)"
   ]
  },
  {
   "cell_type": "markdown",
   "id": "7761671b",
   "metadata": {},
   "source": [
    "Now lets put the data into a dictionary so that given a name, we can get the society they are in. In order to read all the lines of the file, we can use a ```while``` loop.\n",
    "\n",
    "Note since once we reach the end of the file, ```readline()``` will return an empty string, we can create a stop condition for the loop."
   ]
  },
  {
   "cell_type": "code",
   "execution_count": 30,
   "id": "dd147e6c",
   "metadata": {},
   "outputs": [
    {
     "name": "stdout",
     "output_type": "stream",
     "text": [
      "{'Alistair': 'WAI', 'Tomas': 'WAI', 'Keegan': 'UWCS', 'Alia': 'UWCS', 'Adriano': 'CodeSoc', 'Piotr': 'CodeSoc'}\n"
     ]
    }
   ],
   "source": [
    "data_dict = {}\n",
    "\n",
    "line = csv_file.readline().strip('\\n').split(',')\n",
    "while not line == ['']:\n",
    "    data_dict[line[0]] = line[1]\n",
    "    line = csv_file.readline().strip('\\n').split(',')\n",
    "print(data_dict)"
   ]
  },
  {
   "cell_type": "code",
   "execution_count": 31,
   "id": "b429114c",
   "metadata": {},
   "outputs": [
    {
     "name": "stdout",
     "output_type": "stream",
     "text": [
      "WAI\n"
     ]
    }
   ],
   "source": [
    "print(data_dict['Alistair'])"
   ]
  },
  {
   "cell_type": "markdown",
   "id": "b5a3515d",
   "metadata": {},
   "source": [
    "Hopefully you should see that you can now access the data that was in the csv file using the dictionary. This is just a simple example of how we can use Python to parse CSV files into data structures that are more useful for us as programmers."
   ]
  },
  {
   "cell_type": "markdown",
   "id": "7985d883",
   "metadata": {},
   "source": [
    "Let's also try writing a new line to the file. Unfortunately, Python doesn't have a ```writeline()``` method. However we can use the ```write()``` method to write a new line by prepending a '**\\n**' to our string. \n",
    "\n",
    "Write your name and society into the file, note you will need to use the csv format."
   ]
  },
  {
   "cell_type": "code",
   "execution_count": 32,
   "id": "54ecadd7",
   "metadata": {},
   "outputs": [
    {
     "data": {
      "text/plain": [
       "13"
      ]
     },
     "execution_count": 32,
     "metadata": {},
     "output_type": "execute_result"
    }
   ],
   "source": [
    "csv_file.write(\"\\nAlistair,WAI\")"
   ]
  },
  {
   "cell_type": "markdown",
   "id": "7ff9ac11",
   "metadata": {},
   "source": [
    "Now close the file and open it in the editor to see if it has changed."
   ]
  },
  {
   "cell_type": "code",
   "execution_count": 33,
   "id": "3316fba7",
   "metadata": {},
   "outputs": [],
   "source": [
    "csv_file.close()"
   ]
  },
  {
   "cell_type": "markdown",
   "id": "4f186189",
   "metadata": {},
   "source": [
    "## Command Line Arguments\n",
    "Now we will cover one final useful way of getting input into our program, specifically programs run from the command line.\n",
    "\n",
    "Command line arguments are passed into a program when you run it from the command line and can pass using data into the program or affect the behaviour by specifing certain conditions.\n",
    "\n",
    "For example, running the command **python -c \"<python_code>\"** will run the python code using python, but running **python -V** will print the current version of python."
   ]
  },
  {
   "cell_type": "markdown",
   "id": "af436cd3",
   "metadata": {},
   "source": [
    "![](Cmd_line_args_example.png)"
   ]
  },
  {
   "cell_type": "markdown",
   "id": "7d31027e",
   "metadata": {},
   "source": [
    "Using command line arguments to take input can allow us to create powerful scripts that are suited to a particular task. If you have any experience with Linux or any other command line, you will know how useful command line programs can be, and Python provides the ability to create such programs.\n",
    "\n",
    "Due to the way Notebooks are run, we will have to create a new Python script in order to demonstrate how command line arguments work, however all the syntax will still be explained here."
   ]
  },
  {
   "cell_type": "markdown",
   "id": "982d3674",
   "metadata": {},
   "source": [
    "First, you will need to import the **system** library using ```import sys```. This will allow us to access the command line arguments passed to the script."
   ]
  },
  {
   "cell_type": "markdown",
   "id": "f5e534c6",
   "metadata": {},
   "source": [
    "Using ```sys.argv```, we can access the command line arguments. Note that ```sys.argv``` is actually a list, so we can access indiviual arguments using ```sys.argv[0]```, ```sys.argv[1]```, etc.\n",
    "\n",
    "Access and print out the first command line argument."
   ]
  },
  {
   "cell_type": "markdown",
   "id": "2cabb8ef",
   "metadata": {},
   "source": [
    "![](Cmd_line_args_example2.png)"
   ]
  },
  {
   "cell_type": "markdown",
   "id": "ede5540c",
   "metadata": {},
   "source": [
    "You should notice that the path of the script you are running is printed. The first command line argument is always the path to the script, so there is always one command line argument. Any additional arguments will be in the 2nd index and above."
   ]
  },
  {
   "cell_type": "markdown",
   "id": "04edfee4",
   "metadata": {},
   "source": [
    "Let's take in a username as our first additional argument. Set a ```username``` variable to ```sys.argv[1]``` and print out a greeting to the user. Remember when you run the script, you will need to run it as ```python <script_name> <username>```."
   ]
  },
  {
   "cell_type": "markdown",
   "id": "aea1b87b",
   "metadata": {},
   "source": [
    "![](Cmd_line_args_example3.png)"
   ]
  },
  {
   "cell_type": "markdown",
   "id": "09c9c5ee",
   "metadata": {},
   "source": [
    "Now let's add two optional arguments, **-u** which makes the name uppercase and **-r** which reverses the name. Create two variables to store the potential options. Note that since they are optional, we need to check the length of ```sys.argv``` to see how many arguments have been passed."
   ]
  },
  {
   "cell_type": "markdown",
   "id": "a9f493c2",
   "metadata": {},
   "source": [
    "Use an ```if``` statement to check the length of ```sys.argv``` and set the option variables to the optional arguments if they exist."
   ]
  },
  {
   "cell_type": "markdown",
   "id": "9a224e04",
   "metadata": {},
   "source": [
    "Lastly, we don't want order to matter with the optional arguments, so use another ```if``` statement with the ```or``` operator to check both optional variables for **-u** or **-r**.\n",
    "\n",
    "To set the username to uppercase, use ```user_name.upper()```\n",
    "\n",
    "To reverse the username, you can use techniques from week 3."
   ]
  },
  {
   "cell_type": "markdown",
   "id": "1cd1f700",
   "metadata": {},
   "source": [
    "Finally, print out the greeting with the modified username. Test out the script with a different arguments and see if it works.\n",
    "\n",
    "For example, ```python <script> Alistair -u -r``` should return ```Hello RIATSILA```"
   ]
  },
  {
   "cell_type": "markdown",
   "id": "c6f1d141",
   "metadata": {},
   "source": [
    "![](Cmd_line_args_example4.png)"
   ]
  },
  {
   "cell_type": "markdown",
   "id": "a1ad4d1d",
   "metadata": {},
   "source": [
    "## Libraries\n",
    "We have already used libraries, however it is useful to know exactly what they are.\n",
    "\n",
    "Libraries are a bunch of classes and functions related to a certain funtionality. For example, the ```sys``` library used in the previous section allows us to interact with the system, hence why we can use it to get the command line arguments.\n",
    "\n",
    "Libraries are very useful as they allow us to access powerful functions without having to write lots of code ourselves!"
   ]
  },
  {
   "cell_type": "markdown",
   "id": "eea3f22c",
   "metadata": {},
   "source": [
    "To install a new library, we have to use the ```pip``` commandline command. Go to the terminal and use ```pip help``` to see the options.\n",
    "|Command|Description|\n",
    "|-------|--------|\n",
    "|```pip install <library name>```|Installs a library|\n",
    "|```pip list```|Lists installed libraries|\n",
    "|```pip uninstall <library name>```|Uninstalls a library|\n",
    "\n",
    "To test this, go to the terminal and use ```pip install emoji``` to install the emoji library which allows us to print emojis in our code."
   ]
  },
  {
   "cell_type": "markdown",
   "id": "c307ab0d",
   "metadata": {},
   "source": [
    "![](library_example.png)"
   ]
  },
  {
   "cell_type": "markdown",
   "id": "a9169b4c",
   "metadata": {},
   "source": [
    "To import a library into your code, use ```import <library>``` at the top of the script. Sometimes libraries contain multiple classes and you'll only need to use one, in this case, you can use ```from <library> import <class>``` just to import the required class.\n",
    "\n",
    "In this case, use ```from emoji import emojize``` to import the required functionality.  \n",
    "Then use ```print(':thumbs_up:')```"
   ]
  },
  {
   "cell_type": "code",
   "execution_count": 7,
   "id": "34a52b3f",
   "metadata": {},
   "outputs": [
    {
     "name": "stdout",
     "output_type": "stream",
     "text": [
      "👍\n"
     ]
    }
   ],
   "source": [
    "from emoji import emojize\n",
    "print(emojize(\":thumbs_up:\"))"
   ]
  },
  {
   "cell_type": "markdown",
   "id": "0e0066b9",
   "metadata": {},
   "source": [
    "You should hopefully see that we have printed the thumbs up emoji. This is just a small example, but libraries can provide a lot of useful functionality, and almost all large programs will require external libraries."
   ]
  },
  {
   "cell_type": "markdown",
   "id": "ba547946",
   "metadata": {},
   "source": [
    "Lots of libraries have documentation webpages online, so if you import a library, it's useful to check the documentation to see how various functions work and what arguments they take. \n",
    "\n",
    "Once you can use libraries effectively, a lot of cool functionality becomes really accessible. Libraries can allow you to do anything from running webservers to interacting with hardware to training machine learning models, so it's a good idea to spend some time playing around with them!"
   ]
  }
 ],
 "metadata": {
  "kernelspec": {
   "display_name": "Python 3.8.8 ('base')",
   "language": "python",
   "name": "python3"
  },
  "language_info": {
   "codemirror_mode": {
    "name": "ipython",
    "version": 3
   },
   "file_extension": ".py",
   "mimetype": "text/x-python",
   "name": "python",
   "nbconvert_exporter": "python",
   "pygments_lexer": "ipython3",
   "version": "3.8.8"
  },
  "vscode": {
   "interpreter": {
    "hash": "a08c693456eed66ca7750bd12d0d6082c9dc49d6514892a860380f4ee091e3f1"
   }
  }
 },
 "nbformat": 4,
 "nbformat_minor": 5
}
