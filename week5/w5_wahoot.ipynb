{
 "cells": [
  {
   "cell_type": "markdown",
   "metadata": {},
   "source": [
    "<svg width=\"650\" height=\"212\" viewBox=\"0 0 1300 424\" fill=\"none\" xmlns=\"http://www.w3.org/2000/svg\">\n",
    "<path d=\"M697.088 148.4C644.229 149.248 598.72 193.91 595.328 247.616C592.219 301.606 635.184 349.659 691.152 355.312C747.403 360.966 792.912 316.304 792.912 256.096C792.912 195.606 749.947 147.552 697.088 148.4ZM734.965 260.054C732.704 288.038 715.179 303.302 703.589 304.432C674.475 307.824 649.6 281.536 651.296 247.899C652.992 214.262 666.56 193.344 693.979 192.779C721.397 192.214 738.075 223.59 734.965 260.054Z\" fill=\"#903DC3\"/>\n",
    "<path d=\"M904.848 153.77C851.989 152.922 809.024 200.976 809.024 261.466C809.024 321.957 854.533 366.336 910.784 360.682C967.035 355.029 1010 306.976 1006.61 252.986C1003.5 199.28 957.989 154.901 904.848 153.77ZM898.347 310.085C886.757 308.672 869.515 293.408 866.971 265.706C863.861 229.242 880.539 197.866 907.957 198.432C935.376 198.997 948.944 219.914 950.64 253.552C952.336 286.906 927.461 313.477 898.347 310.085Z\" fill=\"#903DC3\"/>\n",
    "<path d=\"M469.259 139.072L468.128 0L412.16 14.6987L421.205 358.421L476.325 360.4L473.216 182.885C485.371 177.515 525.227 166.491 526.64 210.304L532.011 272.773L535.685 360.683H593.349L571.584 208.891C562.821 120.133 530.315 119.851 469.259 139.072Z\" fill=\"#903DC3\"/>\n",
    "<path d=\"M1229.63 362.379L1213.52 400.257L1248.01 424.001L1281.93 403.931L1267.51 362.379H1229.63Z\" fill=\"#903DC3\"/>\n",
    "<path d=\"M1083.21 55.4024L1039.4 37.3118V128.048L990.496 126.352L999.824 190.8H1039.4L1042.22 344.288C1042.22 344.288 1036.01 399.408 1120.24 386.97C1120.24 386.97 1146.53 379.056 1145.68 360.682V300.192C1145.68 300.192 1127.87 310.65 1108.65 310.65C1089.43 310.65 1089.15 301.322 1089.15 301.322L1084.06 182.602L1145.4 179.21V139.92L1082.36 135.68L1083.21 55.4024Z\" fill=\"#903DC3\"/>\n",
    "<path d=\"M1299.73 55.9679L1183.84 33.9199L1255.07 340.613L1299.73 55.9679Z\" fill=\"#903DC3\"/>\n",
    "<path d=\"M275.349 141.05L290.613 181.189C328.773 158.293 350.256 181.189 350.256 181.189L349.973 206.912C236.341 226.981 265.173 332.133 265.173 332.133C276.763 373.402 314.075 371.989 314.075 371.989H399.157L400.853 180.624C387.568 91.5837 275.349 141.05 275.349 141.05ZM349.973 335.242C349.973 335.242 308.704 345.136 304.181 304.997C304.181 304.997 305.029 242.81 351.387 249.594L349.973 335.242Z\" fill=\"#903DC3\"/>\n",
    "<path d=\"M39 385.5L0 93L51.5 70.5L67.5 305.5L135 194.5L177 292.5L206 37.5L275 23L216.5 385.5L183.5 388.5L120.5 305.5L80 388.5L39 385.5Z\" fill=\"#903DC3\"/>\n",
    "</svg>\n"
   ]
  },
  {
   "cell_type": "markdown",
   "metadata": {},
   "source": [
    "## **The xSoc Python Course Project**\n",
    "#### *Created by Tomas ([Warwick AI]()) and Keegan ([Computing](https://go.uwcs.uk/links))*"
   ]
  },
  {
   "cell_type": "markdown",
   "metadata": {},
   "source": [
    "## Wahoot Project: Persistent Game History"
   ]
  },
  {
   "cell_type": "markdown",
   "metadata": {},
   "source": [
    "Good morning/afternoon/evening/night! It's Week 5, and that means we've got something class-related to implement."
   ]
  },
  {
   "cell_type": "markdown",
   "metadata": {},
   "source": [
    "This week, we'll be extending the `GameHistory` class (in `repositories.py`) to support saving and loading the information it stores. We'll also need to identify places within the game logic where it would be best to call these methods. This week is a bit more open-ended than usual (we're all adults here), but we'll still give some guidance on the steps involved."
   ]
  },
  {
   "cell_type": "markdown",
   "metadata": {},
   "source": [
    "### Saving"
   ]
  },
  {
   "cell_type": "markdown",
   "metadata": {},
   "source": [
    "> Task 1: Implement a `save(self, file_name)` method for the `GameHistory` class, which should take all of the relevant game information and store it in one (or multiple) files. We'd recommend a CSV format, but you could choose JSON (if you know how it works) or even a custom format of your own! The important part is that you'll be able to extract the data later."
   ]
  },
  {
   "cell_type": "markdown",
   "metadata": {},
   "source": [
    "*Note: if you implement `__repr__` for the `Game` and `Player` classes, it could make your life a lot easier...*"
   ]
  },
  {
   "cell_type": "markdown",
   "metadata": {},
   "source": [
    "> Task 2: Find an appropriate place to call the `history.save(file_name)` method within either `Game` or `Player`. Would you want to do it after every question? After a player finishes answering all the questions in a game? Something else? The choice is yours."
   ]
  },
  {
   "cell_type": "markdown",
   "metadata": {},
   "source": [
    "### Loading"
   ]
  },
  {
   "cell_type": "markdown",
   "metadata": {},
   "source": [
    "> Task 3: Implement a `load(self, file_name)` method for the `GameHistory` class, which should read from your file created by `save()` and populate the data stored by the class. The difficulty of this task depends on your chosen format for Task 1."
   ]
  },
  {
   "cell_type": "markdown",
   "metadata": {},
   "source": [
    "> Task 4: Find an appropriate place to call the `history.load(file_name)` method. It might be closer than you think."
   ]
  },
  {
   "cell_type": "markdown",
   "metadata": {},
   "source": [
    "*To be clear: we don't expect you to complete all of these tasks within the Workshop - you can generally consider Wahoot to be more of an extension compared to the main exercises, that you can develop a cool project out of.*"
   ]
  },
  {
   "cell_type": "markdown",
   "metadata": {},
   "source": [
    "🖋️ ***Written by Keegan from the [Computing Society](https://uwcs.co.uk)***"
   ]
  }
 ],
 "metadata": {
  "kernelspec": {
   "display_name": "Python 3.10.6 64-bit",
   "language": "python",
   "name": "python3"
  },
  "language_info": {
   "name": "python",
   "version": "3.10.6"
  },
  "orig_nbformat": 4,
  "vscode": {
   "interpreter": {
    "hash": "7c57092efe4ff60dfd9ba12cd3127c3cb8001227526172b4b54478afc6e523e7"
   }
  }
 },
 "nbformat": 4,
 "nbformat_minor": 2
}
