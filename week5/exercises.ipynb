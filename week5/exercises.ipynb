{
 "cells": [
  {
   "cell_type": "markdown",
   "metadata": {},
   "source": [
    "This week, the tasks are linked! They'll guide you through making a class to represent fractions in Python. \n",
    "\n",
    "*Each task will build towards adding more functionality to this unfinished class below!*"
   ]
  },
  {
   "cell_type": "code",
   "execution_count": null,
   "metadata": {},
   "outputs": [],
   "source": [
    "# !!! Scroll down to the tasks before you start writing anything !!!\n",
    "\n",
    "class Fraction:\n",
    "    # Task 1\n",
    "    def __init__(self):\n",
    "        self.upper = 0\n",
    "        self.lower = 0\n",
    "\n",
    "    def __repr__(self) -> str:\n",
    "        return \"0/0\"\n",
    "\n",
    "    # Task 2\n",
    "    def flip(self) -> \"Fraction\":\n",
    "        return Fraction(0, 0)\n",
    "    \n",
    "    def double(self) -> None:\n",
    "        pass\n",
    "\n",
    "    def square(self) -> None:\n",
    "        pass\n",
    "\n",
    "    # Task 3\n",
    "    def __eq__(self, other) -> bool:\n",
    "        return False\n",
    "    \n",
    "    def __add__(self, other) -> \"Fraction\":\n",
    "        return Fraction(0, 0)\n",
    "    \n",
    "    def __mul__(self, other) -> \"Fraction\":\n",
    "        return Fraction(0, 0)\n",
    "\n",
    "    # Bonus Task\n",
    "    def __radd__(self, other) -> \"Fraction\":\n",
    "        return Fraction(0, 0)\n",
    "    \n",
    "    def __rmul__(self, other) -> \"Fraction\":\n",
    "        return Fraction(0, 0)"
   ]
  },
  {
   "cell_type": "markdown",
   "metadata": {},
   "source": [
    "> Task 1: Create a **Fraction** class, which has two properties `upper` and `lower` which are passed in the constructor.\n",
    "> - You should try to simplify the fraction where possible on creation, and raise an exception if `lower` is 0.\n",
    "> \n",
    "> Also implement `__repr__` which returns a string, representing how the class will be output when printed."
   ]
  },
  {
   "cell_type": "markdown",
   "metadata": {},
   "source": [
    "*Make sure to run the cell containing your class to update it before running the tests! Hitting `Run All` at the top should work fine.*"
   ]
  },
  {
   "cell_type": "code",
   "execution_count": null,
   "metadata": {},
   "outputs": [],
   "source": [
    "# --- Tests for Task 1 ---\n",
    "x = Fraction(5, 2)\n",
    "y = Fraction(4, 6)\n",
    "print(x)  # should return 5/2\n",
    "print(y)  # should return 2/3\n",
    "z = y.flip()\n",
    "print(y)  # should return 3/2\n",
    "a = Fraction(0, 7)\n",
    "print(a)  # what would you like this to return?\n",
    "b = Fraction(7, 0)  # should raise an exception"
   ]
  },
  {
   "cell_type": "markdown",
   "metadata": {},
   "source": [
    ">Task 2: Implement the following three class methods:\n",
    "> - `flip()`, which returns a *new* fraction with the values of upper and lower swapped.\n",
    "> - `double()`, which doubles the value of the *existing* fraction.\n",
    "> - `square()`, which would multiply the *existing* fraction by itself."
   ]
  },
  {
   "cell_type": "code",
   "execution_count": null,
   "metadata": {},
   "outputs": [],
   "source": [
    "# --- Tests for Task 2 ---\n",
    "x = Fraction(4, 3)\n",
    "x = x.flip()\n",
    "print(x)  # Should be 3/4\n",
    "x.double()\n",
    "print(x)  # Should be 3/2 (simplify?)\n",
    "x.square()\n",
    "print(x)  # Should be 9/4\n",
    "y = Fraction(0, 7)\n",
    "y.flip()  # Should raise an exception"
   ]
  },
  {
   "cell_type": "markdown",
   "metadata": {},
   "source": [
    "> Task 3: Implement these double-underscore methods for your **Fraction** class, where `other` is another instance of **Fraction**.\n",
    "> - `__eq__` should determine whether the two fractions are equal.\n",
    "> - `__add__` should return a new fraction that's the sum of the *existing* fraction and *other* fraction. \n",
    "> - `__mul__` should return a new fraction that's the product of the *existing* fraction and *other* fraction."
   ]
  },
  {
   "cell_type": "code",
   "execution_count": null,
   "metadata": {},
   "outputs": [],
   "source": [
    "# --- Tests for Task 3 ---\n",
    "x = Fraction(2, 3)\n",
    "y = Fraction(2, 6)\n",
    "print(x == y)  # Should be false\n",
    "y.double()\n",
    "print(x == y)  # Should be true\n",
    "z = x + y\n",
    "print(z)  # Should be 4/3\n",
    "z *= x\n",
    "print(z)  # Should be 8/9"
   ]
  },
  {
   "cell_type": "markdown",
   "metadata": {},
   "source": [
    "> Bonus Task: Extend the methods you wrote for Task 3, this time assuming that `other` could also be of type `int`. It should behave how you expect a fraction to. Also implement `__radd__` and `__rmul__` to reflect this change.\n",
    "\n",
    "*Hint: `type(variable_name)` will return the type of a `variable_name`, and you can check equality to another type.*"
   ]
  },
  {
   "cell_type": "code",
   "execution_count": null,
   "metadata": {},
   "outputs": [],
   "source": [
    "# Tests for __mul__ and __rmul__\n",
    "x = Fraction(3, 4)\n",
    "y = x * 2\n",
    "print(y)\n",
    "z = 2 * x\n",
    "print(z)\n",
    "# implement for __add__, __radd__, and __eq__?"
   ]
  },
  {
   "cell_type": "markdown",
   "metadata": {},
   "source": [
    "*What other class methods do you think would be useful to add? Feel free to extend it as you want.*"
   ]
  },
  {
   "cell_type": "markdown",
   "metadata": {},
   "source": [
    "---"
   ]
  },
  {
   "cell_type": "markdown",
   "metadata": {},
   "source": [
    "🖋️ *Exercises written by Keegan from the [Computing Society](https://uwcs.co.uk)*"
   ]
  }
 ],
 "metadata": {
  "kernelspec": {
   "display_name": "Python 3.10.6 64-bit",
   "language": "python",
   "name": "python3"
  },
  "language_info": {
   "name": "python",
   "version": "3.10.6"
  },
  "orig_nbformat": 4,
  "vscode": {
   "interpreter": {
    "hash": "7c57092efe4ff60dfd9ba12cd3127c3cb8001227526172b4b54478afc6e523e7"
   }
  }
 },
 "nbformat": 4,
 "nbformat_minor": 2
}
