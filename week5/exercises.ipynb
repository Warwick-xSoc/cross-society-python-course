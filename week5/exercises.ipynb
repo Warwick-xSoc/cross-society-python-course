{
 "cells": [
  {
   "cell_type": "markdown",
   "metadata": {},
   "source": [
    "These exercises will guide you through making a class to represent fractions in Python. With each task, you want to keep adding more functionality to this class!"
   ]
  },
  {
   "cell_type": "code",
   "execution_count": null,
   "metadata": {},
   "outputs": [],
   "source": [
    "# !!! Scroll down to the tasks before you start writing anything !!!\n",
    "\n",
    "class Fraction:\n",
    "    # Task 1\n",
    "    def __init__(self):\n",
    "        self.upper = 0\n",
    "        self.lower = 0\n",
    "\n",
    "    def __repr__(self) -> str:\n",
    "        return \"0/0\"\n",
    "\n",
    "    def flip(self) -> \"Fraction\":\n",
    "        return Fraction(0, 0)\n",
    "\n",
    "    # Task 2\n",
    "    def __eq__(self, other) -> bool:\n",
    "        return False\n",
    "    \n",
    "    def __add__(self, other) -> \"Fraction\":\n",
    "        return Fraction(0, 0)\n",
    "    \n",
    "    def __mul__(self, other) -> \"Fraction\":\n",
    "        return Fraction(0, 0)\n",
    "\n",
    "    # Task 3\n",
    "    def __radd__(self, other) -> \"Fraction\":\n",
    "        return Fraction(0, 0)\n",
    "    \n",
    "    def __rmul__(self, other) -> \"Fraction\":\n",
    "        return Fraction(0, 0)"
   ]
  },
  {
   "cell_type": "markdown",
   "metadata": {},
   "source": [
    "> Task 1: Create a **Fraction** class, which has two properties `upper` and `lower`. You should try to simplify the fraction where possible on creation, and raise an exception if `lower` is 0.\n",
    "> Also implement `__repr__`, which determines how the class will be output when printed, and the `flip()` method, which should return a new fraction where upper and lower are swapped."
   ]
  },
  {
   "cell_type": "markdown",
   "metadata": {},
   "source": [
    "*Make sure to run the cell containing your class to update it before running the tests!*"
   ]
  },
  {
   "cell_type": "code",
   "execution_count": null,
   "metadata": {},
   "outputs": [],
   "source": [
    "# --- Tests for Task 1 ---\n",
    "x = Fraction(5, 2)  \n",
    "y = Fraction(4, 6)  \n",
    "print(x) # should return 5/2\n",
    "print(y) # should return 2/3\n",
    "z = y.flip()\n",
    "print(y) # should return 3/2\n",
    "a = Fraction(0, 7)  # what would you like this to return?\n",
    "b = a.flip()  # should raise an exception\n",
    "print(b)"
   ]
  },
  {
   "cell_type": "markdown",
   "metadata": {},
   "source": [
    "> Task 2: Implement the `__eq__`, `__add__` and `__mul__` double-underscore methods for your **Fraction** class, where `other` is assumed to be another instance of **Fraction**."
   ]
  },
  {
   "cell_type": "code",
   "execution_count": null,
   "metadata": {},
   "outputs": [],
   "source": [
    "# --- Tests for Task 2 ---\n"
   ]
  },
  {
   "cell_type": "markdown",
   "metadata": {},
   "source": [
    "> Task 3: Implement the same methods as in Task 2, but this time assume that `other` could also be of type `int`. It should behave how you expect. Also implement `__radd__` and `__rmul__` to reflect this change.\n",
    "\n",
    "*Hint: `type(variable_name)` will return the type of a `variable_name`, and you can check equality to another type.*"
   ]
  },
  {
   "cell_type": "code",
   "execution_count": null,
   "metadata": {},
   "outputs": [],
   "source": [
    "# --- Tests for Task 3 ---"
   ]
  }
 ],
 "metadata": {
  "kernelspec": {
   "display_name": "Python 3.10.6 64-bit",
   "language": "python",
   "name": "python3"
  },
  "language_info": {
   "name": "python",
   "version": "3.10.6"
  },
  "orig_nbformat": 4,
  "vscode": {
   "interpreter": {
    "hash": "7c57092efe4ff60dfd9ba12cd3127c3cb8001227526172b4b54478afc6e523e7"
   }
  }
 },
 "nbformat": 4,
 "nbformat_minor": 2
}
