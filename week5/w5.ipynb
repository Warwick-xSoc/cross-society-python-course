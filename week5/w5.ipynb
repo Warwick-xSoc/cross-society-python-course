{
 "cells": [
  {
   "cell_type": "markdown",
   "metadata": {},
   "source": [
    "# **xSoc Python Course** - Week 5\n",
    "\n",
    "### *Exception Handling & Classes*\n",
    "\n",
    "🖋️ *Written by Tomas & Alistair from [Warwick AI](https://warwick.ai/)*"
   ]
  },
  {
   "cell_type": "markdown",
   "metadata": {},
   "source": [
    "In this lecture we will aim to cover:\n",
    "- OOP\n",
    "- Decorators\n",
    "- Exception Handling"
   ]
  },
  {
   "cell_type": "markdown",
   "metadata": {},
   "source": [
    "## Object Oriented Programming"
   ]
  },
  {
   "cell_type": "markdown",
   "metadata": {},
   "source": [
    "Suppose we want to represent shapes.\n",
    "Your first instinct might be to use a dictionary. You could then define some functions that e.g. calculate the area."
   ]
  },
  {
   "cell_type": "code",
   "execution_count": null,
   "metadata": {},
   "outputs": [],
   "source": [
    "square = {\n",
    "    \"side\": 3,\n",
    "    \"color\": \"red\"\n",
    "}\n",
    "\n",
    "\n",
    "def calculate_area(shape):\n",
    "    return shape[\"side\"] ** 2"
   ]
  },
  {
   "cell_type": "markdown",
   "metadata": {},
   "source": [
    "What happens if we also want to represent a circle?"
   ]
  },
  {
   "cell_type": "code",
   "execution_count": null,
   "metadata": {},
   "outputs": [],
   "source": [
    "from math import pi\n",
    "\n",
    "circle = {\n",
    "    \"radius\": 10,\n",
    "    \"color\": \"blue\"\n",
    "}\n",
    "\n",
    "def calculate_area_circle(shape):\n",
    "    return pi * circle[\"radius\"] ** 2"
   ]
  },
  {
   "cell_type": "markdown",
   "metadata": {},
   "source": [
    "There are a few issues with these representations.\n",
    "First, because a dictionary is a dynamic data structure, if you mispel a key name, this will only be caught at run-time. This also means that IDEs (such as Visual Studio Code) won't be able to provide you with helpful hints.\n",
    "Secondly, we've had to create two different functions to calculate the area of a shape. If we add another shape, for example,\n",
    "an equilateral triangle, we'd need to create a third function!\n",
    "\n",
    "Finally, suppose we have a list of shapes and we want to find out what the largest area is.\n",
    "How do we decide how to calculate the area?"
   ]
  },
  {
   "cell_type": "code",
   "execution_count": null,
   "metadata": {},
   "outputs": [],
   "source": [
    "shapes = [square, circle]\n",
    "\n",
    "for shape in shapes:\n",
    "    # area = ???\n",
    "    pass"
   ]
  },
  {
   "cell_type": "markdown",
   "metadata": {},
   "source": [
    "By now you've probably noticed that with each new shape, we're increasing the complexity of our code.\n",
    "Not all hope is lost though, we can use object-oriented programming (OOP)."
   ]
  },
  {
   "cell_type": "markdown",
   "metadata": {},
   "source": [
    "### Objects everywhere\n",
    "In Python, **everything** is an object!"
   ]
  },
  {
   "cell_type": "code",
   "execution_count": 7,
   "metadata": {},
   "outputs": [
    {
     "name": "stdout",
     "output_type": "stream",
     "text": [
      "<class 'function'>\n",
      "<class 'int'>\n",
      "<class 'str'>\n"
     ]
    }
   ],
   "source": [
    "def hello_world():\n",
    "    print(\"hello world!\")\n",
    "\n",
    "print(hello_world.__class__)\n",
    "print((20).__class__)\n",
    "print(\"WAI\".__class__)"
   ]
  },
  {
   "cell_type": "markdown",
   "metadata": {},
   "source": [
    "A `class` can be thought of as a \"blueprint\" for an object, it defines what properties or attributes the object will have (e.g. the color of the shape),\n",
    "and methods or \"behaviours\" (e.g. `calculate_area`), which may operate on the attributes of the object. \n",
    "An object is said to be *an instance of* a particular class.\n",
    "\n",
    "Let's look at a more concrete example by representing a person with a class step-by-step.\n",
    "\n",
    "First, we start by declaring our class. This is done using the `class` keyword, and we specify the name of our class after.\n",
    "It's good practice to name our classes using `CamelCase`!"
   ]
  },
  {
   "cell_type": "code",
   "execution_count": null,
   "metadata": {},
   "outputs": [],
   "source": [
    "class Person:\n",
    "    pass"
   ]
  },
  {
   "cell_type": "markdown",
   "metadata": {},
   "source": [
    "We can now create an *instance* of Person with the same notation used to call functions!\n",
    "`my_person` is an instance of `Person`."
   ]
  },
  {
   "cell_type": "code",
   "execution_count": null,
   "metadata": {},
   "outputs": [],
   "source": [
    "my_person = Person()"
   ]
  },
  {
   "cell_type": "markdown",
   "metadata": {},
   "source": [
    "Great, we've defined a Person class, but this doesn't really do much right now.\n",
    "What characteristics might we want to store about a person? These will determine what the attributes our objects will have.\n",
    "To keep things simple, let's consider a person's name, age, and profession.\n",
    "\n",
    "We need to update our \"blueprint\", the `Person` class, so that instances of this class contain these attributes!\n",
    "This is done using a constructor. The constructor is a special method used to define how instances of the `Person` class\n",
    "should be initialized. When we instantiate a new instance of `Person` with `my_person = Person()`, Python will attempt to invoke\n",
    "a method called `__init__` if it exists.\n",
    "\n",
    "In order to define a constructor, we define a method, more precisely an instance method, with the name `__init__`\n",
    "in our class (**important:** note the indentation of the method).\n",
    "\n",
    "Instance methods are \"attached\" to an object and they can refer to other methods and attributes of the object.\n",
    "To that end, we need to be able to refer to the object which owns the instance method.\n",
    "This is done by adding a `self` parameter to **every** instance method. This parameter **must** also be the first\n",
    "parameter of every instance method.\n",
    "\n",
    "Below we have added a constructor to the `Person` class. It takes `self` (the object which was just created), the name of the\n",
    "person, age, and profession as parameters and then we \"store\" these in the new object. We can access and set the attributes\n",
    "of an object using a `.` followed by the attribute name as shown below.\n",
    "\n",
    "You may have also noticed that this method starts and ends with `__`. \n",
    "There are other methods named in a similar way.\n",
    "These methods are often called *magic methods* and used to defined very specific behaviours (If you're curious you can find out more [here](https://docs.python.org/3/reference/datamodel.html#special-method-names))."
   ]
  },
  {
   "cell_type": "code",
   "execution_count": null,
   "metadata": {},
   "outputs": [],
   "source": [
    "class Person:\n",
    "    def __init__(self, name, age, profession):\n",
    "        self.name = name\n",
    "        self.age = age\n",
    "        self.profession = profession"
   ]
  },
  {
   "cell_type": "markdown",
   "metadata": {},
   "source": [
    "Now we can instantiate a person like so."
   ]
  },
  {
   "cell_type": "code",
   "execution_count": null,
   "metadata": {},
   "outputs": [],
   "source": [
    "my_person = Person(\"tomas\", 20, \"computer scientist\")\n",
    "\n",
    "print(my_person.name)\n",
    "print(my_person.age)"
   ]
  },
  {
   "cell_type": "markdown",
   "metadata": {},
   "source": [
    "**[INSERT diagram for class vs object]**"
   ]
  },
  {
   "cell_type": "code",
   "execution_count": 4,
   "metadata": {},
   "outputs": [
    {
     "name": "stdout",
     "output_type": "stream",
     "text": [
      "I'm tomas, 20 years old. I'm a student\n"
     ]
    }
   ],
   "source": [
    "class Animal:\n",
    "    SPECIES = 'Unknowm'\n",
    "\n",
    "class Person(Animal):\n",
    "    SPECIES = 'Homo Sapiens'\n",
    "\n",
    "    def __init__(self, name, age, profession):\n",
    "        self.name = name\n",
    "        self.age = age\n",
    "        self.profession = profession\n",
    "    \n",
    "    def describe(self):\n",
    "        print(f\"I'm {self.name}, {self.age} years old. I'm a {self.profession}.\")\n",
    "\n",
    "    def __repr__(self):\n",
    "        return f\"Person(name={self.name}, age={self.age}, profession={self.profession})\"\n",
    "\n",
    "tomas = Person(name=\"tomas\", age=20, profession=\"student\")\n",
    "tomas.describe()"
   ]
  },
  {
   "cell_type": "markdown",
   "metadata": {},
   "source": [
    "Let's break this down.\n",
    "\n",
    "First, we have a `Person` class, and `tomas` is an *instance* of `Person`.\n",
    "\n",
    "The functions defined inside the `Person` class, namely `__init__`, `describe`, `__repr__`, are called\n",
    "instance methods and they belong to an instance of `Person` (e.g. `tomas`).\n",
    "\n",
    "They can refer to other methods and attributes that belong to the same object. For example, `describe` refers to the name, age, and profession\n",
    "of the person (an object). This is done using the parameter `self` which refers to the object which \"owns\" this method.\n",
    "\n",
    "You may have also noticed that some of these methods start and end with `__`.\n",
    "These are called *magic methods* and used to defined very specific behaviours.\n",
    "We can create an instance of `Person` by \"calling\" the class as a function, and passing any parameters required e.g.\n",
    "\n",
    "`Person(name=\"tomas\", age=20, profession=\"student\")`.\n",
    "\n",
    "This will create our object and call `__init__` with our new object (`self`) and any other parameters.\n",
    "`__init__` is called a constructor and it's used to initialize instances of a class. In the example above, we initialize the new `Person` object\n",
    "with the given name, age, and profession. These are called the *instance attributes* and they are attached to an instance of the class.\n",
    "\n",
    "For example, if we create a new instance of `Person`, the attribute `name` of this instance will be different\n",
    "from the `name` of `tomas`.\n"
   ]
  },
  {
   "cell_type": "code",
   "execution_count": null,
   "metadata": {},
   "outputs": [],
   "source": [
    "other_person = Person(name=\"john doe\", age=55, profession=\"epic rust programmer\")\n",
    "\n",
    "print(other_person.name)\n",
    "print(tomas.name)"
   ]
  },
  {
   "cell_type": "markdown",
   "metadata": {},
   "source": [
    "TBD:\n",
    "- polymorphism/abstraction/encapsulation/inheritance a little bit\n",
    "- attributes (class and instance atttr)\n",
    "- inheritance example\n",
    "- then intermission on anotations\n",
    "- static and class methods"
   ]
  },
  {
   "cell_type": "code",
   "execution_count": null,
   "metadata": {},
   "outputs": [],
   "source": [
    "class ComputerScientist(Person):\n",
    "    def __init__(self, name, age):\n",
    "        super().__init__(self, name, age, profession=\"Computer Scientist\")\n",
    "\n",
    "    def write_code(self):\n",
    "        print(\"print('hello world')\")"
   ]
  },
  {
   "cell_type": "markdown",
   "metadata": {},
   "source": [
    "### Intermission: Decorators\n",
    "Before we continue exploring classes...\n"
   ]
  },
  {
   "cell_type": "markdown",
   "metadata": {},
   "source": []
  },
  {
   "cell_type": "markdown",
   "metadata": {},
   "source": [
    "🖋️ ***This week was written by Tomas & Alistair from [Warwick AI](https://warwick.ai/)***"
   ]
  }
 ],
 "metadata": {
  "kernelspec": {
   "display_name": "Python 3.10.2 64-bit",
   "language": "python",
   "name": "python3"
  },
  "language_info": {
   "codemirror_mode": {
    "name": "ipython",
    "version": 3
   },
   "file_extension": ".py",
   "mimetype": "text/x-python",
   "name": "python",
   "nbconvert_exporter": "python",
   "pygments_lexer": "ipython3",
   "version": "3.10.2"
  },
  "orig_nbformat": 4,
  "vscode": {
   "interpreter": {
    "hash": "9e7342ba0ab402af88d570c19a0b1c8a8c78f2edbd6d0204fb59a98d1c2d2ef0"
   }
  }
 },
 "nbformat": 4,
 "nbformat_minor": 2
}
