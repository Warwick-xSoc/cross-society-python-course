{
 "cells": [
  {
   "cell_type": "markdown",
   "metadata": {},
   "source": [
    "# **xSoc Python Course** - Week 5\n",
    "\n",
    "### *Exception Handling & Classes*\n",
    "\n",
    "🖋️ *Written by Tomas & Alistair from [Warwick AI](https://warwick.ai/)*"
   ]
  },
  {
   "cell_type": "markdown",
   "metadata": {},
   "source": [
    "In this lecture we will aim to cover:\n",
    "- OOP\n",
    "- Decorators\n",
    "- Exception Handling"
   ]
  },
  {
   "cell_type": "markdown",
   "metadata": {},
   "source": [
    "## Object Oriented Programming"
   ]
  },
  {
   "cell_type": "markdown",
   "metadata": {},
   "source": [
    "Suppose we want to represent shapes.\n",
    "Your first instinct might be to use a dictionary. You could then define some functions that e.g. calculate the area."
   ]
  },
  {
   "cell_type": "code",
   "execution_count": null,
   "metadata": {},
   "outputs": [],
   "source": [
    "square = {\n",
    "    \"side\": 3,\n",
    "    \"color\": \"red\"\n",
    "}\n",
    "\n",
    "\n",
    "def calculate_area(shape):\n",
    "    return shape[\"side\"] ** 2"
   ]
  },
  {
   "cell_type": "markdown",
   "metadata": {},
   "source": [
    "What happens if we also want to represent a circle?"
   ]
  },
  {
   "cell_type": "code",
   "execution_count": null,
   "metadata": {},
   "outputs": [],
   "source": [
    "from math import pi\n",
    "\n",
    "circle = {\n",
    "    \"radius\": 10,\n",
    "    \"color\": \"blue\"\n",
    "}\n",
    "\n",
    "def calculate_area_circle(shape):\n",
    "    return pi * circle[\"radius\"] ** 2"
   ]
  },
  {
   "cell_type": "markdown",
   "metadata": {},
   "source": [
    "There are a few issues with these representations.\n",
    "First, because a dictionary is a dynamic data structure, if you mispel a key name, this will only be caught at run-time. This also means that IDEs (such as Visual Studio Code) won't be able to provide you with helpful hints.\n",
    "Secondly, we've had to create two different functions to calculate the area of a shape. If we add another shape, for example,\n",
    "an equilateral triangle, we'd need to create a third function!\n",
    "\n",
    "Finally, suppose we have a list of shapes and we want to find out what the largest area is.\n",
    "How do we decide how to calculate the area?"
   ]
  },
  {
   "cell_type": "code",
   "execution_count": null,
   "metadata": {},
   "outputs": [],
   "source": [
    "shapes = [square, circle]\n",
    "\n",
    "for shape in shapes:\n",
    "    # area = ???\n",
    "    pass"
   ]
  },
  {
   "cell_type": "markdown",
   "metadata": {},
   "source": [
    "By now you've probably noticed that with each new shape, we're increasing the complexity of our code.\n",
    "Not all hope is lost though, we can use object-oriented programming (OOP)."
   ]
  },
  {
   "cell_type": "markdown",
   "metadata": {},
   "source": [
    "### Objects everywhere\n",
    "In Python, **everything** is an object!"
   ]
  },
  {
   "cell_type": "code",
   "execution_count": 7,
   "metadata": {},
   "outputs": [
    {
     "name": "stdout",
     "output_type": "stream",
     "text": [
      "<class 'function'>\n",
      "<class 'int'>\n",
      "<class 'str'>\n"
     ]
    }
   ],
   "source": [
    "def hello_world():\n",
    "    print(\"hello world!\")\n",
    "\n",
    "print(hello_world.__class__)\n",
    "print((20).__class__)\n",
    "print(\"WAI\".__class__)"
   ]
  },
  {
   "cell_type": "markdown",
   "metadata": {},
   "source": [
    "A `class` can be thought of as a \"blueprint\" for an object, it defines what properties or attributes the object will have (e.g. the color of the shape),\n",
    "and methods or \"behaviours\" (e.g. `calculate_area`), which may operate on the attributes of the object. \n",
    "An object is said to be *an instance of* a particular class.\n",
    "\n",
    "Let's look at a more concrete example by representing a person with a class step-by-step.\n",
    "\n",
    "First, we start by declaring our class. This is done using the `class` keyword, and we specify the name of our class after.\n",
    "It's good practice to name our classes using `CamelCase`!"
   ]
  },
  {
   "cell_type": "code",
   "execution_count": null,
   "metadata": {},
   "outputs": [],
   "source": [
    "class Person:\n",
    "    pass"
   ]
  },
  {
   "cell_type": "markdown",
   "metadata": {},
   "source": [
    "We can now create an *instance* of Person with the same notation used to call functions!\n",
    "`my_person` is an instance of `Person`."
   ]
  },
  {
   "cell_type": "code",
   "execution_count": null,
   "metadata": {},
   "outputs": [],
   "source": [
    "my_person = Person()"
   ]
  },
  {
   "cell_type": "markdown",
   "metadata": {},
   "source": [
    "Great, we've defined a Person class, but this doesn't really do much right now.\n",
    "What characteristics might we want to store about a person? These will determine what the attributes our objects will have.\n",
    "To keep things simple, let's consider a person's name, age, and profession.\n",
    "\n",
    "We need to update our \"blueprint\", the `Person` class, so that instances of this class contain these attributes!\n",
    "This is done using a constructor. The constructor is a special method used to define how instances of the `Person` class\n",
    "should be initialized. When we instantiate a new instance of `Person` with `my_person = Person()`, Python will attempt to invoke\n",
    "a method called `__init__` if it exists.\n",
    "\n",
    "In order to define a constructor, we define a method, more precisely an instance method, with the name `__init__`\n",
    "in our class (**important:** note the indentation of the method).\n",
    "\n",
    "Instance methods are \"attached\" to an object and they can refer to other methods and attributes of the object.\n",
    "To that end, we need to be able to refer to the object which owns the instance method.\n",
    "This is done by adding a `self` parameter to **every** instance method. This parameter **must** also be the first\n",
    "parameter of every instance method.\n",
    "\n",
    "Below we have added a constructor to the `Person` class. It takes `self` (the object which was just created), the name of the\n",
    "person, age, and profession as parameters and then we \"store\" these in the new object. We can access and set the attributes\n",
    "of an object using a `.` followed by the attribute name as shown below.\n",
    "\n",
    "You may have also noticed that this method starts and ends with `__`. \n",
    "There are other methods named in a similar way.\n",
    "These methods are often called *magic methods* and used to defined very specific behaviours (If you're curious you can find out more [here](https://docs.python.org/3/reference/datamodel.html#special-method-names))."
   ]
  },
  {
   "cell_type": "code",
   "execution_count": 3,
   "metadata": {},
   "outputs": [],
   "source": [
    "class Person:\n",
    "    def __init__(self, name, age, profession):\n",
    "        self.name = name\n",
    "        self.age = age\n",
    "        self.profession = profession"
   ]
  },
  {
   "cell_type": "markdown",
   "metadata": {},
   "source": [
    "Now we can instantiate a person like so."
   ]
  },
  {
   "cell_type": "code",
   "execution_count": null,
   "metadata": {},
   "outputs": [],
   "source": [
    "my_person = Person(\"tomas\", 20, \"computer scientist\")\n",
    "\n",
    "print(my_person.name)\n",
    "print(my_person.age)"
   ]
  },
  {
   "cell_type": "markdown",
   "metadata": {},
   "source": [
    "We can also define other \"behaviors\" for each instance of `Person`.\n",
    "Let's define an instance method called `introduce` which introduces a new person.\n",
    "This is done using the same syntax used to define `__init__`. Again, we must take `self` as the first parameter.\n",
    "\n",
    "We form a new string which contains the person's name, age, and profession using the same syntax introduced before and print it.\n",
    "\n",
    "We can then invoke `introduce` by using the `.` syntax and the syntax we used to invoke \"normal\" functions.\n",
    "Note that, while `self` is a required parameter for `introduce`, we don't need to explictly pass it to `introduce`."
   ]
  },
  {
   "cell_type": "code",
   "execution_count": null,
   "metadata": {},
   "outputs": [],
   "source": [
    "class Person:\n",
    "    def __init__(self, name, age, profession):\n",
    "        self.name = name\n",
    "        self.age = age\n",
    "        self.profession = profession\n",
    "\n",
    "    def introduce(self):\n",
    "        print(f\"I'm {self.name}, {self.age} years old. I'm a {self.profession}.\")\n",
    "\n",
    "my_person = Person(\"tomas\", 20, \"computer scientist\")\n",
    "my_person.introduce()"
   ]
  },
  {
   "cell_type": "markdown",
   "metadata": {},
   "source": [
    "> Task 1: Complete the `eat` method which will allow instances of `Person` to eat.\n",
    "\n",
    "`eat` should take the food name as a parameter and return \"\\<Name of the person\\> is eating \\<name of the food\\>\""
   ]
  },
  {
   "cell_type": "code",
   "execution_count": null,
   "metadata": {},
   "outputs": [],
   "source": [
    "class Person:\n",
    "    def __init__(self, name, age, profession):\n",
    "        self.name = name\n",
    "        self.age = age\n",
    "        self.profession = profession\n",
    "\n",
    "    def introduce(self):\n",
    "        print(f\"I'm {self.name}, {self.age} years old. I'm a {self.profession}.\")\n",
    "    \n",
    "    def eat(self, food):\n",
    "        return \"\"\n",
    "\n",
    "my_person = Person(\"tomas\", 20, \"computer scientist\")\n",
    "my_person.introduce()\n",
    "\n",
    "\n",
    "# DO NOT MODIFY\n",
    "assert my_person.eat(\"pasta\") == \"tomas is eating pasta\", \"Test failed: Something went wrong, expected 'tomas is eating pasta'\""
   ]
  },
  {
   "cell_type": "markdown",
   "metadata": {},
   "source": [
    "We can now represent a person with attributes name, age, and profession. We can introduce a person, and a person can eat."
   ]
  },
  {
   "cell_type": "markdown",
   "metadata": {},
   "source": [
    "### Inheritance\n",
    "People with different professions can do different tasks. For example, a doctor can treat a person and a computer scientist\n",
    "can write code.\n",
    "\n",
    "We can define a `ComputerScientist` and `Doctor` class and define any profession-specific tasks for each one.\n",
    "However, computer scientists and doctors are still people, and will also have a name, age, and profession."
   ]
  },
  {
   "cell_type": "code",
   "execution_count": null,
   "metadata": {},
   "outputs": [],
   "source": [
    "class ComputerScientist:\n",
    "    def __init__(self, name, age, profession):\n",
    "        self.name = name\n",
    "        self.age = age\n",
    "        self.profession = \"computer scientist\"\n",
    "\n",
    "    def introduce(self):\n",
    "        print(f\"I'm {self.name}, {self.age} years old. I'm a {self.profession}.\")\n",
    "    \n",
    "    def eat(self, food):\n",
    "        return \"\"\n",
    "    \n",
    "    def write_code(self):\n",
    "        print(\"010101010000111001 code go brrrrrr\")\n",
    "    \n",
    "class Doctor:\n",
    "    def __init__(self, name, age, profession):\n",
    "        self.name = name\n",
    "        self.age = age\n",
    "        self.profession = \"doctor\"\n",
    "\n",
    "    def introduce(self):\n",
    "        print(f\"I'm {self.name}, {self.age} years old. I'm a {self.profession}.\")\n",
    "    \n",
    "    def eat(self, food):\n",
    "        return \"\"\n",
    "    \n",
    "    def treat_person(self):\n",
    "        print(\"Treating a person...\")"
   ]
  },
  {
   "cell_type": "markdown",
   "metadata": {},
   "source": [
    "Can you spot what's wrong with the above implementation?\n",
    "We're repeating the code for the constructor, introduce and, eat. The main difference is the profession specific method!\n",
    "What if we want to change how a person should be introduced? We'd have to update the `introduce` method in `Person`, `ComputerScientist`, `Doctor`.\n",
    "\n",
    "We can use *inheritance* to simplify our code, improve its maintainability, reduce development costs (avoids the scenario above which could introduce bugs!),\n",
    "and avoid repeating code."
   ]
  },
  {
   "cell_type": "code",
   "execution_count": 13,
   "metadata": {},
   "outputs": [
    {
     "name": "stdout",
     "output_type": "stream",
     "text": [
      "010101010000111001 code go brrrrrr\n",
      "Treating a person...\n"
     ]
    }
   ],
   "source": [
    "class ComputerScientist(Person):\n",
    "    def __init__(self, name, age):\n",
    "        super().__init__(name, age, \"computer scientist\")\n",
    "    \n",
    "    def write_code(self):\n",
    "        print(\"010101010000111001 code go brrrrrr\")\n",
    "    \n",
    "class Doctor(Person):\n",
    "    def __init__(self, name, age):\n",
    "        super().__init__(name, age, \"computer scientist\")\n",
    "    \n",
    "    def treat_person(self):\n",
    "        print(\"Treating a person...\")\n",
    "\n",
    "donald_knuth = ComputerScientist(\"donald knuth\", 84)\n",
    "donald_knuth.write_code()\n",
    "\n",
    "doctor = Doctor(\"John Doe\", 65)\n",
    "doctor.treat_person()"
   ]
  },
  {
   "cell_type": "markdown",
   "metadata": {},
   "source": [
    "**[INSERT diagram for class vs object]**"
   ]
  },
  {
   "cell_type": "markdown",
   "metadata": {},
   "source": [
    "TBD:\n",
    "- polymorphism/abstraction/encapsulation/inheritance a little bit\n",
    "- attributes (class and instance atttr)\n",
    "- inheritance example\n",
    "- then intermission on anotations\n",
    "- static and class methods"
   ]
  },
  {
   "cell_type": "code",
   "execution_count": null,
   "metadata": {},
   "outputs": [],
   "source": [
    "class ComputerScientist(Person):\n",
    "    def __init__(self, name, age):\n",
    "        super().__init__(self, name, age, profession=\"Computer Scientist\")\n",
    "\n",
    "    def write_code(self):\n",
    "        print(\"print('hello world')\")"
   ]
  },
  {
   "cell_type": "markdown",
   "metadata": {},
   "source": [
    "### Intermission: Decorators\n",
    "Before we continue exploring classes...\n"
   ]
  },
  {
   "cell_type": "markdown",
   "metadata": {},
   "source": []
  },
  {
   "cell_type": "markdown",
   "metadata": {},
   "source": [
    "🖋️ ***This week was written by Tomas & Alistair from [Warwick AI](https://warwick.ai/)***"
   ]
  }
 ],
 "metadata": {
  "kernelspec": {
   "display_name": "Python 3.10.2 64-bit",
   "language": "python",
   "name": "python3"
  },
  "language_info": {
   "codemirror_mode": {
    "name": "ipython",
    "version": 3
   },
   "file_extension": ".py",
   "mimetype": "text/x-python",
   "name": "python",
   "nbconvert_exporter": "python",
   "pygments_lexer": "ipython3",
   "version": "3.10.2"
  },
  "orig_nbformat": 4,
  "vscode": {
   "interpreter": {
    "hash": "9e7342ba0ab402af88d570c19a0b1c8a8c78f2edbd6d0204fb59a98d1c2d2ef0"
   }
  }
 },
 "nbformat": 4,
 "nbformat_minor": 2
}
