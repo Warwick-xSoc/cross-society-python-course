{
 "cells": [
  {
   "cell_type": "markdown",
   "metadata": {},
   "source": [
    "# **xSoc Python Course** - Week 5\n",
    "\n",
    "### *Exception Handling & Classes*\n",
    "\n",
    "🖋️ *Written by Tomas & Alistair from [Warwick AI]()*"
   ]
  },
  {
   "cell_type": "code",
   "execution_count": null,
   "metadata": {},
   "outputs": [],
   "source": [
    "class Vector:\n",
    "    def __init__(self):\n",
    "        pass\n",
    "\n",
    "    def __mul__(self, other):\n",
    "        \"\"\"\n",
    "        Dot product with other vector\n",
    "        \"\"\"\n",
    "        pass\n",
    "\n",
    "    def __rmul__(self, other):\n",
    "        pass\n",
    "\n",
    "    def __add__(self, other):\n",
    "        \"\"\"\n",
    "        Add vectors\n",
    "        \"\"\"\n",
    "        pass\n",
    "\n",
    "    def __radd__(self, other):\n",
    "        return self + other\n",
    "\n",
    "    @property\n",
    "    def magnitude(self):\n",
    "        pass"
   ]
  },
  {
   "cell_type": "markdown",
   "metadata": {},
   "source": [
    "🖋️ ***This week was written by Tomas & Alistair from [Warwick AI]()***"
   ]
  }
 ],
 "metadata": {
  "kernelspec": {
   "display_name": "Python 3.10.2 64-bit",
   "language": "python",
   "name": "python3"
  },
  "language_info": {
   "name": "python",
   "version": "3.10.2"
  },
  "orig_nbformat": 4,
  "vscode": {
   "interpreter": {
    "hash": "9e7342ba0ab402af88d570c19a0b1c8a8c78f2edbd6d0204fb59a98d1c2d2ef0"
   }
  }
 },
 "nbformat": 4,
 "nbformat_minor": 2
}
