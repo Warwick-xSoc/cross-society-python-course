{
 "cells": [
  {
   "cell_type": "markdown",
   "metadata": {},
   "source": [
    "# xSoc Python Course - Week 6\n",
    "\n",
    "The end is in sight! This week's content is going to focus on efficiency, compactness and making multiple python files work together."
   ]
  },
  {
   "cell_type": "markdown",
   "metadata": {},
   "source": [
    "### Recursion\n",
    "**Recursion** means defining a function in terms of itself; you'll call the function you're writing inside itself. Every recursive function has to have 3 features:\n",
    "- **Base case**: the non-recursive case, which returns an actual value (or none!)\n",
    "- **General case**: the recursive case, which makes a call to the function again. Each call should move you closer to reaching the base case\n",
    "- You ***must*** reach a base case after a finite number of function calls. Bad things happen if you don't\n",
    "\n",
    "Have a look at this code snippet:"
   ]
  },
  {
   "cell_type": "code",
   "execution_count": null,
   "metadata": {},
   "outputs": [],
   "source": [
    "current = 1\n",
    "previous = 1\n",
    "\n",
    "for i in range(5):\n",
    "    print(previous)\n",
    "    temp = current\n",
    "    current += previous\n",
    "    previous = temp\n"
   ]
  },
  {
   "cell_type": "markdown",
   "metadata": {},
   "source": [
    "Hopefully, you'll recognise the first 5 terms of the Fibonacci sequence. If you look closely however, this loop fufills the criteria for a recursive function:\n",
    "- Base case: have we printed out 5 terms?\n",
    "- General case: printing the next term, updating the values of previous and current\n",
    "- At each general case, we increment a counter variable by 1\n",
    "\n",
    "Here's the Fibonacci code rewritten to be a recursive function:"
   ]
  },
  {
   "cell_type": "code",
   "execution_count": null,
   "metadata": {},
   "outputs": [],
   "source": [
    "def recursive_fibonacci(counter, previous, current):\n",
    "    if counter > 4:\n",
    "        return\n",
    "    else:\n",
    "        print(previous)\n",
    "        return recursive_fibonacci(counter+1, current, current+previous)\n",
    "\n",
    "recursive_fibonacci(0, 1, 1)"
   ]
  },
  {
   "cell_type": "markdown",
   "metadata": {},
   "source": [
    "Note that this function looks nicer than the previous for loop. In general, recursion is preferred because it's often more succinct and easier to follow.\n",
    "> Task: Modify the `recursive_fibonacci()` function so that the user can change how many terms are printed out\n",
    ">\n",
    "> Task: Which of the following snippets can be re-written to be recursive functions? Where possible, implement the recursive function."
   ]
  },
  {
   "cell_type": "markdown",
   "metadata": {},
   "source": [
    "1)\n",
    "<pre><code>from random import randint\n",
    "\n",
    "for i in range(0, 100, 2): #the loop will start at 0, increment i by 2 each time, and stop when i > 100\n",
    "    total += i * randint(1,11) * randint(1,11)  #randint(1,11) generates a random integer between 1 and 10\n",
    "    if total > 75:\n",
    "        break\n",
    "</code></pre>"
   ]
  },
  {
   "cell_type": "markdown",
   "metadata": {},
   "source": [
    "2)\n",
    "<pre><code>from random import randint\n",
    "\n",
    "i = 0\n",
    "while i < 100:\n",
    "    total += i * randint(1,11) * randint(1,11)\n",
    "</code></pre>"
   ]
  },
  {
   "cell_type": "markdown",
   "metadata": {},
   "source": [
    "3)\n",
    "<pre><code>def isPalindrome(str):\n",
    "    i = 0\n",
    "    j = len(str) - 1\n",
    "    while (i != j and str[i] == str[j]):\n",
    "        i += 1\n",
    "        j -= 1\n",
    "    return i == j\n",
    "</code></pre>"
   ]
  },
  {
   "cell_type": "markdown",
   "metadata": {},
   "source": [
    "### A Few Useful Data Structures\n",
    "A ***set*** is a collection that is unordered, unindexed and does not allow duplicate values. Just like with lists, sets can contain elements of different types.\n",
    "\n",
    "The syntax for declaring a set is:\n",
    "<pre><code>`my_set = {\"item1\", \"item2\", \"item3\", ...}`</code></pre>\n",
    "\n",
    "An alternative way to declare a set is by using the set constructor:\n",
    "<pre><code>my_constructed_set = set((\"first_item\", \"second_time\", ...))`</code></pre>\n",
    "Note the double brackets here - they're important as it tells Python that all the values we passed in are the values we want to add to the set.\n",
    "\n",
    "Once a set has been declared, you can add (`.add()`) and remove (`.remove(el)`) elements, but you cannot directly edit an individual element. Since the elements in a set are unindexed, there's no way to actually *access* individual elements. Instead, you have to loop through each element one-by-one using a for-loop.\n",
    "\n",
    "Python also supports standard set operations with the methods `.difference()`, `.intersection()`, `.symmetric_difference()` and `.union()`. Using these methods will return a new set, if you just want to update an existing set, use the methods `.difference_update()`, `.intersection_update()`, `.symmetric_difference_update()` and `.update()`. Here's a quick example to show the difference:"
   ]
  },
  {
   "cell_type": "code",
   "execution_count": null,
   "metadata": {},
   "outputs": [],
   "source": [
    "set1 = {\"a\", \"b\" , \"c\"}\n",
    "set2 = {1, 2, 3}\n",
    "\n",
    "print(set1)\n",
    "print(set2)\n",
    "\n",
    "set3 = set1.union(set2)\n",
    "print(set3)\n",
    "set1.update(set2)\n",
    "print(set1)"
   ]
  },
  {
   "cell_type": "markdown",
   "metadata": {},
   "source": [
    "> Task:\n",
    "\n",
    "A ***dictionary*** is a collection that stores items as **key:value pairs**. It is changable, ordered (as of Python 3.7), and does not allow duplicate keys. Values, however, can be repeated."
   ]
  },
  {
   "cell_type": "markdown",
   "metadata": {},
   "source": [
    "### Sorting Things Out\n",
    "Now that we've introduced some data structures, it's worth introducing some algorithms you might find handy. The first class of algorithms we'll cover are the sorting algorithms. We'll start with the ***Bubble Sort***:"
   ]
  },
  {
   "cell_type": "code",
   "execution_count": null,
   "metadata": {},
   "outputs": [],
   "source": [
    "def bubble_sort(arr):\n",
    "    for i in range(len(arr)):\n",
    "        for j in range(len(arr)):\n",
    "            if arr[i] < arr[j]:\n",
    "                temp = arr[i]\n",
    "                arr[i] = arr[j]\n",
    "                arr[j] = temp\n",
    "    return arr\n",
    "\n",
    "unsorted_array = [2, 7, 1, 5, 3, 8, 0]\n",
    "print(unsorted_array)\n",
    "sorted_array = bubble_sort(unsorted_array)\n",
    "print(sorted_array)"
   ]
  },
  {
   "cell_type": "markdown",
   "metadata": {},
   "source": [
    "Seems fairly simple right? Iterate through the list and check that each element is smaller than all the rest. Our algorithm works, but it's not as efficient as it could be. \n",
    "\n",
    "Luckily, we can exploit one of the features of a bubble sort: after each swap, the largest element (if you're sorting in ascending order) will move to the end of the unsorted list - that means we don't need to check it anymore!\n",
    "\n",
    "But what happens if we pass an already-sorted array into the function? The for-loops would execute anyway, but they wouldn't do anything useful! In the end, the sort would take the same amount of time regardless of how sorted your array already is. We can do better still; what if we check how sorted our array is after each pass by counting the number of swaps we make. If we make no swaps in a pass, we know the array has been sorted. \n",
    "\n",
    "Let's add these features to the code:"
   ]
  },
  {
   "cell_type": "code",
   "execution_count": null,
   "metadata": {},
   "outputs": [],
   "source": [
    "def better_bubble_sort(arr):\n",
    "    swaps = True\n",
    "    n = len(arr) - 1\n",
    "    while (swaps == True):\n",
    "        swaps = False\n",
    "        for i in range(n):\n",
    "            if arr[i] > arr[i+1]:\n",
    "                temp = arr[i]\n",
    "                arr[i] = arr[i+1]\n",
    "                arr[i+1] = temp\n",
    "                swaps = True\n",
    "        n -= 1\n",
    "    return arr\n",
    "\n",
    "unsorted_array = [2, 7, 1, 5, 3, 8, 0]\n",
    "print(unsorted_array)\n",
    "sorted_array = better_bubble_sort(unsorted_array)\n",
    "print(sorted_array)"
   ]
  },
  {
   "cell_type": "markdown",
   "metadata": {},
   "source": [
    "> Task: Another common type of sort is the ***Insertion Sort***. We \"split\" the array into sorted and unsorted parts, then values in the unsorted part are picked and placed in the correct position in the sorted array. Try to implement your own Insertion Sort (there are plenty of solutions online, but try to solve it yourself as much as possible).\n",
    ">\n",
    "> Task (optional): What are the advantages of an Insertion Sort over the Bubble Sort? When might you use one over the other?\n",
    "\n",
    "If implementing your own sort is too much effort, don't worry - Python has your back. The inbuilt `sort()` method can be called on any list using: `array.sort()`. The method will sort the list in ascending order by default; if you want the list sorted in ascending order you need to specify the `reverse` parameter: `array.sort(reverse=true)`.\n",
    "\n",
    "> Task: Use `.sort()` to sort `unsorted_array` in *ascending* order. Now sort it in *descending* order."
   ]
  },
  {
   "cell_type": "markdown",
   "metadata": {},
   "source": [
    "### A Quick Detour: Efficiency and Big-Oh\n",
    "If the first bubble sort we wrote worked, then why did we improve it? It has to do with *code efficiency*. Often, there are lots of different implementations that solve the same problem. The best solutions will run the fastest, and use the least amount additional storage space. Many of the constructs you've learned over the past weeks will help with writing efficient code, such as:\n",
    "- Using loops for repeated actions\n",
    "- Using data structures instead of separate variables\n",
    "- Using functions if you're going to be repeating the same blocks of actions throughout your code\n",
    "- Use of in-built features / external code libraries\n",
    "- Use of recursion\n",
    "\n",
    "A fairly common notation you'll see when talking about the efficiency of algorithms is **Big-Oh notation O()**. Big-Oh gives us an upper bound to the growth rate of an algorithm as the input size *n* increases. \n",
    "Big-Oh has a couple of basic rules:\n",
    "- If your run time is a polynomial of degree *d*, then the run time is O(nᵈ). You drop any lower-order and constant terms (as n increases, the nᵈ term grows the fastest)\n",
    "- Use the *smallest possible* class of function\n",
    "\n",
    "For example, consider going one by one through a list of *n* elements. As we add more elements to the list, it's going to take longer to visit all of the elements. The time varies linearly (hence the term *linear search*) with input size, so we say it runs in O(n) time.\n",
    "\n",
    "By contrast, the bubble and insertion sorts we wrote in the previous section run in O(n²) time. That means that the run time of our algorithms grow proportional to the **square** of the size of the input. For smaller inputs, it's not a huge problem, but if were sorting arrays with thousands of elements, things would quickly get out of hand.\n",
    "\n",
    "Not to say that there aren't *worse* sorting algorithms out there. The ***Bogosort*** has no upper bound on its runtime (aka O(∞)) and an **average** runtime of O((n+1)!). We're not going to bother with a Python implementation (you can attempt it if you really want, check Python's `random` library to help), but the pseudocode for the randomised Bogosort is:\n",
    "<pre><code>while not inOrder(list):\n",
    "    shuffle(list)\n",
    "</code></pre>\n",
    "Unsuprisingly, nobody actually uses Bogosorts."
   ]
  },
  {
   "cell_type": "markdown",
   "metadata": {},
   "source": [
    "### Divide and Conquer\n",
    "The Insertion and Bubble sorts are *iterative*. A **Divide and Conquer** algorithm solves a large problem by:\n",
    "<ol>\n",
    "    <li>Breaking the problem into smaller sub-problems</li>\n",
    "    <li>Recursively solving the sub-problems</li>\n",
    "    <li>Combining them to get the desired output</li>\n",
    "</ol>\n",
    "\n",
    "We'll look at 2 Divide and Conquer sorts - the ***QuickSort*** and ***MergeSort***.\n",
    "\n",
    "A ***QuickSort*** partitions the list to be sorted by choosing a *pivot*, the remaining items are grouped into 3 sub-lists:\n",
    "- Items less than the pivot\n",
    "- Items equal to the pivot\n",
    "- Items greater than the pivot\n",
    "\n",
    "The less than/greater than sublists are then sorted using the QuickSort, and the final sorted lists are combined. Although it doesn't matter how you choose the pivot (including choosing randomly), for now we'll stick to choosing the element at the middle index as the pivot.\n",
    "\n",
    "> Task: I want to sort a list of numbers in *ascending* order. I've written the code for the partition, can you write the recursive method?\n",
    "<pre><code> def swap(arr, i, j):\n",
    "    temp = arr[j]\n",
    "    arr[j] = arr[i]\n",
    "    arr[i] = temp\n",
    "\n",
    "def partition(arr, low, high):\n",
    "    pivot_index = (low+high) // 2\n",
    "    i = low - 1\n",
    "    for j in range(low, high):\n",
    "        if arr[j] < arr[pivot_index]:\n",
    "            i += 1\n",
    "            swap(arr, i, j)\n",
    "    swap(arr, i+1, high)\n",
    "    return i+1            \n",
    "</code></pre>\n",
    "\n",
    "The ***MergeSort*** is similar to the the QuickSort, except it divides the list into two sub-lists, then calls the MergeSort on both the sub-lists and merges the sorted lists. The implementation of a MergeSort is slightly harder:"
   ]
  },
  {
   "cell_type": "code",
   "execution_count": null,
   "metadata": {},
   "outputs": [],
   "source": [
    "def merge(arr, low, mid, high):\n",
    "    left_size = mid - low + 1\n",
    "    right_size = high - mid\n",
    "    left_array = []\n",
    "    right_array = []\n",
    "\n",
    "    for i5 in range(left_size):         # copy elements into the left sub-list\n",
    "        left_array.append(arr[low+i5])\n",
    "    \n",
    "    for j5 in range(right_size):        # copy elements into the right sub-list\n",
    "        right_array.append(arr[mid+1+j5])\n",
    "    \n",
    "    i5 = 0      # Start of left sub-list\n",
    "    j5 = 0      # Start of right sub-list\n",
    "    k = low     # Start of merged list\n",
    "\n",
    "    while i5 < left_size and j5 < right_size:\n",
    "        if left_array[i5] <= right_array[j5]:\n",
    "            arr[k] = left_array[i5]\n",
    "            i5 += 1\n",
    "        else:\n",
    "            arr[k] = right_array[j5]\n",
    "            j5 += 1\n",
    "        k += 1\n",
    "    \n",
    "    # Copy any remaining elements of the left sub-list into the merged list\n",
    "    while i5 < left_size:\n",
    "        arr[k] = left_array[i5]\n",
    "        i5 += 1\n",
    "        k += 1\n",
    "    \n",
    "    # Copy any remaining elements of the right sub-list into the merged list\n",
    "    while j5 < right_size:\n",
    "        arr[k] = right_array[j5]\n",
    "        j5 += 1\n",
    "        k += 1\n",
    "\n",
    "def merge_sort(arr, low, high):\n",
    "    if low < high:\n",
    "        mid = (low+high) // 2\n",
    "        merge_sort(arr, low, mid)\n",
    "        merge_sort(arr, mid+1, high)\n",
    "        merge(arr, low, mid, high)\n",
    "\n",
    "unsorted_array = [2, 7, 1, 5, 3, 8, 0]\n",
    "print(unsorted_array)\n",
    "merge_sort(unsorted_array, 0, len(unsorted_array)-1)\n",
    "print(unsorted_array)   # not so unsorted anymore"
   ]
  },
  {
   "cell_type": "markdown",
   "metadata": {},
   "source": [
    "### More Algorithms: Searching"
   ]
  },
  {
   "cell_type": "markdown",
   "metadata": {},
   "source": [
    "### Compactness"
   ]
  },
  {
   "cell_type": "markdown",
   "metadata": {},
   "source": [
    "### ***This week of content was written by the Computing Society***\n",
    "\n",
    "We hope you enjoyed the course!"
   ]
  }
 ],
 "metadata": {
  "kernelspec": {
   "display_name": "Python 3.10.6 64-bit (microsoft store)",
   "language": "python",
   "name": "python3"
  },
  "language_info": {
   "codemirror_mode": {
    "name": "ipython",
    "version": 3
   },
   "file_extension": ".py",
   "mimetype": "text/x-python",
   "name": "python",
   "nbconvert_exporter": "python",
   "pygments_lexer": "ipython3",
   "version": "3.10.6"
  },
  "orig_nbformat": 4,
  "vscode": {
   "interpreter": {
    "hash": "2b7577ffb8d548c9973061aef476572d270d2443465dcca4a394547d38943c24"
   }
  }
 },
 "nbformat": 4,
 "nbformat_minor": 2
}
