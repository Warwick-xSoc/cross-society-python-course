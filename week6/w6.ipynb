{
 "cells": [
  {
   "cell_type": "markdown",
   "metadata": {},
   "source": [
    "# xSoc Python Course Week 6 \n",
    "### *Efficiency, Compactness, Readability*"
   ]
  },
  {
   "cell_type": "markdown",
   "metadata": {},
   "source": [
    "---"
   ]
  },
  {
   "cell_type": "markdown",
   "metadata": {},
   "source": [
    "## Recursion means Recursion"
   ]
  },
  {
   "cell_type": "markdown",
   "metadata": {},
   "source": [
    "One way to make things more compact is through recursion. Put simply, *recursive* functions are defined in terms of themselves. For example, this recursive function calculates the sum of the first $n$ integers."
   ]
  },
  {
   "cell_type": "code",
   "execution_count": null,
   "metadata": {},
   "outputs": [],
   "source": [
    "# Calculates 1 + 2 + ... + n, recursively\n",
    "def sum_of_first(n: int):\n",
    "    # Base Case (will eventually be reached)\n",
    "    if n <= 0:\n",
    "        return 0\n",
    "    \n",
    "    # General Case (argument steps down by 1 each time)\n",
    "    return n + sum_of_first(n-1)\n",
    "\n",
    "print(sum_of_first(4))\n",
    "print(sum_of_first(7))\n",
    "print(sum_of_first(0))"
   ]
  },
  {
   "cell_type": "markdown",
   "metadata": {},
   "source": [
    "Cool, right? But be careful! Every recursive function must satisfy 3 conditions, or else you're in for a bad time:\n",
    "- It must have at least one *base case*, some combination of arguments that makes it stop calling itself.\n",
    "- It must have a *recursive case* that moves you towards reaching the base case.\n",
    "- The base case must be reached after a *finite* number of function calls!\n",
    "\n",
    "Too many stacked function calls will lead to a *Stack Overflow* Exception, because our computer has run out of memory.\n",
    "\n",
    "Recursive functions are a powerful tool, because they allow us to write what might otherwise be a large chunk of code in a compact way, that (depending on what it does) might be easier to understand too."
   ]
  },
  {
   "cell_type": "markdown",
   "metadata": {},
   "source": [
    "> Task 1: What do each of the following recursive functions do?\n",
    "\n",
    "*If you're still not quite sure, feel free to call the function with different values.*"
   ]
  },
  {
   "cell_type": "code",
   "execution_count": null,
   "metadata": {},
   "outputs": [],
   "source": [
    "# Function 1\n",
    "def f(n: int) -> int:\n",
    "    if n == 0:\n",
    "        return n\n",
    "    return n * f(n-1)"
   ]
  },
  {
   "cell_type": "code",
   "execution_count": null,
   "metadata": {},
   "outputs": [],
   "source": [
    "# Function 2\n",
    "def r(s: str) -> bool:\n",
    "    if len(s) <= 1:\n",
    "        return True\n",
    "    if s[0] != s[-1]:\n",
    "        return False\n",
    "    return r(s[1:-1])"
   ]
  },
  {
   "cell_type": "code",
   "execution_count": null,
   "metadata": {},
   "outputs": [],
   "source": [
    "# Function 3\n",
    "def p(x: int, n: int) -> int:\n",
    "    if n == 0:\n",
    "        return 1\n",
    "    \n",
    "    result = p(x, n // 2)\n",
    "    result *= result\n",
    "    if n % 2 == 1:\n",
    "        result *= x\n",
    "    return result"
   ]
  },
  {
   "cell_type": "markdown",
   "metadata": {},
   "source": [
    "> Task 2: Write a recursive function that takes a list of numbers as input, and multiplies them all together.\n",
    "\n",
    "*There are easier ways of doing this in practice, this is just to get you used to writing recursive functions.*"
   ]
  },
  {
   "cell_type": "code",
   "execution_count": null,
   "metadata": {},
   "outputs": [],
   "source": [
    "def recursive_product(nums: list) -> int:\n",
    "    # Base Case??\n",
    "    if not nums:\n",
    "        return 0\n",
    "\n",
    "    # Recursive Case?\n",
    "    return 404\n",
    "\n",
    "print(recursive_product([3, 4, 5]))  # Should output 60"
   ]
  },
  {
   "cell_type": "markdown",
   "metadata": {},
   "source": [
    "Looks like you've got the basics of recursion down. Let's discuss one more example before moving on - Fibonnacci numbers.\n",
    "\n",
    "The first two Fibonnaci numbers are $F(0)=0$ and $F(1) = 1$. From there we have $F(n) = F(n-1)+F(n-2)$ - in other words, the next term in the sequence is the sum of the two previous terms. As you might expect, this is perfect for recursion. Give it a run!"
   ]
  },
  {
   "cell_type": "code",
   "execution_count": null,
   "metadata": {},
   "outputs": [],
   "source": [
    "def fib(n: int) -> int:\n",
    "    if n <= 1:\n",
    "        return n\n",
    "    return fib(n-1) + fib(n-2)\n",
    "\n",
    "print(fib(4))\n",
    "print(fib(20))\n",
    "print(fib(50))"
   ]
  },
  {
   "cell_type": "markdown",
   "metadata": {},
   "source": [
    "Hmm, that's strange. The first two function calls printed something out, but the third one didn't. Or at least, that's what it looks like. The truth is, `fib(50)` is still being computed by your machine! Surely that can't be correct, it's not that tricky to add the previous terms together until we reach $F(50)$, right? Look, here's a non-recursive version that handles it just fine (make sure to stop the previous one first):"
   ]
  },
  {
   "cell_type": "code",
   "execution_count": null,
   "metadata": {},
   "outputs": [],
   "source": [
    "def fib_linear(n: int) -> int:\n",
    "    if n <= 1:\n",
    "        return n\n",
    "    prev = 0\n",
    "    curr = 1\n",
    "\n",
    "    for _ in range(n-1):\n",
    "        prev, curr = curr, prev + curr\n",
    "\n",
    "    return curr\n",
    "\n",
    "print(fib_linear(50))"
   ]
  },
  {
   "cell_type": "markdown",
   "metadata": {},
   "source": [
    "So what's really going on here? It's to do with the way that functions are called by Python itself. Some functions might do something slightly different each time they're called, even with the same parameters. Because of this, after Python returns a result from `fib()`, it throws away the connection between the parameters passed and the result returned. \n",
    "\n",
    "So, we're not just computing one call of `fib()` for each parameter. We're computing..."
   ]
  },
  {
   "cell_type": "markdown",
   "metadata": {},
   "source": [
    "***There should be a diagram of the exploding recursive call tree here.***"
   ]
  },
  {
   "cell_type": "markdown",
   "metadata": {},
   "source": [
    "Oh god."
   ]
  },
  {
   "cell_type": "markdown",
   "metadata": {},
   "source": [
    "Okay, so how do we stop Python from doing this? Well, there are two ways. The first is to build up a dictionary of previously seen values, and stop ourselves every time we're about to make an unnecessary call by doing a lookup instead. Not amazing to read, but does the job:"
   ]
  },
  {
   "cell_type": "code",
   "execution_count": null,
   "metadata": {},
   "outputs": [],
   "source": [
    "seen = {}\n",
    "\n",
    "def fib_dict(n: int) -> int:\n",
    "    if n <= 1:\n",
    "        return n\n",
    "    prev1 = seen[n-1] if n-1 in seen else fib_dict(n-1)\n",
    "    prev2 = seen[n-2] if n-2 in seen else fib_dict(n-2)\n",
    "    seen[n] = prev1 + prev2\n",
    "    return seen[n]\n",
    "\n",
    "print(fib_dict(50))\n",
    "print(fib_dict(100))"
   ]
  },
  {
   "cell_type": "markdown",
   "metadata": {},
   "source": [
    "There's a cooler answer, and it's called the `cache` **decorator**. We're not going to spend too much time discussing decorators, but all you need to know is that it's a fancy function that uses another function as argument (yes, you can do that, sorry). Something to look into after you've finished this course, eh? Behind the scenes we're effectively doing the same as the above method, cache-ing the result for later use, but it looks a lot cleaner."
   ]
  },
  {
   "cell_type": "code",
   "execution_count": null,
   "metadata": {},
   "outputs": [],
   "source": [
    "from functools import cache\n",
    "\n",
    "@cache\n",
    "def fib_cache(n: int) -> int:\n",
    "    if n <= 1:\n",
    "        return n\n",
    "    return fib_cache(n-1) + fib_cache(n-2)\n",
    "\n",
    "print(fib_cache(50))\n",
    "print(fib_cache(100))"
   ]
  },
  {
   "cell_type": "markdown",
   "metadata": {},
   "source": [
    "Let's put what we've learned into practice with a trickier recursive task."
   ]
  },
  {
   "cell_type": "markdown",
   "metadata": {},
   "source": [
    "*Pascal's Triangle is an important structure in probability and combinatorics. It's purpose is simple - to help in counting the number of possible results from choosing $k$ items out of a selection of $n$. There are some simple cases. For example, there's only 1 way to pick out nothing, and 1 way to pick out everything, but the others seem a bit more complicated. But, what if we laid the answers out like this?*"
   ]
  },
  {
   "cell_type": "markdown",
   "metadata": {},
   "source": [
    "***Image of first 6-7 rows of Pascal's Triangle Here, with n on the y axis going down, and k on the x-axis going right***"
   ]
  },
  {
   "cell_type": "markdown",
   "metadata": {},
   "source": [
    "*You might have been able to spot this from the image, but each number (that isn't 1) is the sum of the two just above it! We're not going to go into the details of why, but it seems like it would be good to implement recursively, don't you think?*"
   ]
  },
  {
   "cell_type": "markdown",
   "metadata": {},
   "source": [
    "> Task 3: Using the above information, write a recursive function that calculates the number of ways to choose $k$ items from a set of $n$."
   ]
  },
  {
   "cell_type": "code",
   "execution_count": null,
   "metadata": {},
   "outputs": [],
   "source": [
    "def choose(n: int, k: int):\n",
    "    # Base case(s)\n",
    "    # When is the answer easy to compute?\n",
    "\n",
    "    # Recursive case\n",
    "    # How is the function related to different calls of itself?\n",
    "    return 0\n",
    "\n",
    "# Function calls vs answers\n",
    "print(choose(2, 1), 2)\n",
    "print(choose(9, 9), 1)\n",
    "print(choose(15, 0), 1)\n",
    "print(choose(3, 2), 3)\n",
    "print(choose(6, 3), 20)\n",
    "print(choose(7, 5), 21) \n",
    "print(choose(12, 4), 495)\n",
    "print(choose(50, 8), 536878650)  # Hmmm..."
   ]
  },
  {
   "cell_type": "markdown",
   "metadata": {},
   "source": [
    "---"
   ]
  },
  {
   "cell_type": "markdown",
   "metadata": {},
   "source": [
    "## Searching for an answer"
   ]
  },
  {
   "cell_type": "markdown",
   "metadata": {},
   "source": [
    "Let's play a little game. More specifically, a guess the number game! I'm going to think of a random number between 1 and 1000, and you're going to guess what it is. Too high? I'll let you know. Too low? I'll let you know too. See how many attempts it takes before you get it right, and try to figure out the best strategy before moving on:"
   ]
  },
  {
   "cell_type": "code",
   "execution_count": null,
   "metadata": {},
   "outputs": [],
   "source": [
    "# Guessing game\n",
    "from random import randint\n",
    "from time import sleep\n",
    "\n",
    "answer = randint(1, 1000)  # My random number\n",
    "\n",
    "attempts = 0\n",
    "guess = 0\n",
    "while True:\n",
    "    sleep(0.2)\n",
    "    guess = input(\"Guess a number between 1 and 1000: \")\n",
    "    if not guess.isdigit() or int(guess) < 1 or int(guess) > 1000:\n",
    "        continue\n",
    "    attempts += 1\n",
    "    if int(guess) > answer:\n",
    "        print(f\"{guess} is too high...\")\n",
    "    elif int(guess) < answer:\n",
    "        print(f\"{guess} is too low...\")\n",
    "    else:\n",
    "        break\n",
    "\n",
    "print(f\"Correct! The number was {guess}.\")\n",
    "print(f\"This took you {attempts} attempts.\")"
   ]
  },
  {
   "cell_type": "markdown",
   "metadata": {},
   "source": [
    "What was your strategy? The optimal strategy, *picking the middle of the possible numbers at each step*, ensures you always win on or before your 11th guess. Considering there's 1000 possible numbers it could have been, that's pretty good. If the number was between 1 and 1,000,000, we'd need at most 21 guesses! Even if the number were between 1 and a billion - Only 31 guesses needed!!! I think we might be onto something pretty useful here."
   ]
  },
  {
   "cell_type": "markdown",
   "metadata": {},
   "source": [
    "What we're really doing, in reality, is searching. Most of the time, searching for something in a list is pretty simple. We just go through each thing in the list, one by one, and check if it matches the criteria. Worst case, is that in a list of $n$ items, we're going to have to check all $n$ of them - but on average, it's about half that. We call this method a **linear search**. An example of this is the `in` keyword."
   ]
  },
  {
   "cell_type": "code",
   "execution_count": null,
   "metadata": {},
   "outputs": [],
   "source": [
    "fruits = [\"Pineapple\", \"Apple\", \"Fig\", \"Cherry\", \"Peach\", \"Orange\", \"Plum\", \"Durian\", \"Banana\", \"Grapefruit\", \"Pear\"]\n",
    "\n",
    "# Linear searches\n",
    "print(\"Pear\" in fruits)\n",
    "print(\"Chocolate\" in fruits)"
   ]
  },
  {
   "cell_type": "markdown",
   "metadata": {},
   "source": [
    "But what if our data was in order? Well, then we can speed things up - by using the same tactics as in the guessing game."
   ]
  },
  {
   "cell_type": "code",
   "execution_count": null,
   "metadata": {},
   "outputs": [],
   "source": [
    "def find(items, item):\n",
    "    return narrow_down(items, item, 0, len(items) - 1)\n",
    "\n",
    "def narrow_down(items, item, low, high) -> bool:\n",
    "\n",
    "    mid = (low + high) // 2  # Make a guess in the middle\n",
    "\n",
    "    if low == mid or mid == high:  # Guessed everywhere possible\n",
    "        return False\n",
    "\n",
    "    if items[mid] < item:  # Guess too low\n",
    "        return narrow_down(items, item, mid, high)\n",
    "    elif items[mid] > item:  # Guess too high\n",
    "        return narrow_down(items, item, low, mid)\n",
    "    \n",
    "    return True  # Correct!\n",
    "\n",
    "# Only works on lists in order (in this case, alphabetical).\n",
    "fruits = [\"Apple\", \"Banana\", \"Cherry\", \"Durian\", \"Fig\", \"Grapefruit\", \"Orange\", \"Peach\", \"Pear\", \"Pineapple\", \"Plum\"]\n",
    "\n",
    "print(find(fruits, \"Pear\"))\n",
    "print(find(fruits, \"Chocolate\"))"
   ]
  },
  {
   "cell_type": "markdown",
   "metadata": {},
   "source": [
    "The fancier name for this is a **binary search**, because at each step, we're dividing the search space we have left into 2. So, how much faster is this method than a regular, linear search? Well, for small lists you won't see much improvement, but for larger lists, say, with $n$ items, we only need to check $\\log(n)$ of them in the worst case! The difference couldn't be clearer:"
   ]
  },
  {
   "cell_type": "markdown",
   "metadata": {},
   "source": [
    "***Comparison between y = x and y = log(x) on a graph***"
   ]
  },
  {
   "cell_type": "markdown",
   "metadata": {},
   "source": [
    "In order to work, the Binary Search can only be used on *ordered* lists. Otherwise, we can't guarantee that when we discard part of the list, we're not discarding the target item. That means you may need to sort the list before searching. Here's a Python implementation (assuming all elements in the list are of the same type):"
   ]
  },
  {
   "cell_type": "markdown",
   "metadata": {},
   "source": [
    "> Task 4: Create a function, `find_fast()`, that accepts an *ordered* list, and an item to look for in it. If it's there, it should return the item's index. If it's not, it should return `-1`. Try to make your code as efficient as possible."
   ]
  },
  {
   "cell_type": "code",
   "execution_count": null,
   "metadata": {},
   "outputs": [],
   "source": [
    "from random import randint\n",
    "\n",
    "def find_fast(items, item):\n",
    "    return binary_search(items, item, 0, len(items) - 1)\n",
    "\n",
    "def binary_search(items, item, low, high):\n",
    "    # Try modifying the narrow_down() function!\n",
    "    return -1\n",
    "\n",
    "fruits = [\"Apple\", \"Banana\", \"Cherry\", \"Durian\", \"Fig\", \"Grapefruit\", \"Orange\", \"Peach\", \"Pear\", \"Pineapple\", \"Plum\"]\n",
    "\n",
    "print(find_fast(fruits, \"Fig\"))\n",
    "print(find_fast(fruits, \"orange\"))\n",
    "print(find_fast(fruits, \"Apple\"))"
   ]
  },
  {
   "cell_type": "markdown",
   "metadata": {},
   "source": [
    "---"
   ]
  },
  {
   "cell_type": "markdown",
   "metadata": {},
   "source": [
    "## Sorting things out"
   ]
  },
  {
   "cell_type": "markdown",
   "metadata": {},
   "source": [
    "Okay, so we know that sorted lists can be searched through way faster. Great! But wait, how do we even sort a list in the first place? Well, there are [many, many different algorithms](https://en.wikipedia.org/wiki/Sorting_algorithm#Comparison_of_algorithms), each with their own benefits and drawbacks, which we're not going to go into because we're on the clock here! But we do think there's something you should know:"
   ]
  },
  {
   "cell_type": "markdown",
   "metadata": {},
   "source": [
    "### A Quick Detour: Big-O Notation\n",
    "\n",
    "If a program is going to output the correct answer, why change it? As you might have gathered from the last two sections, one of those reasons is efficiency. The best solutions will try to minimise both time and memory usage. But how can we measure how good these improvements and optimisations are? Sure, you can time how long it takes your machine to do a task, but some machines execute instructions at different speed to others, and computer hardware is constantly improving. We're going to need a system that ignores specific machine details.\n",
    "\n",
    "We commonly use *Big-O Notation* for algorithms to estimate the number of instructions needed relative to the input size. For example, a script like this..."
   ]
  },
  {
   "cell_type": "code",
   "execution_count": null,
   "metadata": {},
   "outputs": [],
   "source": [
    "# The size of nums affects the time things take to run.\n",
    "nums = [75, -63, 39, -88, 83, -7, 12, -99, 83, 29, -43, -33, -74, -76, -21, -100, 26, 97, 37, -61]\n",
    "target = 14\n",
    "found = False\n",
    "\n",
    "# Determines if any two distinct numbers in the list add up to the target\n",
    "for i in range(len(nums)):\n",
    "    for j in range(len(nums)):\n",
    "        if nums[i] + nums[j] == target and i != j:\n",
    "            found = True\n",
    "\n",
    "print(\":)\") if found else print(\":(\")"
   ]
  },
  {
   "cell_type": "markdown",
   "metadata": {},
   "source": [
    "...would be considered $O(n^2)$, where $n$ is the size of the input array `nums`. Why? Well, that's because we go over all $n$ items in the list, and for each, compare it against all $n$ items in the list. That's in the order of $n \\times n$ instructions, or $n^2$. So, the time taken grows proportional to the square of the input size. Hopefully that makes sense! We discussed other examples in the previous section, like linear search, which was $O(n)$, along with binary search, which was $O(\\log(n))$."
   ]
  },
  {
   "cell_type": "markdown",
   "metadata": {},
   "source": [
    "A couple of details about the definition, if you're interested:\n",
    "- Even if we use say, $50$ instructions on each iteration of a loop, it would still be $O(n)$. Ignore the constants, as they don't matter for big $n$.\n",
    "- If we're running two algorithms one after another, say, one taking $O(n)$ and another $O(n^2)$, the higher power dominates. The full script is $O(n^2)$.\n",
    "- Unless stated otherwise, we're interested in *worst-case* time complexity."
   ]
  },
  {
   "cell_type": "markdown",
   "metadata": {},
   "source": [
    "Alright, back to sorting. One of the first and most natural sorting algorithms you might learn is Bubble Sort, which takes $O(n^2)$ time. There's also Quick Sort, which (ironically) also takes $O(n^2)$ time. For smaller inputs it's not a huge problem, but if we're sorting lists with thousands of elements, things would quickly get out of hand.\n",
    "\n",
    "Not to say that there aren't *worse* sorting algorithms out there. The ***Bogosort*** has no upper bound on its runtime (aka O(∞)) and an **average** runtime of $O(e^n)$. Here's a lovely implementation of it below, and an example list of 12 numbers for it to sort. Go on, give it a run!"
   ]
  },
  {
   "cell_type": "code",
   "execution_count": null,
   "metadata": {},
   "outputs": [],
   "source": [
    "from random import shuffle\n",
    "\n",
    "def in_order(some_list):\n",
    "    for i in range(len(some_list)-1):\n",
    "        if some_list[i] >= some_list[i+1]:\n",
    "            return False\n",
    "    return True\n",
    "\n",
    "def bogosort(some_list):\n",
    "    while not in_order(some_list):\n",
    "        shuffle(some_list)\n",
    "\n",
    "nums = [2, 3, 4, 5, 6, 7, 8, 9, 10, 11, 12, 1]\n",
    "bogosort(nums)\n",
    "print(nums)"
   ]
  },
  {
   "cell_type": "markdown",
   "metadata": {},
   "source": [
    "Unsuprisingly, nobody actually uses Bogosorts."
   ]
  },
  {
   "cell_type": "markdown",
   "metadata": {},
   "source": [
    "Don't worry about implementing your own sorting algorithms - Python has your back, with an $O(n \\log(n))$ one. Fancy! We don't need to worry about how it's implemented, of course. If implementing your own sort is too much effort, don't worry - Python has your back. For some list `things`:\n",
    "\n",
    "- The `things.sort()` method sorts a list in-place, by modifying the original.\n",
    "- The `sorted(things)` function returns a sorted copy of the list, without modifying the original.\n",
    "\n",
    "By default, `things` will be sorted in ascending order, but you can use the `reverse` keyword argument, which is a boolean, to change this."
   ]
  },
  {
   "cell_type": "markdown",
   "metadata": {},
   "source": [
    "> Task 5: Sort the `nums` list below in two ways - *ascending* order and *descending* order. Output both, making it clear which one is which."
   ]
  },
  {
   "cell_type": "code",
   "execution_count": null,
   "metadata": {},
   "outputs": [],
   "source": [
    "nums = [75, -63, 39, -88, 83, -7, 12, -99, 83, 29, -43, -33, -74, -76, -21, -100, 26, 97, 37, -61]\n",
    "\n",
    "# Ascending\n",
    "\n",
    "# Descending"
   ]
  },
  {
   "cell_type": "markdown",
   "metadata": {},
   "source": [
    "---"
   ]
  },
  {
   "cell_type": "markdown",
   "metadata": {},
   "source": [
    "### Condensing your code\n",
    "You may have gathered by now that Python is a big fan of shorthand notations. ***Comprehensions*** cut-down the amount of lines used up when you declare a new list.\n",
    "\n",
    "A ***list comprehension*** has the format `new_list = [output for var in input]`, e.g. this snippet declares a list of the numbers 1 to 10 (inclusive): `numbers = [i for i in range(1,11)]`. You can also have `if` statements in the comprehension: `even_numbers = [i for i in range(1,11) if (i % 2 == 0)]` would make a list of all the even numbers between 1 and 10. If you want to include an `else` statement, the condition needs to come first, followed by the for loop: `numbers = [\"even\" if (i % 2 == 0) else \"odd\" for i in range(1,11)]`. Note: there's no `elif` statments here - you'll need to put another `if` statement after your `else`.\n",
    "\n",
    "> Task: using a list comprehension, create a list called `fizz_buzz`. The list should have a length of 50 and follow these rules (here index will start from 1 on the first element):\n",
    "> - If the index is divisible by 3, the element should be \"Fizz\"\n",
    "> - If the index is divisible by 5, the element should be \"Buzz\"\n",
    "> - If the index is divisible by 3 *and* 5, the element should be \"FizzBuzz\"\n",
    "> - Otherwise, the element should simply be the index."
   ]
  },
  {
   "cell_type": "code",
   "execution_count": null,
   "metadata": {},
   "outputs": [],
   "source": []
  },
  {
   "cell_type": "markdown",
   "metadata": {},
   "source": [
    "One of the main issues with using any format of comprehension is that your \"simplification\" can quickly become very complicated. This can happen especially when nesting list comprehensions *within* list comprehensions, or, like in the `fizz_buzz` task, where you had many conditions to consider. If things do start to get tricky, and you're struggling with how to write the comprehension, it's best to just stick with the long way - otherwise you may introduce an error into your program."
   ]
  },
  {
   "cell_type": "markdown",
   "metadata": {},
   "source": [
    "### Coding Practices\n",
    "80% of coding is knowing how to code, the remaining 20% is knowing how to code *nicely*. That means writing your code bearing in mind that someone else might have to read it, and they won't want to spend much effort trying to figure out what you're trying to do (it also helps avoid the \"what was I thinking\" moments when you go back to debug your code). The general term for confusing, unclear, badly written code is ***Spaghetti Code***. We want to avoid spaghetti code as much as possible, otherwise we end up with code like this:"
   ]
  },
  {
   "cell_type": "code",
   "execution_count": null,
   "metadata": {},
   "outputs": [],
   "source": [
    "def func(a, b):\n",
    "    if a == 0:\n",
    "        return b\n",
    " \n",
    "    return func(b % a, a)\n",
    "\n",
    "# what did I just read"
   ]
  },
  {
   "cell_type": "markdown",
   "metadata": {},
   "source": [
    "Can you figure out what that function does? You're looking at a *very badly* written implementation of the Euclidean Algorithm (finds the GCD of any two numbers).\n",
    "\n",
    "To make your code more readable, there's a few things you can do:\n",
    "- Use meaningful variable names, and be consistent with how you name variables (e.g. camelCasing, snake_casing)\n",
    "- Have whitespace (empty lines) in your code to split it up\n",
    "- Use comments to explain what your code is doing; you don't have to comment every line - just ones where its not obvious or you think the line is important. In fact, over-commenting is just as bad as not commenting at all\n",
    "- Be consistent with your indentation\n",
    "- Avoid hard-coding values in your code (e.g. if you had an array length 5, just using the number 5 instead of len(array)) - it makes it harder to change your code if your values need to change"
   ]
  },
  {
   "cell_type": "markdown",
   "metadata": {},
   "source": [
    "Often, there are lots of different implementations that solve the same problem. Many of the constructs you've learned over the past weeks will help with writing readable code, such as:\n",
    "- Using loops for repeated actions\n",
    "- Using data structures instead of separate variables\n",
    "- Using functions if you're going to be repeating the same blocks of actions throughout your code\n",
    "- Use of in-built features / external code libraries\n",
    "- Use of recursion"
   ]
  },
  {
   "cell_type": "markdown",
   "metadata": {},
   "source": [
    "# Bonus Tasks"
   ]
  },
  {
   "cell_type": "markdown",
   "metadata": {},
   "source": [
    "Finished everything else? These tasks are more challenging, and should test your knowledge of our final week of content. Don't be discouraged if you can't do them all!"
   ]
  },
  {
   "cell_type": "markdown",
   "metadata": {},
   "source": [
    "> You're a pirate, sailing the seven seas and looking for treasure. You've got a treasure map, consisting of a grid split into many different squares. Not only that, but it's marked with the number of buried treasures in each square's region! But alas, the strong tailwinds mean you can only sail to squares south or east of your current location, starting at the most north-west square. Can you find the most bountiful route through these waters, ending at your home port in the very south-east?\n",
    ">\n",
    "> ***Example image here for clarity on the task***\n",
    "> \n",
    "> Bonus 1: Write a function that takes in a 2D list representing the treasure values on each map grid square, and returns the maximum number of treasures that could be claimed in a single trip across these windy waters..."
   ]
  },
  {
   "cell_type": "code",
   "execution_count": null,
   "metadata": {},
   "outputs": [],
   "source": [
    "def maximum_treasure(grid) -> int:\n",
    "    # This is just the maximum treasure count at the bottom-right grid square. Return it!\n",
    "    return max_at_square(grid, len(grid) - 1, len(grid[0]) - 1)\n",
    "\n",
    "def max_at_square(grid, x: int, y: int) -> int:\n",
    "    # What makes a coordinate invalid?\n",
    "    # What should we return in this case?\n",
    "    \n",
    "    # The maximum number of treasures up to and including this square.\n",
    "    # ...the best of two other best routes, plus itself?\n",
    "    return 0\n",
    "\n",
    "print(\n",
    "    maximum_treasure(\n",
    "        [\n",
    "            [1, 3, 4], \n",
    "            [2, 3, 1], \n",
    "            [1, 3, 2]\n",
    "        ]\n",
    "    )  # Should return 12 (1 -> 3 -> 3 -> 3 -> 2)\n",
    ")\n",
    "# What will happen on much larger lists?\n",
    "print(maximum_treasure([[1] * 50] * 50))\n",
    "# :)"
   ]
  },
  {
   "cell_type": "markdown",
   "metadata": {},
   "source": [
    "> Bonus 2: (Infection Testing Q using classes)"
   ]
  },
  {
   "cell_type": "markdown",
   "metadata": {},
   "source": [
    "### ***This week of content was written by the Computing Society***\n",
    "\n",
    "We hope you enjoyed the course!"
   ]
  }
 ],
 "metadata": {
  "kernelspec": {
   "display_name": "Python 3.10.6 64-bit",
   "language": "python",
   "name": "python3"
  },
  "language_info": {
   "codemirror_mode": {
    "name": "ipython",
    "version": 3
   },
   "file_extension": ".py",
   "mimetype": "text/x-python",
   "name": "python",
   "nbconvert_exporter": "python",
   "pygments_lexer": "ipython3",
   "version": "3.10.6"
  },
  "orig_nbformat": 4,
  "vscode": {
   "interpreter": {
    "hash": "7c57092efe4ff60dfd9ba12cd3127c3cb8001227526172b4b54478afc6e523e7"
   }
  }
 },
 "nbformat": 4,
 "nbformat_minor": 2
}
