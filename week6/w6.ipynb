{
 "cells": [
  {
   "cell_type": "markdown",
   "metadata": {},
   "source": [
    "# xSoc Python Course Week 6 \n",
    "### *Efficiency, Compactness, Readability*"
   ]
  },
  {
   "cell_type": "markdown",
   "metadata": {},
   "source": [
    "## Recursion means Recursion"
   ]
  },
  {
   "cell_type": "markdown",
   "metadata": {},
   "source": [
    "One way to make things more compact is through recursion. Put simply, *recursive* functions are defined in terms of themselves. For example, this recursive function calculates the sum of the first $n$ integers."
   ]
  },
  {
   "cell_type": "code",
   "execution_count": null,
   "metadata": {},
   "outputs": [],
   "source": [
    "# Calculates 1 + 2 + ... + n, recursively\n",
    "def sum_of_first(n: int):\n",
    "    # Base Case (will eventually be reached)\n",
    "    if (n <= 0):\n",
    "        return 0\n",
    "    \n",
    "    # General Case (argument steps down by 1 each time)\n",
    "    return n + sum_of_first(n-1)\n",
    "\n",
    "print(sum_of_first(4))\n",
    "print(sum_of_first(7))\n",
    "print(sum_of_first(0))"
   ]
  },
  {
   "cell_type": "markdown",
   "metadata": {},
   "source": [
    "Cool, right? But be careful! Every recursive function must satisfy 3 conditions, or else you're in for a bad time:\n",
    "- It must have at least one *base case*, some combination of arguments that makes it stop calling itself.\n",
    "- It must have a *recursive case* that moves you towards reaching the base case.\n",
    "- The base case must be reached after a *finite* number of function calls!\n",
    "\n",
    "Too many stacked function calls will lead to a *Stack Overflow* Exception, because our computer has run out of memory.\n",
    "\n",
    "Recursive functions are a powerful tool, because they allow us to write what might otherwise be a large chunk of code in a compact way, that (depending on what it does) might be easier to understand too."
   ]
  },
  {
   "cell_type": "markdown",
   "metadata": {},
   "source": [
    "> Task 1: What do each of the following recursive functions do?\n",
    "\n",
    "*If you're still not quite sure, feel free to call the function with different values.*"
   ]
  },
  {
   "cell_type": "code",
   "execution_count": null,
   "metadata": {},
   "outputs": [],
   "source": [
    "# Function 1\n",
    "def f(n: int) -> int:\n",
    "    if n == 0:\n",
    "        return n\n",
    "    return n * f(n-1)"
   ]
  },
  {
   "cell_type": "code",
   "execution_count": 19,
   "metadata": {},
   "outputs": [],
   "source": [
    "# Function 2\n",
    "def r(s: str) -> bool:\n",
    "    if len(s) <= 1:\n",
    "        return True\n",
    "    if s[0] != s[-1]:\n",
    "        return False\n",
    "    return r(s[1:-1])"
   ]
  },
  {
   "cell_type": "code",
   "execution_count": null,
   "metadata": {},
   "outputs": [],
   "source": [
    "# Function 3\n",
    "def p(x: int, n: int) -> int:\n",
    "    if n == 0:\n",
    "        return 1\n",
    "    \n",
    "    result = p(x, n // 2)\n",
    "    result *= result\n",
    "    if n % 2 == 1:\n",
    "        result *= x\n",
    "    return result"
   ]
  },
  {
   "cell_type": "markdown",
   "metadata": {},
   "source": [
    "> Task 2: Write a recursive function that takes a list of numbers as input, and multiplies them all together.\n",
    "\n",
    "*There are easier ways of doing this in practice, this is just to get you used to writing recursive functions.*"
   ]
  },
  {
   "cell_type": "code",
   "execution_count": null,
   "metadata": {},
   "outputs": [],
   "source": [
    "def recursive_product(nums: list) -> int:\n",
    "    # Base Case?\n",
    "    if not nums:\n",
    "        return 0\n",
    "\n",
    "    # Recursive Case?\n",
    "    return 404\n",
    "\n",
    "print(recursive_product(3, 4, 5))  # Should output 60"
   ]
  },
  {
   "cell_type": "markdown",
   "metadata": {},
   "source": [
    "Looks like you've got the basics of recursion down. Let's discuss one more example before moving on - Fibonnacci numbers.\n",
    "\n",
    "The first two Fibonnaci numbers are $F(0)=0$ and $F(1) = 1$. From there we have $F(n) = F(n-1)+F(n-2)$ - in other words, the next term in the sequence is the sum of the two previous terms. As you might expect, this is perfect for recursion. Give it a run!"
   ]
  },
  {
   "cell_type": "code",
   "execution_count": null,
   "metadata": {},
   "outputs": [],
   "source": [
    "def fib(n: int) -> int:\n",
    "    if n <= 1:\n",
    "        return n\n",
    "    return fib(n-1) + fib(n-2)\n",
    "\n",
    "print(fib(4))\n",
    "print(fib(20))\n",
    "print(fib(50))"
   ]
  },
  {
   "cell_type": "markdown",
   "metadata": {},
   "source": [
    "Hmm, that's strange. The first two function calls printed something out, but the third one didn't. Or at least, that's what it looks like. The truth is, `fib(50)` is still being computed by your machine! Surely that can't be correct, it's not that tricky to add the previous terms together until we reach $F(50)$, right? Look, here's a non-recursive version that handles it just fine:"
   ]
  },
  {
   "cell_type": "code",
   "execution_count": null,
   "metadata": {},
   "outputs": [],
   "source": [
    "def fib_linear(n: int) -> int:\n",
    "    if n <= 1:\n",
    "        return n\n",
    "    prev = 0\n",
    "    curr = 1\n",
    "\n",
    "    for _ in range(n-1):\n",
    "        prev, curr = curr, prev + curr\n",
    "\n",
    "    return curr\n",
    "\n",
    "print(fib_linear(50))"
   ]
  },
  {
   "cell_type": "markdown",
   "metadata": {},
   "source": [
    "So what's really going on here? It's to do with the way that functions are called by Python itself. Some functions might do something slightly different each time they're called, even with the same parameters. Because of this, after Python returns a result from `fib()`, it throws away the connection between the parameters passed and the result returned. \n",
    "\n",
    "So, we're not just computing one call of `fib()` for each parameter. We're computing..."
   ]
  },
  {
   "cell_type": "markdown",
   "metadata": {},
   "source": [
    "***There should be a diagram of the exploding recursive call tree here.***"
   ]
  },
  {
   "cell_type": "markdown",
   "metadata": {},
   "source": [
    "Oh god."
   ]
  },
  {
   "cell_type": "markdown",
   "metadata": {},
   "source": [
    "Okay, so how do we stop Python from doing this? Well, there are two ways. The first is to build up a dictionary of previously seen values, and stop ourselves every time we're about to make an unnecessary call by doing a lookup instead. Not amazing to read, but does the job:"
   ]
  },
  {
   "cell_type": "code",
   "execution_count": null,
   "metadata": {},
   "outputs": [],
   "source": [
    "seen = {}\n",
    "\n",
    "def fib_dict(n: int) -> int:\n",
    "    if n <= 1:\n",
    "        return n\n",
    "    prev1 = seen[n-1] if n-1 in seen else fib_dict(n-1)\n",
    "    prev2 = seen[n-2] if n-2 in seen else fib_dict(n-2)\n",
    "    seen[n] = prev1 + prev2\n",
    "    return seen[n]\n",
    "\n",
    "print(fib_dict(50))\n",
    "print(fib_dict(100))"
   ]
  },
  {
   "cell_type": "markdown",
   "metadata": {},
   "source": [
    "There's a cooler answer, and it's called the `cache` **decorator**. We're not going to spend too much time discussing decorators, but all you need to know is that it's a fancy function that uses another function as argument (yes, you can do that, sorry). Something to look into after you've finished this course, eh? Behind the scenes we're effectively doing the same as the above method, but it looks a lot cleaner."
   ]
  },
  {
   "cell_type": "code",
   "execution_count": null,
   "metadata": {},
   "outputs": [],
   "source": [
    "from functools import cache\n",
    "\n",
    "@cache\n",
    "def fib_cache(n: int) -> int:\n",
    "    if n <= 1:\n",
    "        return n\n",
    "    return fib_cache(n-1) + fib_cache(n-2)\n",
    "\n",
    "print(fib_cache(50))\n",
    "print(fib_cache(100))"
   ]
  },
  {
   "cell_type": "markdown",
   "metadata": {},
   "source": [
    "Let's put what we've learned into practice with a trickier recursive task."
   ]
  },
  {
   "cell_type": "markdown",
   "metadata": {},
   "source": [
    "> You're a pirate, sailing the seven seas and looking for treasure. You've got a treasure map, consisting of a grid split into many different squares. Not only that, but it's marked with the number of buried treasures in each square's region! But alas, the strong tailwinds mean you can only sail to squares south or east of your current location, starting at the most north-west square. Can you find the most bountiful route through these waters, ending at your home port in the very south-east?\n",
    ">\n",
    "> ***Example image here for clarity on the task***\n",
    "> \n",
    "> Task: Write a function that takes in a 2D list representing the treasure values on each map grid square, and returns the maximum number of treasures that could be claimed in a single trip across these windy waters..."
   ]
  },
  {
   "cell_type": "code",
   "execution_count": null,
   "metadata": {},
   "outputs": [],
   "source": [
    "def maximum_treasure(grid) -> int:\n",
    "    # This is just the maximum treasure count at the bottom-right grid square. Return it!\n",
    "    return max_at_square(grid, len(grid) - 1, len(grid[0]) - 1)\n",
    "\n",
    "def max_at_square(grid, x: int, y: int) -> int:\n",
    "    # What makes a coordinate invalid?\n",
    "    # What should we return in this case?\n",
    "    if x < 0 or y < 0:\n",
    "        return 0\n",
    "    \n",
    "    # The maximum number of treasures up to and including this square.\n",
    "    # ...the best of two other best routes, plus itself?\n",
    "    return grid[x][y] + max(max_at_square(grid, x, y-1), max_at_square(grid, x-1, y))\n",
    "\n",
    "print(\n",
    "    maximum_treasure(\n",
    "        [\n",
    "            [1, 3, 4], \n",
    "            [2, 3, 1], \n",
    "            [1, 3, 2]\n",
    "        ]\n",
    "    )  # Should return 12 (1 -> 3 -> 3 -> 3 -> 2)\n",
    ")\n",
    "# What will happen on much larger lists?\n",
    "print(maximum_treasure([[1] * 50] * 50))"
   ]
  },
  {
   "cell_type": "markdown",
   "metadata": {},
   "source": [
    "## Searching for an answer"
   ]
  },
  {
   "cell_type": "markdown",
   "metadata": {},
   "source": [
    "The most basic way to find an item in a list is using a ***Linear Search***. This just entails using a loop to iterate through each element in the list, one-by-one, until either we find the item we want, or we reach the last item in the list (which isn't the target).\n",
    "\n",
    "Another searching algorithm is a ***Binary Search***:\n",
    "- Choose the midpoint of the list as the *pivot*\n",
    "- If the pivot is the target, return the index of the pivot\n",
    "- If the pivot is larger than the target, look in the left sublist\n",
    "- If the pivot is smaller than the target, look in the right sublist\n",
    "- If you only have one item in the list, and it isn't the target, the target is not in the list\n",
    "\n",
    "In order to work, the Binary Search can only be used on *ordered* lists. Otherwise, we can't guarantee that when we discard part of the list, we're not discarding the target item. That means you may need to sort the list before searching. Here's a Python implementation (assuming all elements in the list are of the same type):"
   ]
  },
  {
   "cell_type": "code",
   "execution_count": null,
   "metadata": {},
   "outputs": [],
   "source": [
    "def binary_search(arr, target):\n",
    "    arr.sort()      # make sure the array is sorted\n",
    "    low = 0     # start of the list\n",
    "    high = len(arr) - 1     # last index of the list\n",
    "\n",
    "    while low <= high:    # checks we haven't looked at every element in the list\n",
    "        mid = (low+high) // 2\n",
    "        if arr[mid] == target:\n",
    "            return mid      # we found the item!\n",
    "        elif arr[mid] < target:\n",
    "            low = mid+1     # move to the right sublist\n",
    "        else:\n",
    "            high = mid - 1      # move to the left sublist\n",
    "    return False    # item isn't in the list\n",
    "\n",
    "my_array = [1, 1, 2, 3, 5, 8, 13]\n",
    "print(binary_search(my_array, 1))       # should be fine\n",
    "print(binary_search(my_array, 14))      # uh-oh"
   ]
  },
  {
   "cell_type": "markdown",
   "metadata": {},
   "source": [
    "The Binary Search is *orders* more efficient than the Linear Search. In Big-Oh terms, a Linear Search runs in O(n), whereas the Binary Search runs in O(log(n)). The reason? Think about how the binary search works: if we don't find the element, we discard part of the list. To be exact, since we choose the pivot as the midpoint of the list, we discard *half* of the list. That means the binary search reduces our search space by half... at every iteration. So the expected number of pivots we check is log2(n), where n is the initial size of the array.\n",
    "\n",
    "Once again, Python has an in-built search function: the `in` keyword:"
   ]
  },
  {
   "cell_type": "code",
   "execution_count": null,
   "metadata": {},
   "outputs": [],
   "source": [
    "my_array = [1, 1, 2, 3, 5, 8, 13]\n",
    "print(1 in my_array)       # should be fine\n",
    "print(14 in my_array)      # uh-oh"
   ]
  },
  {
   "cell_type": "markdown",
   "metadata": {},
   "source": [
    "Since Python supports string indexing, you can also search for substrings within strings (`in` is case-sensitive - the string has to match exactly):"
   ]
  },
  {
   "cell_type": "code",
   "execution_count": null,
   "metadata": {},
   "outputs": [],
   "source": [
    "my_string = \"Computing Society!\"\n",
    "print(\"Comp\" in my_string)\n",
    "print(\"comp\" in my_string)"
   ]
  },
  {
   "cell_type": "markdown",
   "metadata": {},
   "source": [
    "> Task: I've written the *iterative* implementation of the binary search, now you write the *recursive* implementation."
   ]
  },
  {
   "cell_type": "markdown",
   "metadata": {},
   "source": [
    "### A Few Useful Data Structures\n",
    "A ***set*** is a collection that is \n",
    "- Unordered - items can appear in any order\n",
    "- Unindexed - items cannot be referred to by an index or key\n",
    "- Unchangable - once a set has been declared, you cannot directly edit an individual element\n",
    "\n",
    "It also does not allow duplicate values. Just like with lists, sets can contain elements of different types.\n",
    "\n",
    "The syntax for declaring a set is: `my_set = {\"item1\", \"item2\", \"item3\", ...}`\n",
    "\n",
    "An alternative way to declare a set is by using the set constructor: `my_constructed_set = set((\"first_item\", \"second_time\", ...))`\n",
    "\n",
    "Note the double brackets here - they're important as they tell Python that all the values we passed in are the values we want to add to the set.\n",
    "\n",
    "The only way to \"change\" the members of a set is by using the `.add()` and `.remove()` elements, which do what they say on the tin. Note `.remove()` will return an error if the element you pass in does not appear in the set.\n",
    "\n",
    "Since items are unindexed, there's no way to directly access them. You can however loop through the *entire* set with a for loop:"
   ]
  },
  {
   "cell_type": "code",
   "execution_count": null,
   "metadata": {},
   "outputs": [],
   "source": [
    "my_set = {1,2,3}\n",
    "\n",
    "for el in my_set:\n",
    "    print(el)"
   ]
  },
  {
   "cell_type": "markdown",
   "metadata": {},
   "source": [
    "Python also supports standard set operations with the methods `.difference()`, `.intersection()`, `.symmetric_difference()` and `.union()`. Using these methods will return a new set, if you just want to update an existing set, use the methods `.difference_update()`, `.intersection_update()`, `.symmetric_difference_update()` and `.update()`. Here's a quick example to show the difference:"
   ]
  },
  {
   "cell_type": "code",
   "execution_count": null,
   "metadata": {},
   "outputs": [],
   "source": [
    "set1 = {\"a\", \"b\" , \"c\"}\n",
    "set2 = {1, 2, 3}\n",
    "\n",
    "print(set1)\n",
    "print(set2)\n",
    "\n",
    "set3 = set1.union(set2)\n",
    "print(set3)\n",
    "set1.update(set2)\n",
    "print(set1)"
   ]
  },
  {
   "cell_type": "markdown",
   "metadata": {},
   "source": [
    "> Task: Using the \"standard\" methods (i.e. `.difference()`, `.intersection()`, etc.) to print out the difference, intersection, symmetric difference and union of the sets containing the first 10 multiples of 3, the first 10 multiples of 4, and the first 10 multiples of 5.\n",
    ">\n",
    "> Task: Repeat using the update variations."
   ]
  },
  {
   "cell_type": "markdown",
   "metadata": {},
   "source": [
    "### Condensing your code\n",
    "You may have gathered by now that Python is a big fan of shorthand notations. ***Comprehensions*** cut-down the amount of lines used up when you declare a new list/set/dictionary.\n",
    "\n",
    "A ***list comprehension*** has the format `new_list = [output for var in input]`, e.g. this snippet declares a list of the numbers 1 to 10 (inclusive): `numbers = [i for i in range(1,11)]`. You can also have `if` statements in the comprehension: `even_numbers = [i for i in range(1,11) if (i % 2 == 0)]` would make a list of all the even numbers between 1 and 10. If you want to include an `else` statement, the condition needs to come first, followed by the for loop: `numbers = [\"even\" if (i % 2 == 0) else \"odd\" for i in range(1,11)]`. Note: there's no `elif` statments here - you'll need to put another `if` statement after your `else`.\n",
    "\n",
    "> Task: using a list comprehension, create a list called `fizz_buzz`. The list should have a length of 50 and follow these rules (here index will start from 1 on the first element):\n",
    "> - If the index is divisible by 3, the element should be \"Fizz\"\n",
    "> - If the index is divisible by 5, the element should be \"Buzz\"\n",
    "> - If the index is divisible by 3 *and* 5, the element should be \"FizzBuzz\"\n",
    "> - Otherwise, the element should simply be the index."
   ]
  },
  {
   "cell_type": "markdown",
   "metadata": {},
   "source": [
    "One of the main issues with using any format of comprehension is that your \"simplification\" can quickly become very complicated. This can happen especially when nesting list comprehensions *within* list comprehensions, or, like in the `fizz_buzz` task, where you had many conditions to consider. If things do start to get tricky, and you're struggling with how to write the comprehension, it's best to just stick with the long way - otherwise you may introduce an error into your program."
   ]
  },
  {
   "cell_type": "markdown",
   "metadata": {},
   "source": [
    "If implementing your own sort is too much effort, don't worry - Python has your back. The inbuilt `sort()` method can be called on any list using `array.sort()`. The method will sort the list in ascending order by default; if you want the list sorted in ascending order you need to specify the `reverse` parameter: `array.sort(reverse=true)`.\n",
    "\n",
    "> Task: Use `.sort()` to sort `unsorted_array` in *ascending* order. Now sort it in *descending* order."
   ]
  },
  {
   "cell_type": "markdown",
   "metadata": {},
   "source": [
    "### A Quick Detour: Efficiency and Big-Oh\n",
    "If the first bubble sort we wrote worked, then why did we improve it? It has to do with *code efficiency*. Often, there are lots of different implementations that solve the same problem. The best solutions will run the fastest, and use the least amount additional storage space. Many of the constructs you've learned over the past weeks will help with writing efficient code, such as:\n",
    "- Using loops for repeated actions\n",
    "- Using data structures instead of separate variables\n",
    "- Using functions if you're going to be repeating the same blocks of actions throughout your code\n",
    "- Use of in-built features / external code libraries\n",
    "- Use of recursion\n",
    "\n",
    "A fairly common notation you'll see when talking about the efficiency of algorithms is **Big-Oh notation O()**. Big-Oh gives us an upper bound to the growth rate of an algorithm as the input size *n* increases. \n",
    "Big-Oh has a couple of basic rules:\n",
    "- If your run time is a polynomial of degree *d*, then the run time is O(nᵈ). You drop any lower-order and constant terms (as n increases, the nᵈ term grows the fastest)\n",
    "- Use the *smallest possible* class of function\n",
    "\n",
    "For example, consider going one by one through a list of *n* elements. As we add more elements to the list, it's going to take longer to visit all of the elements. The time varies linearly (hence the term *linear search*) with input size, so we say it runs in O(n) time.\n",
    "\n",
    "By contrast, the bubble and insertion sorts we wrote in the previous section run in O(n²) time. That means that the run time of our algorithms grow proportional to the **square** of the size of the input. For smaller inputs, it's not a huge problem, but if were sorting arrays with thousands of elements, things would quickly get out of hand.\n",
    "\n",
    "Not to say that there aren't *worse* sorting algorithms out there. The ***Bogosort*** has no upper bound on its runtime (aka O(∞)) and an **average** runtime of O((n+1)!). Here's a lovely implementation of it below, and an example list of 12 numbers for it to sort. Go on, give it a run!"
   ]
  },
  {
   "cell_type": "code",
   "execution_count": null,
   "metadata": {},
   "outputs": [],
   "source": [
    "from random import shuffle\n",
    "\n",
    "def in_order(some_list):\n",
    "    for i in range(len(some_list)-1):\n",
    "        if some_list[i] >= some_list[i+1]:\n",
    "            return False\n",
    "    return True\n",
    "\n",
    "def bogosort(some_list):\n",
    "    while not in_order(some_list):\n",
    "        shuffle(some_list)\n",
    "\n",
    "nums = [2, 3, 4, 5, 6, 7, 8, 9, 10, 11, 12, 1]\n",
    "bogosort(nums)\n",
    "print(nums)"
   ]
  },
  {
   "cell_type": "markdown",
   "metadata": {},
   "source": [
    "Unsuprisingly, nobody actually uses Bogosorts."
   ]
  },
  {
   "cell_type": "markdown",
   "metadata": {},
   "source": [
    "### Coding Practices\n",
    "80% of coding is knowing how to code, the remaining 20% is knowing how to code *nicely*. That means writing your code bearing in mind that someone else might have to read it, and they won't want to spend much effort trying to figure out what you're trying to do (it also helps avoid the \"what was I thinking\" moments when you go back to debug your code). The general term for confusing, unclear, badly written code is ***Spaghetti Code***. We want to avoid spaghetti code as much as possible, otherwise we end up with code like this:"
   ]
  },
  {
   "cell_type": "code",
   "execution_count": null,
   "metadata": {},
   "outputs": [],
   "source": [
    "def func(a, b):\n",
    "    if a == 0:\n",
    "        return b\n",
    " \n",
    "    return func(b % a, a)\n",
    "\n",
    "# what did I just read"
   ]
  },
  {
   "cell_type": "markdown",
   "metadata": {},
   "source": [
    "Can you figure out what that function does? You're looking at a *very badly* written implementation of the Euclidean Algorithm (finds the GCD of any two numbers).\n",
    "\n",
    "To make your code more readable, there's a few things you can do:\n",
    "- Use meaningful variable names, and be consistent with how you name variables (e.g. camelCasing, snake_casing)\n",
    "- Have whitespace (empty lines) in your code to split it up\n",
    "- Use comments to explain what your code is doing; you don't have to comment every line - just ones where its not obvious or you think the line is important. In fact, over-commenting is just as bad as not commenting at all\n",
    "- Be consistent with your indentation\n",
    "- Avoid hard-coding values in your code (e.g. if you had an array length 5, just using the number 5 instead of len(array)) - it makes it harder to change your code if your values need to change"
   ]
  },
  {
   "cell_type": "markdown",
   "metadata": {},
   "source": [
    "### ***This week of content was written by the Computing Society***\n",
    "\n",
    "We hope you enjoyed the course!"
   ]
  }
 ],
 "metadata": {
  "kernelspec": {
   "display_name": "Python 3.10.4 64-bit",
   "language": "python",
   "name": "python3"
  },
  "language_info": {
   "codemirror_mode": {
    "name": "ipython",
    "version": 3
   },
   "file_extension": ".py",
   "mimetype": "text/x-python",
   "name": "python",
   "nbconvert_exporter": "python",
   "pygments_lexer": "ipython3",
   "version": "3.10.4"
  },
  "orig_nbformat": 4,
  "vscode": {
   "interpreter": {
    "hash": "268a003517095b3e00ec49a0832a87899bac50083c754616205934d33472dfcd"
   }
  }
 },
 "nbformat": 4,
 "nbformat_minor": 2
}
