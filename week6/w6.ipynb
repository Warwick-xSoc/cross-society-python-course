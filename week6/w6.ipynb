{
 "cells": [
  {
   "cell_type": "markdown",
   "metadata": {},
   "source": [
    "# xSoc Python Course Week 6: Efficiency, Compactness and Coding Practices"
   ]
  },
  {
   "cell_type": "markdown",
   "metadata": {},
   "source": [
    "### Recursion\n",
    "**Recursion** means defining a function in terms of itself; you'll call the function you're writing inside itself. Every recursive function has to have 3 features:\n",
    "- **Base case**: the non-recursive case, which returns an actual value (or none!)\n",
    "- **General case**: the recursive case, which makes a call to the function again. Each call should move you closer to reaching the base case\n",
    "- You ***must*** reach a base case after a finite number of function calls. Bad things happen if you don't\n",
    "\n",
    "Have a look at this code snippet:"
   ]
  },
  {
   "cell_type": "code",
   "execution_count": null,
   "metadata": {},
   "outputs": [],
   "source": [
    "current = 1\n",
    "previous = 1\n",
    "\n",
    "for i in range(5):\n",
    "    print(previous)\n",
    "    temp = current\n",
    "    current += previous\n",
    "    previous = temp\n"
   ]
  },
  {
   "cell_type": "markdown",
   "metadata": {},
   "source": [
    "Hopefully, you'll recognise the first 5 terms of the Fibonacci sequence. If you look closely however, this loop fufills the criteria for a recursive function:\n",
    "- Base case: have we printed out 5 terms?\n",
    "- General case: printing the next term, updating the values of previous and current\n",
    "- At each general case, we increment a counter variable by 1\n",
    "\n",
    "Here's the Fibonacci code rewritten to be a recursive function:"
   ]
  },
  {
   "cell_type": "code",
   "execution_count": null,
   "metadata": {},
   "outputs": [],
   "source": [
    "def recursive_fibonacci(counter, previous, current):\n",
    "    if counter > 4:\n",
    "        return\n",
    "    else:\n",
    "        print(previous)\n",
    "        return recursive_fibonacci(counter+1, current, current+previous)\n",
    "\n",
    "recursive_fibonacci(0, 1, 1)"
   ]
  },
  {
   "cell_type": "markdown",
   "metadata": {},
   "source": [
    "Note that this function looks nicer than the previous for loop. In general, recursion is preferred because it's often more succinct and easier to follow.\n",
    "> Task: Modify the `recursive_fibonacci()` function so that the user can change how many terms are printed out\n",
    ">\n",
    "> Task: Which of the following snippets can be re-written to be recursive functions? Where possible, implement the recursive function.\n",
    ">\n",
    "> 1)\n",
    "> <pre><code>from random import randint\n",
    ">\n",
    "> for i in range(0, 100, 2): #the loop will start at 0, increment i by 2 each time, and stop when i > 100\n",
    ">     total += i * randint(1,11) * randint(1,11)  #randint(1,11) generates a random integer between 1 and 10\n",
    ">     if total > 75:\n",
    ">         break\n",
    "> </code></pre>\n",
    "> 2)\n",
    "> <pre><code>from random import randint\n",
    ">\n",
    "> i = 0\n",
    "> while i < 100:\n",
    ">     total += i * randint(1,11) * randint(1,11)\n",
    "> </code></pre>\n",
    "> 3)\n",
    "> <pre><code>def isPalindrome(str):\n",
    ">     i = 0\n",
    ">     j = len(str) - 1\n",
    ">     while (i != j and str[i] == str[j]):\n",
    ">         i += 1\n",
    ">         j -= 1\n",
    ">     return i == j\n",
    "> </code></pre>"
   ]
  },
  {
   "cell_type": "markdown",
   "metadata": {},
   "source": [
    "### A Few Useful Data Structures\n",
    "A ***set*** is a collection that is \n",
    "- Unordered - items can appear in any order\n",
    "- Unindexed - items cannot be referred to by an index or key\n",
    "- Unchangable - once a set has been declared, you cannot directly edit an individual element\n",
    "\n",
    "It also does not allow duplicate values. Just like with lists, sets can contain elements of different types.\n",
    "\n",
    "The syntax for declaring a set is:\n",
    "<pre><code>`my_set = {\"item1\", \"item2\", \"item3\", ...}`</code></pre>\n",
    "\n",
    "An alternative way to declare a set is by using the set constructor:\n",
    "<pre><code>my_constructed_set = set((\"first_item\", \"second_time\", ...))`</code></pre>\n",
    "Note the double brackets here - they're important as they tell Python that all the values we passed in are the values we want to add to the set.\n",
    "\n",
    "The only way to \"change\" the members of a set is by using the `.add()` and `.remove()` elements, which do what they say on the tin. Note `.remove()` will return an error if the element you pass in does not appear in the set.\n",
    "\n",
    "Since items are unindexed, there's no way to directly access them. You can however loop through the *entire* set with a for loop:"
   ]
  },
  {
   "cell_type": "code",
   "execution_count": null,
   "metadata": {},
   "outputs": [],
   "source": [
    "my_set = {1,2,3}\n",
    "\n",
    "for el in my_set:\n",
    "    print(el)"
   ]
  },
  {
   "cell_type": "markdown",
   "metadata": {},
   "source": [
    "Python also supports standard set operations with the methods `.difference()`, `.intersection()`, `.symmetric_difference()` and `.union()`. Using these methods will return a new set, if you just want to update an existing set, use the methods `.difference_update()`, `.intersection_update()`, `.symmetric_difference_update()` and `.update()`. Here's a quick example to show the difference:"
   ]
  },
  {
   "cell_type": "code",
   "execution_count": null,
   "metadata": {},
   "outputs": [],
   "source": [
    "set1 = {\"a\", \"b\" , \"c\"}\n",
    "set2 = {1, 2, 3}\n",
    "\n",
    "print(set1)\n",
    "print(set2)\n",
    "\n",
    "set3 = set1.union(set2)\n",
    "print(set3)\n",
    "set1.update(set2)\n",
    "print(set1)"
   ]
  },
  {
   "cell_type": "markdown",
   "metadata": {},
   "source": [
    "> Task: Using the \"standard\" methods (i.e. `.difference()`, `.intersection()`, etc.) to print out the difference, intersection, symmetric difference and union of the sets containing the first 10 multiples of 3, the first 10 multiples of 4, and the first 10 multiples of 5.\n",
    ">\n",
    "> Task: Repeat using the update variations.\n",
    "\n",
    "A ***dictionary*** is a collection that is:\n",
    "- Ordered (as of Python 3.7)\n",
    "- Changeable\n",
    "\n",
    "Items are stored in **key:value pairs**. A dictionary cannot contain duplicate keys, but duplicate values are fine. Keys don't have to be the same type as their values, and keys and values can be different types to each other.\n",
    "\n",
    "The syntax for declaring a set is:\n",
    "<pre><code>my_dict = {\n",
    "    \"key1\": \"val1\",\n",
    "    \"key2\": \"val2\",\n",
    "    ...\n",
    "}</code></pre>\n",
    "\n",
    "This can technically be done on one line, but it's easier to read if you use a new line for each key:value pair. Also, you don't need a comma for the final key:value pair.\n",
    "\n",
    "In very cursed fashion, a dictionary can be a *value* in another dictionary:"
   ]
  },
  {
   "cell_type": "code",
   "execution_count": null,
   "metadata": {},
   "outputs": [],
   "source": [
    "my_dict_of_dicts = {\n",
    "    \"key1\": {       # this is completely fine for some reason\n",
    "        \"subkey1\": \"oh god\",\n",
    "        \"subkey2\": \"what have you done\"\n",
    "    },\n",
    "    \"key2\": \"the less cursed one\"\n",
    "}\n",
    "\n",
    "for key,val in my_dict_of_dicts.items():\n",
    "    print(f\"{key}: {val}\")"
   ]
  },
  {
   "cell_type": "markdown",
   "metadata": {},
   "source": [
    "We'll go over what that for loop is actually doing a bit later.\n",
    "\n",
    "Accessing the value of a particular key in a dictionary is done similar to accessing an element of a list: `value = dict_name[key_name]`. If the key isn't in the dictionary, you'll get an error. \n",
    "\n",
    "Editting the value of a key is also done like an array: `dict_name[key_name] = value`. You can also use the `.update()` method: `dict_name.update({'key':'value'})`. If the key isn't in the dictionary, both these ways will just add the key:value pair to the dictionary.\n",
    "\n",
    "To remove a value from a dictionary, you can use:\n",
    "- `.pop(key)`, which will remove `key` and its associated value from the dictionary\n",
    "- `.popitem()`, which removes the last inserted item (pre-3.7, a random item was removed)\n",
    "- the `del` keyword:\n",
    "    - `del dict_name[key_name]` removes the specified key and its value\n",
    "    - `del dict_name` deletes the *entire* dictionary\n",
    "\n",
    "To iterate through all the keys in a dictionary we use a for loop:\n",
    "<pre><code>for key in dict_name:\n",
    "    print(key)\n",
    "</code></pre>\n",
    "We can also use the `.keys()` method:\n",
    "<pre><code>for key in dict_name.keys():\n",
    "    print(key)\n",
    "</code></pre>\n",
    "\n",
    "We can iterate through the values in a similar way:\n",
    "<pre><code>for key in dict_name:\n",
    "    print(dict_name[key])\n",
    "</code></pre>\n",
    "Using the `.values()` method:\n",
    "<pre><code>for val in dict_name.values():\n",
    "    print(val)\n",
    "</code></pre>\n",
    "\n",
    "The `.items()` method returns tuples containing the keys and values in the dictionary, you can either loop through them as we showed earlier, or by indexing the tuple:\n",
    "<pre><code>for item in dict_name.items():\n",
    "    print(f\"{item[0]}: {item[1]}\")\n",
    "</code></pre>"
   ]
  },
  {
   "cell_type": "markdown",
   "metadata": {},
   "source": [
    "### Condensing your code\n",
    "You may have gathered by now that Python is a big fan of shorthand notations. ***Comprehensions*** cut-down the amount of lines used up when you declare a new list/set/dictionary.\n",
    "\n",
    "A ***list comprehension*** has the format `new_list = [output for var in input]`, e.g. this snippet declares a list of the numbers 1 to 10 (inclusive): `numbers = [i for i in range(1,11)]`. You can also have `if` statements in the comprehension: `even_numbers = [i for i in range(1,11) if (i % 2 == 0)]` would make a list of all the even numbers between 1 and 10. If you want to include an `else` statement, the condition needs to come first, followed by the for loop: `numbers = [\"even\" if (i % 2 == 0) else \"odd\" for i in range(1,11)]`. Note: there's no `elif` statments here - you'll need to put another `if` statement after your `else`.\n",
    "\n",
    "> Task: using a list comprehension, create a list called `fizz_buzz`. The list should have a length of 50 and follow these rules (here index will start from 1 on the first element):\n",
    "> - If the index is divisible by 3, the element should be \"Fizz\"\n",
    "> - If the index is divisible by 5, the element should be \"Buzz\"\n",
    "> - If the index is divisible by 3 *and* 5, the element should be \"FizzBuzz\"\n",
    "> - Otherwise, the element should simply be the index.\n",
    "\n",
    "A ***set comprehension*** is identical to a list comprehension, except it uses the curly braces instead of square brackets.\n",
    "\n",
    "A ***dictionary comprehension*** has the format `my_dict = {key:val for (key,val) in something_iterable}`. The same rules regarding `if`/`elif`/`else` statements in list comprehensions also apply to dictionary comprehensions. Interestingly, if you have a list of keys and a separate list of corresponding values, you can join them together in a dictionary using the `zip()` function, which takes two \"iterables\", joins them into a tuple and returns it:"
   ]
  },
  {
   "cell_type": "code",
   "execution_count": null,
   "metadata": {},
   "outputs": [],
   "source": [
    "keys = [\"key1\", \"key2\", \"key3\"]\n",
    "values = [\"value1\", \"value2\", \"value3\"]\n",
    "\n",
    "key_val_dict = {key:val for (key,val) in zip(keys, values)}\n",
    "\n",
    "for key,val in key_val_dict.items():\n",
    "    print(f\"{key}:{val}\")"
   ]
  },
  {
   "cell_type": "markdown",
   "metadata": {},
   "source": [
    "One of the main issues with using any format of comprehension is that your \"simplification\" can quickly become very complicated. This can happen especially when nesting list comprehensions *within* list comprehensions, or, like in the `fizz_buzz` task, where you had many conditions to consider. If things do start to get tricky, and you're struggling with how to write the comprehension, it's best to just stick with the long way - otherwise you may introduce an error into your program."
   ]
  },
  {
   "cell_type": "markdown",
   "metadata": {},
   "source": [
    "### Sorting Things Out\n",
    "Now that we've introduced some data structures, it's worth introducing some algorithms you might find handy. The first class of algorithms we'll cover are the sorting algorithms. We'll start with the ***Bubble Sort***:"
   ]
  },
  {
   "cell_type": "code",
   "execution_count": null,
   "metadata": {},
   "outputs": [],
   "source": [
    "def bubble_sort(arr):\n",
    "    for i in range(len(arr)):\n",
    "        for j in range(len(arr)):\n",
    "            if arr[i] < arr[j]:\n",
    "                temp = arr[i]\n",
    "                arr[i] = arr[j]\n",
    "                arr[j] = temp\n",
    "    return arr\n",
    "\n",
    "unsorted_array = [2, 7, 1, 5, 3, 8, 0]\n",
    "print(unsorted_array)\n",
    "sorted_array = bubble_sort(unsorted_array)\n",
    "print(sorted_array)"
   ]
  },
  {
   "cell_type": "markdown",
   "metadata": {},
   "source": [
    "Seems fairly simple right? Iterate through the list and check that each element is smaller than all the rest. Our algorithm works, but it's not as efficient as it could be. \n",
    "\n",
    "Luckily, we can exploit one of the features of a bubble sort: after each swap, the largest element (if you're sorting in ascending order) will move to the end of the unsorted list - that means we don't need to check it anymore!\n",
    "\n",
    "But what happens if we pass an already-sorted array into the function? The for-loops would execute anyway, but they wouldn't do anything useful! In the end, the sort would take the same amount of time regardless of how sorted your array already is. We can do better still; what if we check how sorted our array is after each pass by counting the number of swaps we make. If we make no swaps in a pass, we know the array has been sorted. \n",
    "\n",
    "Let's add these features to the code:"
   ]
  },
  {
   "cell_type": "code",
   "execution_count": null,
   "metadata": {},
   "outputs": [],
   "source": [
    "def better_bubble_sort(arr):\n",
    "    swaps = True\n",
    "    n = len(arr) - 1\n",
    "    while (swaps == True):\n",
    "        swaps = False\n",
    "        for i in range(n):\n",
    "            if arr[i] > arr[i+1]:\n",
    "                temp = arr[i]\n",
    "                arr[i] = arr[i+1]\n",
    "                arr[i+1] = temp\n",
    "                swaps = True\n",
    "        n -= 1\n",
    "    return arr\n",
    "\n",
    "unsorted_array = [2, 7, 1, 5, 3, 8, 0]\n",
    "print(unsorted_array)\n",
    "sorted_array = better_bubble_sort(unsorted_array)\n",
    "print(sorted_array)"
   ]
  },
  {
   "cell_type": "markdown",
   "metadata": {},
   "source": [
    "> Task: Another common type of sort is the ***Insertion Sort***. We \"split\" the array into sorted and unsorted parts, then values in the unsorted part are picked and placed in the correct position in the sorted array. Try to implement your own Insertion Sort (there are plenty of solutions online, but try to solve it yourself as much as possible).\n",
    ">\n",
    "> Task (optional): What are the advantages of an Insertion Sort over the Bubble Sort? When might you use one over the other?\n",
    "\n",
    "If implementing your own sort is too much effort, don't worry - Python has your back. The inbuilt `sort()` method can be called on any list using `array.sort()`. The method will sort the list in ascending order by default; if you want the list sorted in ascending order you need to specify the `reverse` parameter: `array.sort(reverse=true)`.\n",
    "\n",
    "> Task: Use `.sort()` to sort `unsorted_array` in *ascending* order. Now sort it in *descending* order."
   ]
  },
  {
   "cell_type": "markdown",
   "metadata": {},
   "source": [
    "### A Quick Detour: Efficiency and Big-Oh\n",
    "If the first bubble sort we wrote worked, then why did we improve it? It has to do with *code efficiency*. Often, there are lots of different implementations that solve the same problem. The best solutions will run the fastest, and use the least amount additional storage space. Many of the constructs you've learned over the past weeks will help with writing efficient code, such as:\n",
    "- Using loops for repeated actions\n",
    "- Using data structures instead of separate variables\n",
    "- Using functions if you're going to be repeating the same blocks of actions throughout your code\n",
    "- Use of in-built features / external code libraries\n",
    "- Use of recursion\n",
    "\n",
    "A fairly common notation you'll see when talking about the efficiency of algorithms is **Big-Oh notation O()**. Big-Oh gives us an upper bound to the growth rate of an algorithm as the input size *n* increases. \n",
    "Big-Oh has a couple of basic rules:\n",
    "- If your run time is a polynomial of degree *d*, then the run time is O(nᵈ). You drop any lower-order and constant terms (as n increases, the nᵈ term grows the fastest)\n",
    "- Use the *smallest possible* class of function\n",
    "\n",
    "For example, consider going one by one through a list of *n* elements. As we add more elements to the list, it's going to take longer to visit all of the elements. The time varies linearly (hence the term *linear search*) with input size, so we say it runs in O(n) time.\n",
    "\n",
    "By contrast, the bubble and insertion sorts we wrote in the previous section run in O(n²) time. That means that the run time of our algorithms grow proportional to the **square** of the size of the input. For smaller inputs, it's not a huge problem, but if were sorting arrays with thousands of elements, things would quickly get out of hand.\n",
    "\n",
    "Not to say that there aren't *worse* sorting algorithms out there. The ***Bogosort*** has no upper bound on its runtime (aka O(∞)) and an **average** runtime of O((n+1)!). We're not going to bother with a Python implementation (you can attempt it if you really want, check Python's `random` library to help), but the pseudocode for the randomised Bogosort is:\n",
    "<pre><code>while not inOrder(list):\n",
    "    shuffle(list)\n",
    "</code></pre>\n",
    "Unsuprisingly, nobody actually uses Bogosorts."
   ]
  },
  {
   "cell_type": "markdown",
   "metadata": {},
   "source": [
    "### Divide and Conquer\n",
    "The Insertion and Bubble sorts are *iterative*. A **Divide and Conquer** algorithm solves a large problem by:\n",
    "<ol>\n",
    "    <li>Breaking the problem into smaller sub-problems</li>\n",
    "    <li>Recursively solving the sub-problems</li>\n",
    "    <li>Combining them to get the desired output</li>\n",
    "</ol>\n",
    "\n",
    "We'll look at 2 Divide and Conquer sorts - the ***QuickSort*** and ***MergeSort***.\n",
    "\n",
    "A ***QuickSort*** partitions the list to be sorted by choosing a *pivot*, the remaining items are grouped into 3 sub-lists:\n",
    "- Items less than the pivot\n",
    "- Items equal to the pivot\n",
    "- Items greater than the pivot\n",
    "\n",
    "The less than/greater than sublists are then sorted using the QuickSort, and the final sorted lists are combined. Although it doesn't matter how you choose the pivot (including choosing randomly), for now we'll stick to choosing the element at the middle index as the pivot.\n",
    "\n",
    "> Task: I want to sort a list of numbers in *ascending* order. I've written the code for the partition, can you write the recursive method?\n",
    "> <pre><code> def swap(arr, i, j):\n",
    ">    temp = arr[j]\n",
    ">    arr[j] = arr[i]\n",
    ">    arr[i] = temp\n",
    ">\n",
    ">def partition(arr, low, high):\n",
    ">    pivot_index = (low+high) // 2\n",
    ">    i = low - 1\n",
    ">    for j in range(low, high):\n",
    ">        if arr[j] < arr[pivot_index]:\n",
    ">            i += 1\n",
    ">            swap(arr, i, j)\n",
    ">    swap(arr, i+1, high)\n",
    ">    return i+1            \n",
    "</code></pre>\n",
    "\n",
    "The ***MergeSort*** is similar to the the QuickSort, except it divides the list into two sub-lists, then calls the MergeSort on both the sub-lists and merges the sorted lists. The implementation of a MergeSort is slightly harder:"
   ]
  },
  {
   "cell_type": "code",
   "execution_count": null,
   "metadata": {},
   "outputs": [],
   "source": [
    "def merge(arr, low, mid, high):\n",
    "    left_size = mid - low + 1\n",
    "    right_size = high - mid\n",
    "    left_array = []\n",
    "    right_array = []\n",
    "\n",
    "    for i5 in range(left_size):         # copy elements into the left sub-list\n",
    "        left_array.append(arr[low+i5])\n",
    "    \n",
    "    for j5 in range(right_size):        # copy elements into the right sub-list\n",
    "        right_array.append(arr[mid+1+j5])\n",
    "    \n",
    "    i5 = 0      # Start of left sub-list\n",
    "    j5 = 0      # Start of right sub-list\n",
    "    k = low     # Start of merged list\n",
    "\n",
    "    while i5 < left_size and j5 < right_size:\n",
    "        if left_array[i5] <= right_array[j5]:\n",
    "            arr[k] = left_array[i5]\n",
    "            i5 += 1\n",
    "        else:\n",
    "            arr[k] = right_array[j5]\n",
    "            j5 += 1\n",
    "        k += 1\n",
    "    \n",
    "    # Copy any remaining elements of the left sub-list into the merged list\n",
    "    while i5 < left_size:\n",
    "        arr[k] = left_array[i5]\n",
    "        i5 += 1\n",
    "        k += 1\n",
    "    \n",
    "    # Copy any remaining elements of the right sub-list into the merged list\n",
    "    while j5 < right_size:\n",
    "        arr[k] = right_array[j5]\n",
    "        j5 += 1\n",
    "        k += 1\n",
    "\n",
    "def merge_sort(arr, low, high):\n",
    "    if low < high:\n",
    "        mid = (low+high) // 2\n",
    "        merge_sort(arr, low, mid)\n",
    "        merge_sort(arr, mid+1, high)\n",
    "        merge(arr, low, mid, high)\n",
    "\n",
    "unsorted_array = [2, 7, 1, 5, 3, 8, 0]\n",
    "print(unsorted_array)\n",
    "merge_sort(unsorted_array, 0, len(unsorted_array)-1)\n",
    "print(unsorted_array)   # not so unsorted anymore"
   ]
  },
  {
   "cell_type": "markdown",
   "metadata": {},
   "source": [
    "### More Algorithms: Searching\n",
    "The most basic way to find an item in a list is using a ***Linear Search***. This just entails using a loop to iterate through each element in the list, one-by-one, until either we find the item we want, or we reach the last item in the list (which isn't the target).\n",
    "\n",
    "Another searching algorithm is a ***Binary Search***:\n",
    "- Choose the midpoint of the list as the *pivot*\n",
    "- If the pivot is the target, return the index of the pivot\n",
    "- If the pivot is larger than the target, look in the left sublist\n",
    "- If the pivot is smaller than the target, look in the right sublist\n",
    "- If you only have one item in the list, and it isn't the target, the target is not in the list\n",
    "\n",
    "In order to work, the Binary Search can only be used on *ordered* lists. Otherwise, we can't guarantee that when we discard part of the list, we're not discarding the target item. That means you may need to sort the list before searching. Here's a Python implementation (assuming all elements in the list are of the same type):"
   ]
  },
  {
   "cell_type": "code",
   "execution_count": null,
   "metadata": {},
   "outputs": [],
   "source": [
    "def binary_search(arr, target):\n",
    "    arr.sort()      # make sure the array is sorted\n",
    "    low = 0     # start of the list\n",
    "    high = len(arr) - 1     # last index of the list\n",
    "\n",
    "    while (low <= high):    # checks we haven't looked at every element in the list\n",
    "        mid = (low+high) // 2\n",
    "        if (arr[mid] == target):\n",
    "            return mid      # we found the item!\n",
    "        elif (arr[mid] < target):\n",
    "            low = mid+1     # move to the right sublist\n",
    "        else:\n",
    "            high = mid - 1      # move to the left sublist\n",
    "    return False    # item isn't in the list\n",
    "\n",
    "my_array = [1, 1, 2, 3, 5, 8, 13]\n",
    "print(binary_search(my_array, 1))       # should be fine\n",
    "print(binary_search(my_array, 14))      # uh-oh"
   ]
  },
  {
   "cell_type": "markdown",
   "metadata": {},
   "source": [
    "The Binary Search is *orders* more efficient than the Linear Search. In Big-Oh terms, a Linear Search runs in O(n), whereas the Binary Search runs in O(log(n)). The reason? Think about how the binary search works: if we don't find the element, we discard part of the list. To be exact, since we choose the pivot as the midpoint of the list, we discard *half* of the list. That means the binary search reduces our search space by half... at every iteration. So the expected number of pivots we check is log2(n), where n is the initial size of the array.\n",
    "\n",
    "Once again, Python has an in-built search function: the `in` keyword:"
   ]
  },
  {
   "cell_type": "code",
   "execution_count": null,
   "metadata": {},
   "outputs": [],
   "source": [
    "my_array = [1, 1, 2, 3, 5, 8, 13]\n",
    "print(1 in my_array)       # should be fine\n",
    "print(14 in my_array)      # uh-oh"
   ]
  },
  {
   "cell_type": "markdown",
   "metadata": {},
   "source": [
    "Since Python supports string indexing, you can also search for substrings within strings (`in` is case-sensitive - the string has to match exactly):"
   ]
  },
  {
   "cell_type": "code",
   "execution_count": null,
   "metadata": {},
   "outputs": [],
   "source": [
    "my_string = \"Computing Society!\"\n",
    "print(\"Comp\" in my_string)\n",
    "print(\"comp\" in my_string)"
   ]
  },
  {
   "cell_type": "markdown",
   "metadata": {},
   "source": [
    "> Task: I've written the *iterative* implementation of the binary search, now you write the *recursive* implementation."
   ]
  },
  {
   "cell_type": "markdown",
   "metadata": {},
   "source": [
    "### Coding Practices\n",
    "80% of coding is knowing how to code, the remaining 20% is knowing how to code *nicely*. That means writing your code bearing in mind that someone else might have to read it, and they won't want to spend much effort trying to figure out what you're trying to do (it also helps avoid the \"what was I thinking\" moments when you go back to debug your code). The general term for confusing, unclear, badly written code is ***Spaghetti Code***. We want to avoid spaghetti code as much as possible, otherwise we end up with code like this:"
   ]
  },
  {
   "cell_type": "code",
   "execution_count": null,
   "metadata": {},
   "outputs": [],
   "source": [
    "def func(a, b):\n",
    "    if a == 0:\n",
    "        return b\n",
    " \n",
    "    return func(b % a, a)\n",
    "\n",
    "# what did I just read"
   ]
  },
  {
   "cell_type": "markdown",
   "metadata": {},
   "source": [
    "Can you figure out what that function does? You're looking at a *very badly* written implementation of the Euclidean Algorithm (finds the GCD of any two numbers).\n",
    "\n",
    "To make your code more readable, there's a few things you can do:\n",
    "- Use meaningful variable names, and be consistent with how you name variables (e.g. camelCasing, snake_casing)\n",
    "- Have whitespace (empty lines) in your code to split it up\n",
    "- Use comments to explain what your code is doing; you don't have to comment every line - just ones where its not obvious or you think the line is important. In fact, over-commenting is just as bad as not commenting at all\n",
    "- Be consistent with your indentation\n",
    "- Avoid hard-coding values in your code (e.g. if you had an array length 5, just using the number 5 instead of len(array)) - it makes it harder to change your code if your values need to change"
   ]
  },
  {
   "cell_type": "markdown",
   "metadata": {},
   "source": [
    "### ***This week of content was written by the Computing Society***\n",
    "\n",
    "We hope you enjoyed the course!"
   ]
  }
 ],
 "metadata": {
  "kernelspec": {
   "display_name": "Python 3.10.6 64-bit (microsoft store)",
   "language": "python",
   "name": "python3"
  },
  "language_info": {
   "codemirror_mode": {
    "name": "ipython",
    "version": 3
   },
   "file_extension": ".py",
   "mimetype": "text/x-python",
   "name": "python",
   "nbconvert_exporter": "python",
   "pygments_lexer": "ipython3",
   "version": "3.10.7"
  },
  "orig_nbformat": 4,
  "vscode": {
   "interpreter": {
    "hash": "2b7577ffb8d548c9973061aef476572d270d2443465dcca4a394547d38943c24"
   }
  }
 },
 "nbformat": 4,
 "nbformat_minor": 2
}
