{
 "cells": [
  {
   "cell_type": "markdown",
   "metadata": {},
   "source": [
    "# xSoc Python Course - Week 6\n",
    "\n",
    "The end is in sight! This week's content is going to focus on efficiency, compactness and making multiple python files work together."
   ]
  },
  {
   "cell_type": "markdown",
   "metadata": {},
   "source": [
    "### Recursion\n",
    "**Recursion** means defining a function in terms of itself; you'll call the function you're writing inside itself. Every recursive function has to have 3 features:\n",
    "- **Base case**: the non-recursive case, which returns an actual value (or none!)\n",
    "- **General case**: the recursive case, which makes a call to the function again. Each call should move you closer to reaching the base case\n",
    "- You ***must*** reach a base case after a finite number of function calls. Bad things happen if you don't\n",
    "\n",
    "Have a look at this code snippet:"
   ]
  },
  {
   "cell_type": "code",
   "execution_count": null,
   "metadata": {
    "vscode": {
     "languageId": "plaintext"
    }
   },
   "outputs": [],
   "source": [
    "from random import randint\n",
    "\n",
    "total = 0\n",
    "for i in range(0,100,2):\n",
    "    total += i * randint(1,11) * randint(1,11)\n",
    "\n",
    "    if total > 75:\n",
    "    break\n",
    "\n",
    "print(total)"
   ]
  },
  {
   "cell_type": "markdown",
   "metadata": {},
   "source": [
    "We initialise `total` to 0, and while `i` is less than 100, we increase `total` by `i` multiplied by two (possibly different) random numbers between 1 and 10 (inclusive). If this value of `total` is more than 75, we exit the loop early. While it may not look it, we can re-write this loop to be a recursive function! There are two base cases: `i` > 100 *or* `total` > 75. The general case is just adding to total. Here's the above for loop rewritten, note that if you run both snippets the outcome is the same."
   ]
  },
  {
   "cell_type": "code",
   "execution_count": null,
   "metadata": {
    "vscode": {
     "languageId": "plaintext"
    }
   },
   "outputs": [],
   "source": [
    "from random import randint\n",
    "\n",
    "def my_first_recursive_func(total, i):\n",
    "    if i > 100:\n",
    "        return total\n",
    "    else:\n",
    "        total += i * randint(1, 11) * randint(1, 11)\n",
    "        if total > 75:\n",
    "            return total\n",
    "    return my_first_recursive_func(total, i+2)\n",
    "\n",
    "total = my_first_recursive_func(0, 0)\n",
    "print(total)"
   ]
  },
  {
   "cell_type": "markdown",
   "metadata": {},
   "source": [
    "### A Few Useful Data Structures\n"
   ]
  },
  {
   "cell_type": "markdown",
   "metadata": {},
   "source": [
    "### Sorting Things Out\n",
    "Now that we've introduced some data structures, it's worth introducing some algorithms you might find handy. The first class of algorithms we'll cover are the sorting algorithms. We'll start with the ***Bubble Sort***:"
   ]
  },
  {
   "cell_type": "code",
   "execution_count": null,
   "metadata": {
    "vscode": {
     "languageId": "plaintext"
    }
   },
   "outputs": [],
   "source": [
    "def bubble_sort(arr):\n",
    "    for i in range(len(arr)):\n",
    "        for j in range(len(arr)):\n",
    "            if arr[i] < arr[j]:\n",
    "                temp = arr[i]\n",
    "                arr[i] = arr[j]\n",
    "                arr[j] = temp\n",
    "    return arr\n",
    "\n",
    "unsorted_array = [2, 7, 1, 5, 3, 8, 0]\n",
    "print(unsorted_array)\n",
    "sorted_array = bubble_sort(unsorted_array)\n",
    "print(sorted_array)"
   ]
  },
  {
   "cell_type": "markdown",
   "metadata": {},
   "source": [
    "Seems fairly simple right? Iterate through the list and check that each element is smaller than all the rest. Our algorithm works, but it's not as efficient as it could be. \n",
    "\n",
    "Luckily, we can exploit one of the features of a bubble sort: after each swap, the largest element (if you're sorting in ascending order) will move to the end of the unsorted list - that means we don't need to check it anymore! Let's re-write our bubble sort to include this idea:"
   ]
  },
  {
   "cell_type": "code",
   "execution_count": null,
   "metadata": {
    "vscode": {
     "languageId": "plaintext"
    }
   },
   "outputs": [],
   "source": [
    "def better_bubble_sort(arr):\n",
    "    for i in range(len(arr)):\n",
    "        for j in range(1, len(arr)-i-1):\n",
    "            if arr[j] > arr[j+1]:\n",
    "                temp = arr[j]\n",
    "                arr[j] = arr[j+1]\n",
    "                arr[j+1] = arr[j]\n",
    "    return arr\n",
    "\n",
    "unsorted_array = [2, 7, 1, 5, 3, 8, 0]\n",
    "print(unsorted_array)\n",
    "sorted_array = better_bubble_sort(unsorted_array)\n",
    "print(sorted_array)"
   ]
  },
  {
   "cell_type": "markdown",
   "metadata": {},
   "source": [
    "But what happens if we pass an already-sorted array into the function? The for-loops would execute anyway, but they wouldn't do anything useful! In the end, the sort would take the same amount of time regardless of how sorted your array already is. We can do better still; what if we check how sorted our array is after each pass by counting the number of swaps we make. If we make no swaps in a pass, we know the array has been sorted. Let's add it to the code:"
   ]
  },
  {
   "cell_type": "code",
   "execution_count": null,
   "metadata": {
    "vscode": {
     "languageId": "plaintext"
    }
   },
   "outputs": [],
   "source": [
    "def betterer_bubble_sort(arr):\n",
    "    swaps = True\n",
    "    n = len(arr) - 1\n",
    "    while (swaps == True):\n",
    "        swaps = False\n",
    "        for i in range(n):\n",
    "            if arr[i] > arr[i+1]:\n",
    "                temp = arr[i]\n",
    "                arr[i] = arr[i+1]\n",
    "                arr[i+1] = temp\n",
    "                swaps = True\n",
    "        n -= 1\n",
    "    return arr\n",
    "\n",
    "unsorted_array = [2, 7, 1, 5, 3, 8, 0]\n",
    "print(unsorted_array)\n",
    "sorted_array = betterer_bubble_sort(unsorted_array)\n",
    "print(sorted_array)"
   ]
  },
  {
   "cell_type": "markdown",
   "metadata": {},
   "source": [
    "> Task: Another common type of sort is the ***Insertion Sort***. We \"split\" the array into sorted and unsorted parts, then values in the unsorted part are picked and placed in the correct position in the sorted array. Try to implement your own Insertion Sort (there are plenty of solutions online, but try to solve it yourself as much as possible).\n",
    ">\n",
    "> Task (optional): What are the advantages of an Insertion Sort over the Bubble Sort? When might you use one over the other?"
   ]
  },
  {
   "cell_type": "markdown",
   "metadata": {},
   "source": [
    "### A Quick Detour: Efficiency and Big-Oh\n",
    "If the first bubble sort we wrote worked, then why did we improve it? It has to do with *code efficiency*. Often, there are lots of different implementations that solve the same problem. The best solutions will run the fastest, and use the least amount additional storage space. Many of the constructs you've learned over the past weeks will help with writing efficient code, such as:\n",
    "- Using loops for repeated actions\n",
    "- Using data structures instead of separate variables\n",
    "- Using functions if you're going to be repeating the same blocks of actions throughout your code\n",
    "- Use of in-built features / external code libraries\n",
    "- Use of recursion\n",
    "\n",
    "A fairly common notation you'll see when talking about the efficiency of algorithms is **Big-Oh notation O()**. Big-Oh gives us an upper bound to the growth rate of an algorithm as the input size *n* increases. \n",
    "Big-Oh has a couple of basic rules:\n",
    "- If your run time is a polynomial of degree *d*, then the run time is *O(nᵈ)*. You drop any lower-order and constant terms (as n increases, the nᵈ term grows the fastest)\n",
    "- Use the *smallest possible* class of function\n",
    "\n",
    "For example, consider going one by one through a list of *n* elements. As we add more elements to the list, it's going to take longer to visit all of the elements. The time varies linearly (hence the term *linear search*) with input size, so we say it runs in O(n) time.\n",
    "\n",
    "By contrast, the bubble and insertion sorts we wrote in the previous section run in O(n²) time. That means that the run time of our algorithms grow proportional to the **square** of the size of the input. For smaller inputs, it's not a huge problem, but if were sorting arrays with thousands of elements, things would quickly get out of hand.\n",
    "\n",
    "Not to say that there aren't *worse* sorting algorithms out there. The ***Bogosort*** has no upper bound on its runtime (aka O(∞)) and an **average** runtime of O((n+1)!). We're not going to bother with a Python implementation (you can attempt it if you really want, check Python's `random` library to help), but the pseudocode for the randomised Bogosort is:\n",
    "<pre><code>while not inOrder(list):\n",
    "    shuffle(list)\n",
    "</code></pre>\n",
    "Unsuprisingly, nobody actually uses Bogosorts."
   ]
  },
  {
   "cell_type": "markdown",
   "metadata": {},
   "source": [
    "### Divide and Conquer"
   ]
  },
  {
   "cell_type": "markdown",
   "metadata": {},
   "source": [
    "### More Algorithms: Searching"
   ]
  },
  {
   "cell_type": "markdown",
   "metadata": {},
   "source": [
    "\n",
    "### Compactness"
   ]
  }
 ],
 "metadata": {
  "language_info": {
   "name": "python"
  },
  "orig_nbformat": 4
 },
 "nbformat": 4,
 "nbformat_minor": 2
}
