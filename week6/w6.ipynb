{
 "cells": [
  {
   "cell_type": "markdown",
   "metadata": {},
   "source": [
    "# xSoc Python Course - Week 6\n",
    "\n",
    "The end is in sight! This week's content is going to focus on efficiency, compactness and making multiple python files work together."
   ]
  },
  {
   "cell_type": "markdown",
   "metadata": {},
   "source": [
    "### A Few Useful Data Structures\n"
   ]
  },
  {
   "cell_type": "markdown",
   "metadata": {},
   "source": [
    "### Sorting Things Out\n",
    "Now that we've introduced some data structures, it's worth introducing some algorithms you might find handy. The first class of algorithms we'll cover are the sorting algorithms. We'll start with the ***Bubble Sort***:"
   ]
  },
  {
   "cell_type": "code",
   "execution_count": null,
   "metadata": {
    "vscode": {
     "languageId": "plaintext"
    }
   },
   "outputs": [],
   "source": [
    "def bubble_sort(arr):\n",
    "    for i in range(len(arr)):\n",
    "        for j in range(len(arr)):\n",
    "            if arr[i] < arr[j]:\n",
    "                temp = arr[i]\n",
    "                arr[i] = arr[j]\n",
    "                arr[j] = temp\n",
    "    return arr\n",
    "\n",
    "unsorted_array = [2, 7, 1, 5, 3, 8, 0]\n",
    "print(unsorted_array)\n",
    "sorted_array = bubble_sort(unsorted_array)\n",
    "print(sorted_array)"
   ]
  },
  {
   "cell_type": "markdown",
   "metadata": {},
   "source": [
    "Seems fairly simple right? Iterate through the list and check that each element is smaller than all the rest. Our algorithm works, but it's not as efficient as it could be. \n",
    "\n",
    "Luckily, we can exploit one of the features of a bubble sort: after each swap, the largest element (if you're sorting in ascending order) will move to the end of the unsorted list - that means we don't need to check it anymore! Let's re-write our bubble sort to include this idea:"
   ]
  },
  {
   "cell_type": "code",
   "execution_count": null,
   "metadata": {
    "vscode": {
     "languageId": "plaintext"
    }
   },
   "outputs": [],
   "source": [
    "def better_bubble_sort(arr):\n",
    "    for i in range(len(arr)):\n",
    "        for j in range(1, len(arr)-i-1):\n",
    "            if arr[j] > arr[j+1]:\n",
    "                temp = arr[j]\n",
    "                arr[j] = arr[j+1]\n",
    "                arr[j+1] = arr[j]\n",
    "    return arr\n",
    "\n",
    "unsorted_array = [2, 7, 1, 5, 3, 8, 0]\n",
    "print(unsorted_array)\n",
    "sorted_array = better_bubble_sort(unsorted_array)\n",
    "print(sorted_array)"
   ]
  },
  {
   "cell_type": "markdown",
   "metadata": {},
   "source": [
    "But what happens if we pass an already-sorted array into the function? The for-loops would execute anyway, but they wouldn't do anything useful! In the end, the sort would take the same amount of time regardless of how sorted your array already is. We can do better still; what if we check how sorted our array is after each pass by counting the number of swaps we make. If we make no swaps in a pass, we know the array has been sorted. Let's add it to the code:"
   ]
  },
  {
   "cell_type": "code",
   "execution_count": null,
   "metadata": {
    "vscode": {
     "languageId": "plaintext"
    }
   },
   "outputs": [],
   "source": [
    "def betterer_bubble_sort(arr):\n",
    "    swaps = True\n",
    "    n = len(arr) - 1\n",
    "    while (swaps == True):\n",
    "        swaps = False\n",
    "        for i in range(n):\n",
    "            if arr[i] > arr[i+1]:\n",
    "                temp = arr[i]\n",
    "                arr[i] = arr[i+1]\n",
    "                arr[i+1] = temp\n",
    "                swaps = True\n",
    "        n -= 1\n",
    "    return arr\n",
    "\n",
    "unsorted_array = [2, 7, 1, 5, 3, 8, 0]\n",
    "print(unsorted_array)\n",
    "sorted_array = betterer_bubble_sort(unsorted_array)\n",
    "print(sorted_array)"
   ]
  },
  {
   "cell_type": "markdown",
   "metadata": {},
   "source": [
    "Another common type of sort is the ***Insertion Sort***. We \"split\" the array into sorted and unsorted parts. Values in the unsorted part are picked and placed in the correct position in the sorted array. An advantage Insertion sorts have over Bubble sorts is that they're adaptive - i.e. it's the better algorithm to use when your array is already partially sorted.\n",
    "\n",
    "> Task: Try to implement your own Insertion Sort (Google is your friend here)"
   ]
  },
  {
   "cell_type": "markdown",
   "metadata": {},
   "source": [
    "### A Quick Detour: Big-Oh\n",
    "\n",
    "A fairly common notation you'll see when talking about the efficiency of algorithms is **Big-Oh notation O()**. Big-Oh gives an upper bound to the growth rate of an algorithm as the input size *n* increases. \n",
    "Big-Oh has a couple of basic rules:\n",
    "- If your run time is a polynomial of degree *d*, then the run time is *O(nᵈ)*. You drop any lower-order and constant terms (as n increases, the nᵈ term grows fastest)\n",
    "- Use the *smallest possible* class of function\n",
    "\n",
    "For example, consider going one by one through a list of *n* elements. As we add more elements to the list, it's going to take longer to visit all of the elements. The time varies linearly (hence *linear search*) with input size, so we say it runs in O(n) time.\n",
    "\n",
    "By contrast, the bubble and insertion sorts we wrote in the previous section run in O(n²) time. That means that the run time of our algorithms grow proportional to the **square** of the size of the input. For smaller inputs, it's not a huge problem, but if were sorting arrays with thousands of elements, things would quickly get out of hand."
   ]
  },
  {
   "cell_type": "markdown",
   "metadata": {},
   "source": [
    "### Divide and Conquer"
   ]
  },
  {
   "cell_type": "markdown",
   "metadata": {},
   "source": [
    "### More Algorithms: Searching"
   ]
  },
  {
   "cell_type": "markdown",
   "metadata": {},
   "source": [
    "### Recursion\n"
   ]
  },
  {
   "cell_type": "markdown",
   "metadata": {},
   "source": [
    "\n",
    "### Compactness"
   ]
  }
 ],
 "metadata": {
  "language_info": {
   "name": "python"
  },
  "orig_nbformat": 4
 },
 "nbformat": 4,
 "nbformat_minor": 2
}
