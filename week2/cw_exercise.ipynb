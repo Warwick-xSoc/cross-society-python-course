{
 "cells": [
  {
   "cell_type": "markdown",
   "metadata": {},
   "source": [
    "# **Wahoot!**"
   ]
  },
  {
   "cell_type": "markdown",
   "metadata": {},
   "source": [
    "## **The xSoc Python Course Project**\n",
    "#### *Created by Tomas ([Warwick AI]()) and Keegan ([Computing](https://go.uwcs.uk/links))*"
   ]
  },
  {
   "cell_type": "markdown",
   "metadata": {},
   "source": [
    "## An Introduction"
   ]
  },
  {
   "cell_type": "markdown",
   "metadata": {},
   "source": [
    "Wahoot is a [*completely original idea*](https://kahoot.com/student-centered-learning/) that *definitely doesn't already exist*, where players compete in multiple choice, timed quizzes to gain the highest score. \n",
    "\n",
    "You gain more points the faster you answer a question, and also get bonus points for answering consecutive questions correctly (called a streak). At the end, we get to see who won! It's also possible to make your own quizzes, with custom questions and answers."
   ]
  },
  {
   "cell_type": "markdown",
   "metadata": {},
   "source": [
    "(image here, or maybe gif?)"
   ]
  },
  {
   "cell_type": "markdown",
   "metadata": {},
   "source": [
    "Sounds cool, right? Now all we have to do is implement it!"
   ]
  },
  {
   "cell_type": "markdown",
   "metadata": {},
   "source": [
    "Obviously we're not asking you to implement the networking or website stuff, that would take a lot longer to learn, so we've handled all of that for you already - you'll hopefully be able to see it in action by Week 4. What you will be doing is implementing the logic behind how the game operates, such as: player information, scoreboards, match histories, and more! Let's get started with our first Wahoot task."
   ]
  },
  {
   "cell_type": "markdown",
   "metadata": {},
   "source": [
    "## Wahoot Project: Scoring"
   ]
  },
  {
   "cell_type": "markdown",
   "metadata": {},
   "source": [
    "This week, we'd like you to implement Wahoot's scoring system - specifically the `apply_scoring(self, outcome, secs_left)` function, which updates the player variables based on their response to a question."
   ]
  },
  {
   "cell_type": "markdown",
   "metadata": {},
   "source": [
    "### The Inputs"
   ]
  },
  {
   "cell_type": "markdown",
   "metadata": {},
   "source": [
    "First, let's talk about the inputs. `outcome` is an integer set to one of the values `0`, `1`, or `2`. This represents how the player responded to the question:"
   ]
  },
  {
   "cell_type": "markdown",
   "metadata": {},
   "source": [
    "| `outcome` | Name | Description |\n",
    "|--|--|--|\n",
    "| 0 | Correct | Player gave the correct answer for this question |\n",
    "| 1 | Wrong | Player gave the wrong answer for this question |\n",
    "| 2 | Timeout | Player ran out of time to answer this question |"
   ]
  },
  {
   "cell_type": "markdown",
   "metadata": {},
   "source": [
    "When a question begins, players have 20 seconds to answer it, and we keep track of the timings. `secs_left` is a float that can have any value between `0.0` and `20.0`, and represents the number of seconds remaining on the timer when the player answered the question."
   ]
  },
  {
   "cell_type": "markdown",
   "metadata": {},
   "source": [
    "Finally, `self`. This is technically what we call *'an instance of a Player class'*, but for now don't worry about that - you can think of it as something like a group name that contains related variable names within it. In this case, that's **all of the player information** we want to store.\n",
    "\n",
    "You can access these related variables by doing `group_name.var_name`, so for example we would use `self.score` to access our player's score. \n",
    "\n",
    "Here are all the other player variables you can access and modify within the function:"
   ]
  },
  {
   "cell_type": "markdown",
   "metadata": {},
   "source": [
    "| `self.[var_name_here]` | Datatype | Description |\n",
    "|--|--|--|\n",
    "| `score` | `int` | The player's total score so far in the quiz |\n",
    "| `num_answered` | `int` | The number of questions the player has answered |\n",
    "| `num_correct` | `int` | The number of questions the player has answered correctly |\n",
    "| `current_streak` | `int` | The number of questions answered correctly in a row |\n",
    "| `max_streak` | `int` | The maximum number of questions answered correctly in a row |\n",
    "| `just_extinguished` | `bool` | Whether the player just lost their 2+ question streak |"
   ]
  },
  {
   "cell_type": "markdown",
   "metadata": {},
   "source": [
    "### What the function should do"
   ]
  },
  {
   "cell_type": "markdown",
   "metadata": {},
   "source": [
    "Basically, the goal of the function is to update a bunch of player-related variables, and return the question score:"
   ]
  },
  {
   "cell_type": "markdown",
   "metadata": {},
   "source": [
    "- If the player gave an answer, add 1 to `self.num_answered`. If it was correct, also add 1 to `self.num_correct` and `self.current_streak`.\n",
    "- If `self.current_streak` gets larger than `self.max_streak`, it should become the new maximum streak.\n",
    "\n",
    "- If wrong or a timeout, set `self.current_streak` to **0**. If the streak was **2** or greater before this, also set `self.just_extinguished` to **True** *for this question only*. This means if `self.just_extinguished` was **True** beforehand, it should be set back to **False**.\n",
    "\n",
    "- Add the ***Question score*** to `self.score`, and then return the question score.\n",
    "\n",
    "- If wrong or a timeout, the **Question score** is **0**. If correct, we apply the *scoring system*:\n",
    "    - ***Time score:*** depends on the `time_left`. Submitting with **20.0** seconds left should give a maximum score of **1000** points, whereas submitting with **0.0** seconds left would give **0** points. In other words, the time score should decrease (linearly) over time.\n",
    "    - ***Streak score:*** depends on the value of `self.current_streak`. Kicks in when the player correctly answers at least 2 questions in a row. Got 2 correct in a row? Your streak score is **200** points. 3 in a row? **400** points. 4 in a row? **600** points. 5 in a row? **800** points. The pattern continues.\n",
    "    - ***Question score*** = Time score + Streak score. Make sure this is an integer!"
   ]
  },
  {
   "cell_type": "markdown",
   "metadata": {},
   "source": [
    "All of the things this function does allows us to have a working scoring system."
   ]
  },
  {
   "cell_type": "markdown",
   "metadata": {},
   "source": [
    "> **Wahoot Task:** Implement the question-by-question scoring updates for a player, in the `apply_scoring()` function below.\n",
    ">\n",
    "> Use the information from the specification above to help you. Your function will be tested when you run the cell."
   ]
  },
  {
   "cell_type": "markdown",
   "metadata": {},
   "source": [
    "*Once you've implemented it, see if you can simplify your solution!*"
   ]
  },
  {
   "cell_type": "code",
   "execution_count": 10,
   "metadata": {},
   "outputs": [
    {
     "name": "stdout",
     "output_type": "stream",
     "text": [
      "--- Correct Only ---\n",
      "Q1 Score: Expected 845, Got 0\n",
      "Q2 Score: Expected 472, Got 0\n",
      "Q3 Score: Expected 900, Got 0\n",
      "Final Score: Expected 2217, Got 0\n",
      "Final # Answered: Expected 3, Got 0\n",
      "Final # Correct: Expected 3, Got 0\n",
      "Final Streak: Expected 3, Got 0\n",
      "Final Max Streak: Expected 3, Got 0\n",
      "--- Wrong/Timeout Only ---\n",
      "Final # Answered: Expected 2, Got 0\n",
      "--- Mixed Test ---\n",
      "Q1 Score: Expected 824, Got 0\n",
      "Q3 Score: Expected 371, Got 0\n",
      "Q4 Score: Expected 202, Got 0\n",
      "Q5 Extinguished: Expected True, Got 0\n",
      "Q6 Score: Expected 975, Got 0\n",
      "Q6 Max Streak: Expected 2, Got 0\n",
      "Q7 Score: Expected 622, Got 0\n",
      "Q8 Score: Expected 693, Got 0\n",
      "Q9 Extinguished: Expected True, Got 0\n",
      "Final # Answered: Expected 8, Got 0\n",
      "Final # Correct: Expected 6, Got 0\n",
      "Final Max Streak: Expected 3, Got 0\n"
     ]
    }
   ],
   "source": [
    "# Don't worry too much about what a 'class' is for now.\n",
    "# Think of it as a way to group related data.\n",
    "class Player:\n",
    "\n",
    "    # The player properties (variables) and their starting values\n",
    "    def __init__(self):  # __init__ is a fancy way to say 'when initialised'\n",
    "        \"\"\"\n",
    "        Represents a quiz player, and keeps track of their info\n",
    "        \"\"\"\n",
    "        self.score: int = 0\n",
    "        self.num_answered: int = 0\n",
    "        self.num_correct: int = 0\n",
    "\n",
    "        self.current_streak: int = 0\n",
    "        self.max_streak: int = 0\n",
    "        self.just_extinguished: int = 0\n",
    "\n",
    "    # Below is what we want to fill in!\n",
    "    # \\/ \\/ \\/ \\/ \\/\n",
    "    \n",
    "    def apply_scoring(self: \"Player\", outcome: int, secs_left: float) -> int:\n",
    "        \"\"\"\n",
    "        Updates player information based on a question's outcome and seconds remaining.\n",
    "        Returns the score change for this question.\n",
    "        \"\"\"\n",
    "\n",
    "        self.score += 0  # self refers to variables belonging to the player.\n",
    "\n",
    "        return 0\n",
    "    \n",
    "    # /\\ /\\ /\\ /\\ /\\\n",
    "    # Above is what we want to fill in!\n",
    "\n",
    "\n",
    "# Tests on your apply_scoring function happen below.\n",
    "\n",
    "def test_correct() -> bool:\n",
    "    \"\"\"\n",
    "    This test only consists of correct outcomes.\n",
    "    \"\"\"\n",
    "    good = True\n",
    "    player = Player()\n",
    "    \n",
    "    q1_score = player.apply_scoring(0, 16.9)  # Should be 845 + 0   = 845\n",
    "    good &= check(\"Q1 Score\", 845, q1_score)\n",
    "\n",
    "    q2_score = player.apply_scoring(0, 5.44)  # Should be 272 + 200 = 472\n",
    "    good &= check(\"Q2 Score\", 472, q2_score)\n",
    "\n",
    "    q3_score = player.apply_scoring(0, 10.0)  # Should be 500 + 400 = 900\n",
    "    good &= check(\"Q3 Score\", 900, q3_score)\n",
    "    \n",
    "    good &= check(\"Final Score\", 2217, player.score)\n",
    "    good &= check(\"Final # Answered\", 3, player.num_answered)\n",
    "    good &= check(\"Final # Correct\", 3, player.num_correct)\n",
    "    good &= check(\"Final Streak\", 3, player.current_streak)\n",
    "    good &= check(\"Final Max Streak\", 3, player.max_streak)\n",
    "    good &= check(\"Final Extinguished\", False, player.just_extinguished)\n",
    "\n",
    "    return good\n",
    "    \n",
    "def test_wrong_timeout() -> bool:\n",
    "    \"\"\"\n",
    "    This test only consists of wrong/timeout outcomes.\n",
    "    \"\"\"\n",
    "    good = True\n",
    "    player = Player()\n",
    "\n",
    "    q1_score = player.apply_scoring(1, 4.25)  # Wrong\n",
    "    good &= check(\"Q1 Score\", 0, q1_score)\n",
    "    good &= check(\"Q1 Extinguished\", False, player.just_extinguished)\n",
    "\n",
    "    q2_score = player.apply_scoring(2, 0.0)  # Timeout\n",
    "    good &= check(\"Q2 Score\", 0, q2_score)\n",
    "\n",
    "    q3_score = player.apply_scoring(1, 13.75)  # Wrong\n",
    "    good &= check(\"Q3 Score\", 0, q3_score)\n",
    "\n",
    "    good &= check(\"Final Score\", 0, player.score)\n",
    "    good &= check(\"Final # Answered\", 2, player.num_answered)\n",
    "    good &= check(\"Final # Correct\", 0, player.num_correct)\n",
    "    good &= check(\"Final Streak\", 0, player.current_streak)\n",
    "    good &= check(\"Final Max Streak\", 0, player.max_streak)\n",
    "    good &= check(\"Final Extinguished\", False, player.just_extinguished)\n",
    "\n",
    "def test_mixed() -> bool:\n",
    "    \"\"\"\n",
    "    This test consists of a mixture of outcome types.\n",
    "    \"\"\"\n",
    "    good = True\n",
    "    player = Player()\n",
    "\n",
    "    q1_score = player.apply_scoring(0, 16.48)  # Correct, 824 + 0   = 824\n",
    "    good &= check(\"Q1 Score\", 824, q1_score)\n",
    "    q2_score = player.apply_scoring(1, 13.89)  # Wrong\n",
    "    good &= check(\"Q2 Score\", 0, q2_score)\n",
    "    good &= check(\"Q1 Extinguished\", False, player.just_extinguished)\n",
    "    q3_score = player.apply_scoring(0, 7.42)  # Correct, 371 + 0   = 371\n",
    "    good &= check(\"Q3 Score\", 371, q3_score)\n",
    "    q4_score = player.apply_scoring(0, 0.04)  # Correct, 2   + 200 = 202\n",
    "    good &= check(\"Q4 Score\", 202, q4_score)\n",
    "    q5_score = player.apply_scoring(2, 0.0)  # Timeout\n",
    "    good &= check(\"Q5 Score\", 0, q5_score)\n",
    "    good &= check(\"Q5 Extinguished\", True, player.just_extinguished)\n",
    "    q6_score = player.apply_scoring(0, 19.5)  # Correct, 975 + 0   = 975\n",
    "    good &= check(\"Q6 Score\", 975, q6_score)\n",
    "    good &= check(\"Q6 Extinguished\", False, player.just_extinguished)\n",
    "    good &= check(\"Q6 Max Streak\", 2, player.max_streak)\n",
    "    q7_score = player.apply_scoring(0, 8.44)  # Correct, 422 + 200 = 622\n",
    "    good &= check(\"Q7 Score\", 622, q7_score)\n",
    "    q8_score = player.apply_scoring(0, 5.86)  # Correct, 293 + 400 = 693\n",
    "    good &= check(\"Q8 Score\", 693, q8_score)\n",
    "    q9_score = player.apply_scoring(1, 9.99)  # Wrong\n",
    "    good &= check(\"Q9 Score\", 0, q9_score)\n",
    "    good &= check(\"Q9 Extinguished\", True, player.just_extinguished)\n",
    "    q10_score = player.apply_scoring(2, 0.0)  # Timeout\n",
    "    good &= check(\"Q10 Score\", 0, q10_score)\n",
    "\n",
    "    good &= check(\"Final Score\", 3687, player.score)\n",
    "    good &= check(\"Final # Answered\", 8, player.num_answered)\n",
    "    good &= check(\"Final # Correct\", 6, player.num_correct)\n",
    "    good &= check(\"Final Streak\", 0, player.current_streak)\n",
    "    good &= check(\"Final Max Streak\", 3, player.max_streak)\n",
    "    good &= check(\"Final Extinguished\", False, player.just_extinguished)\n",
    "    return good\n",
    "\n",
    "def check(name, expected, got) -> bool:\n",
    "    if expected != got:\n",
    "        print(f\"{name}: Expected {expected}, Got {got}\")\n",
    "    return expected == got\n",
    "\n",
    "def run_tests():\n",
    "    print(\"--- Correct Only ---\")\n",
    "    if test_correct():\n",
    "        print(\"Test passed :)\")\n",
    "    print(\"--- Wrong/Timeout Only ---\")\n",
    "    if test_wrong_timeout():\n",
    "        print(\"Test passed :)\")\n",
    "    print(\"--- Mixed Test ---\")\n",
    "    if test_mixed():\n",
    "        print(\"Test passed :)\")\n",
    "\n",
    "run_tests()"
   ]
  },
  {
   "cell_type": "markdown",
   "metadata": {},
   "source": [
    "🖋️ ***Written by Keegan from the Computing Society***"
   ]
  }
 ],
 "metadata": {
  "kernelspec": {
   "display_name": "Python 3 (ipykernel)",
   "language": "python",
   "name": "python3"
  },
  "language_info": {
   "codemirror_mode": {
    "name": "ipython",
    "version": 3
   },
   "file_extension": ".py",
   "mimetype": "text/x-python",
   "name": "python",
   "nbconvert_exporter": "python",
   "pygments_lexer": "ipython3",
   "version": "3.10.4"
  },
  "vscode": {
   "interpreter": {
    "hash": "7c57092efe4ff60dfd9ba12cd3127c3cb8001227526172b4b54478afc6e523e7"
   }
  }
 },
 "nbformat": 4,
 "nbformat_minor": 2
}
