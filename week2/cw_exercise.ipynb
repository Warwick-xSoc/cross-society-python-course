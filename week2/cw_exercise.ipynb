{
 "cells": [
  {
   "cell_type": "markdown",
   "metadata": {},
   "source": [
    "# **Wahoot!**\n",
    "## **The xSoc Python Course Project**\n",
    "#### *Created by Tomas ([Warwick AI]()) and Keegan ([Computing](https://go.uwcs.uk/links))*"
   ]
  },
  {
   "cell_type": "markdown",
   "metadata": {},
   "source": [
    "## An Introduction"
   ]
  },
  {
   "cell_type": "markdown",
   "metadata": {},
   "source": [
    "Wahoot is a [*completely original idea*](https://kahoot.com/student-centered-learning/) that *definitely doesn't already exist*, where players compete in multiple choice, timed quizzes to gain the highest score. You gain more points the faster you answer a question, and also get bonus points for answering consecutive questions correctly (called a streak). At the end, we get to see who won! It's also possible to make your own quizzes, with custom questions and answers."
   ]
  },
  {
   "cell_type": "markdown",
   "metadata": {},
   "source": [
    "(image here, or maybe gif?)"
   ]
  },
  {
   "cell_type": "markdown",
   "metadata": {},
   "source": [
    "Sounds cool, right? Now all we have to do is implement it!"
   ]
  },
  {
   "cell_type": "markdown",
   "metadata": {},
   "source": [
    "Obviously we're not asking you to implement the networking or website stuff, that would take a lot longer to learn, so we've handled all of that for you already - you'll hopefully be able to see it in action by Week 4. What you will be doing is implementing the logic behind how the game operates, such as: player information, scoreboards, match histories, and more! Let's get started with our first Wahoot task."
   ]
  },
  {
   "cell_type": "markdown",
   "metadata": {},
   "source": [
    "## Wahoot Project: Scoring"
   ]
  },
  {
   "cell_type": "markdown",
   "metadata": {},
   "source": [
    "This week, we'd like you to implement Wahoot's scoring system - specifically the `apply_scoring(self, outcome, secs_left)` function, which updates the player variables based on their response to a question."
   ]
  },
  {
   "cell_type": "markdown",
   "metadata": {},
   "source": [
    "### The Inputs"
   ]
  },
  {
   "cell_type": "markdown",
   "metadata": {},
   "source": [
    "First, let's talk about the inputs. `outcome` is an integer set to one of the values `0`, `1`, or `2`. This represents how the player responded to the question:"
   ]
  },
  {
   "cell_type": "markdown",
   "metadata": {},
   "source": [
    "| `outcome` | Name | Description |\n",
    "|--|--|--|\n",
    "| 0 | Correct | Player gave the correct answer for this question |\n",
    "| 1 | Wrong | Player gave the wrong answer for this question |\n",
    "| 2 | Timeout | Player ran out of time to answer this question |"
   ]
  },
  {
   "cell_type": "markdown",
   "metadata": {},
   "source": [
    "When a question begins, players have 20 seconds to answer it, and we keep track of the timings. `secs_left` is a float that can have any value between `0.0` and `20.0`, and represents the number of seconds remaining on the timer when the player answered the question."
   ]
  },
  {
   "cell_type": "markdown",
   "metadata": {},
   "source": [
    "Finally, `self`. This is technically what we call *'an instance of a Player class'*, but for now don't worry about that - you can think of it as something like a group name that contains related variable names within it. In this case, that's **all of the player information** we want to store.\n",
    "\n",
    "You can access these related variables by doing `group_name.var_name`, so for example we would use `self.score` to access our player's score. \n",
    "\n",
    "Here are all the other player variables you can access and modify within the function:"
   ]
  },
  {
   "cell_type": "markdown",
   "metadata": {},
   "source": [
    "| `self.[var_name_here]` | Datatype | Description |\n",
    "|--|--|--|\n",
    "| `score` | `int` | The player's total score so far in the quiz |\n",
    "| `num_answered` | `int` | The number of questions the player has answered |\n",
    "| `num_correct` | `int` | The number of questions the player has answered correctly |\n",
    "| `current_streak` | `int` | The number of questions answered correctly in a row |\n",
    "| `max_streak` | `int` | The maximum number of questions answered correctly in a row |\n",
    "| `just_extinguished` | `bool` | Whether the player just lost their 2+ question streak |"
   ]
  },
  {
   "cell_type": "markdown",
   "metadata": {},
   "source": [
    "### What the function should do"
   ]
  },
  {
   "cell_type": "markdown",
   "metadata": {},
   "source": [
    "- If the player gave an answer, add 1 to `self.num_answered`. If it was correct, also add 1 to `self.num_correct` and `self.current_streak`.\n",
    "- If `self.current_streak` gets larger than `self.max_streak`, it should become the new maximum streak.\n",
    "\n",
    "- If wrong or a timeout, set `self.current_streak` to **0**. If the streak was **2** or greater before this, also set `self.just_extinguished` to True.\n",
    "\n",
    "- Add the ***Question score*** to `self.score`, and then return the question score.\n",
    "\n",
    "- If wrong or a timeout, the question score is **0**. If correct, we apply the *scoring system*:\n",
    "    - ***Time score:*** depends on the `time_left`. Submitting with **20.0** seconds left should give a maximum score of **1000** points, whereas submitting with **0.0** seconds left would give **0** points. In other words, the time score should decrease (linearly) over time.\n",
    "    - ***Streak score:*** depends on the value of `self.current_streak`. Kicks in when the player correctly answers at least 2 questions in a row. Got 2 correct in a row? Your streak score is **200** points. 3 in a row? **400** points. 4 in a row? **600** points. 5 in a row? **800** points. The pattern continues.\n",
    "    - ***Question score*** = Time score + Streak score."
   ]
  },
  {
   "cell_type": "markdown",
   "metadata": {},
   "source": [
    "All of the things this function does allows us to have a functioning scoring system."
   ]
  },
  {
   "cell_type": "markdown",
   "metadata": {},
   "source": [
    "> **Wahoot Task:** Implement the question-by-question scoring updates for a player in the `apply_scoring()` function below.\n",
    ">\n",
    "> Use the information from the specification above to help you."
   ]
  },
  {
   "cell_type": "code",
   "execution_count": null,
   "metadata": {},
   "outputs": [],
   "source": [
    "# Don't worry too much about what a 'class' is for now.\n",
    "# Think of it as a way to group related data.\n",
    "class Player:\n",
    "\n",
    "    # The player properties (variables) and their starting values\n",
    "    def __init__(self):  # __init__ is a fancy way to say 'when initialised'\n",
    "        \"\"\"\n",
    "        Represents a Quiz player, and keeps track of their info\n",
    "        \"\"\"\n",
    "        self.score: int = 0\n",
    "        self.num_answered: int = 0\n",
    "        self.num_correct: int = 0\n",
    "\n",
    "        self.current_streak: int = 0\n",
    "        self.max_streak: int = 0\n",
    "        self.just_extinguished: int = 0\n",
    "\n",
    "    # Below is what we want to fill in!\n",
    "    # \\/ \\/ \\/ \\/ \\/\n",
    "    \n",
    "    def apply_scoring(self: \"Player\", outcome: int, secs_left: float) -> int:\n",
    "        \"\"\"\n",
    "        Applies the player's scoring for a question based on the outcome and seconds remaining\n",
    "        0 - Correct Answer\n",
    "        1 - Wrong Answer\n",
    "        2 - Timer Expired\n",
    "\n",
    "        Points added are based on the number of secs_left (Between 0.0-20.0).\n",
    "        Bonus points are added for a streak - 2+ consecutively correct questions.\n",
    "\n",
    "        Returns the score change for this round.\n",
    "        \"\"\"\n",
    "\n",
    "        self.score += 0  # self refers to variables belonging to the player.\n",
    "\n",
    "        return 0\n",
    "    \n",
    "    # /\\ /\\ /\\ /\\ /\\\n",
    "    # Above is what we want to fill in!\n",
    "\n",
    "\n",
    "# Tests on your apply_scoring function below\n",
    "\n",
    "def test_correct():\n",
    "    player = Player()\n",
    "    q1_score = player.apply_scoring(0, 16.9)  # Should be 845 + 0   = 845\n",
    "    assert q1_score == 845\n",
    "    q2_score = player.apply_scoring(0, 5.44)  # Should be 272 + 200 = 472\n",
    "    assert q2_score == 472\n",
    "    q3_score = player.apply_scoring(0, 10.0)  # Should be 500 + 400 = 900\n",
    "    assert q3_score == 900\n",
    "    \n",
    "    assert player.score == 2217\n",
    "    assert player.num_answered == 3\n",
    "    assert player.num_correct == 3\n",
    "    assert player.current_streak == 3\n",
    "    assert player.max_streak == 3\n",
    "    assert player.just_extinguished == False\n",
    "    \n",
    "\n",
    "def test_incorrect():\n",
    "    player = Player()\n",
    "    q1_score = player.apply_scoring(1, 16.9)\n",
    "\n",
    "def test_timeout():\n",
    "    player = Player()\n",
    "    q1_score = player.apply_scoring(2, 0.0)"
   ]
  },
  {
   "cell_type": "markdown",
   "metadata": {},
   "source": [
    "🖋️ ***Written by Keegan from the Computing Society***"
   ]
  }
 ],
 "metadata": {
  "kernelspec": {
   "display_name": "Python 3.10.6 64-bit",
   "language": "python",
   "name": "python3"
  },
  "language_info": {
   "name": "python",
   "version": "3.10.6"
  },
  "orig_nbformat": 4,
  "vscode": {
   "interpreter": {
    "hash": "7c57092efe4ff60dfd9ba12cd3127c3cb8001227526172b4b54478afc6e523e7"
   }
  }
 },
 "nbformat": 4,
 "nbformat_minor": 2
}
