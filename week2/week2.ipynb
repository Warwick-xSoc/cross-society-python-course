{
 "cells": [
  {
   "cell_type": "markdown",
   "id": "d565658a",
   "metadata": {},
   "source": [
    "# Cross-Society Python Course - Week 2\n",
    "\n",
    "**In week 1, we covered:**\n",
    "1. Built-in Functions\n",
    "2. Variables\n",
    "3. Debugging\n",
    "4. Datatypes\n",
    "\n",
    "**This week, we will cover:**\n",
    "1. String formatting\n",
    "2. Logical operators\n",
    "3. Conditional operators (if, else)\n"
   ]
  },
  {
   "cell_type": "markdown",
   "id": "5501f46f",
   "metadata": {},
   "source": [
    "# String Formatting"
   ]
  },
  {
   "cell_type": "markdown",
   "id": "65f7a0f4",
   "metadata": {},
   "source": [
    "**String formatting** is the process of infusing things in the string dynamically and presenting the string. In this lesson we will see 3 ways of doing that, *(there is a fourth way we will see later in this course)*"
   ]
  },
  {
   "cell_type": "markdown",
   "id": "10b76238",
   "metadata": {},
   "source": [
    "## 1. Formatting with placeholders (old way)"
   ]
  },
  {
   "cell_type": "markdown",
   "id": "36c371d6",
   "metadata": {},
   "source": [
    "This string formatting method is not really used now but it is important you understand how it works if you encounter it in someone's code. <br> This method uses `%s` to inject strings into your print statments. In that context, `%` is called the **string-formatting operator**"
   ]
  },
  {
   "cell_type": "code",
   "execution_count": null,
   "id": "c8e5104a",
   "metadata": {},
   "outputs": [],
   "source": [
    "# Example\n",
    "\n",
    "print(\"I am going to insert %s in the middle of the string\" % \"something\")\n",
    "\n",
    "# You can also insert multiple strings\n",
    "\n",
    "print(\"My first name is %s and my last name is %s\" % (\"Lewis\", \"Hamilton\"))\n",
    "\n",
    "# And obviously, you can pass variables as well\n",
    "\n",
    "age = \"boomer\"\n",
    "type = \"sock\"\n",
    "\n",
    "print(\"I am a %s and I am a %s\" % (age, type))"
   ]
  },
  {
   "cell_type": "code",
   "execution_count": null,
   "id": "3ca4993a",
   "metadata": {},
   "outputs": [],
   "source": [
    "# Numbers (int and float) will be automatically converted to strings after being printed or returned\n",
    "\n",
    "print((\"I am %s years old and I cost £%s\") % (20, 0.25))"
   ]
  },
  {
   "cell_type": "markdown",
   "id": "ea96972a",
   "metadata": {},
   "source": [
    "We have seen `%s`, which injects a string, but we can also insert integers with `%d`, floats with `%f`"
   ]
  },
  {
   "cell_type": "code",
   "execution_count": null,
   "id": "b1fb5c74",
   "metadata": {},
   "outputs": [],
   "source": [
    "# Example\n",
    "\n",
    "print(\"I am %d years old\" % 20)\n",
    "\n",
    "# %d will convert the float in int\n",
    "\n",
    "print(\"Undergraduates represent %d of Warwicks' students\" % 0.75)\n",
    "\n",
    "# Using %f\n",
    "\n",
    "print(\"Undergraduates represent %f of Warwicks' students\" % 0.75)"
   ]
  },
  {
   "cell_type": "code",
   "execution_count": null,
   "id": "0ead4757",
   "metadata": {},
   "outputs": [],
   "source": [
    "# We can actually control the rounding precision\n",
    "\n",
    "print(\"I am going to round 0.754: %4.2f\" % 0.754)\n",
    "\n",
    "# The first integer 4 specifies the minimum number of characters (. is a character) to be present in the string. \n",
    "# The second integer 2 specifies how many digits we display after the floating point."
   ]
  },
  {
   "cell_type": "markdown",
   "id": "ed8cb7d9",
   "metadata": {},
   "source": [
    ">**Task**<br>\n",
    "Take the string \"John Smith\", split it up into first name and last name using slicing and store them into the variables `first_name` and `last_name` e.g,<br><br> `first_name = name[first 4 letters]` <br> `last_name = name[last 5 letters]`<br><br>Then print out the sentence below using placeholders <br>My firstname is `first_name`, my lastname is `last_name`.<br>"
   ]
  },
  {
   "cell_type": "code",
   "execution_count": null,
   "id": "0c74fd81",
   "metadata": {},
   "outputs": [],
   "source": [
    "name = \"John Smith\"\n",
    "\n",
    "#Type your code below"
   ]
  },
  {
   "cell_type": "markdown",
   "id": "f2a5fcfe",
   "metadata": {},
   "source": [
    "## 2. The .format() method"
   ]
  },
  {
   "cell_type": "markdown",
   "id": "57d7954e",
   "metadata": {},
   "source": [
    "The `.format()` method was introduced in Python 3. It gets rid of the % operator and is much more powerful"
   ]
  },
  {
   "cell_type": "code",
   "execution_count": null,
   "id": "f997645f",
   "metadata": {},
   "outputs": [],
   "source": [
    "# Example\n",
    "\n",
    "print(\"I am going to insert {} using {}\".format(\n",
    "  \"a string\", \"the .format() method\"))\n",
    "\n",
    "# Inserted objects can be called by index position:\n",
    "\n",
    "print(\"I am {2} years old, you can call me Mr.{0}, or by my first name, {1}\".format(\n",
    "  \"Smith\", \"Adam\", 16))\n",
    "\n",
    "# Inserted objects can be assigned keywords\n",
    "\n",
    "print(\"I am {age} years old, you can call me Mr.{last_name}, or by my first name, {first_name}\".format(\n",
    "  last_name=\"Smith\", first_name=\"Adam\", age=16))\n",
    "\n",
    "# Inserted object can be called by their variable name previously defined in the code\n",
    "\n",
    "last_name = \"Smith\"\n",
    "first_name = \"Adam\"\n",
    "age = 16\n",
    "\n",
    "print(\"I am {} years old, you can call me Mr.{}, or by my first name, {}\".format(\n",
    "    age, last_name, first_name))\n",
    "\n",
    "# Inserted objects can be reused, avoiding duplication:\n",
    "\n",
    "print(\"We all thought he was from DCS {d}, but he is actually from WBS {d}\".format(\n",
    "    d=\"department\"))\n"
   ]
  },
  {
   "cell_type": "markdown",
   "id": "88e55dc6",
   "metadata": {},
   "source": [
    ">**Task**<br>\n",
    "Print the following phrase replacing `1`,`2`,`3` with variables in the brackets using the **.format** method (university, degree, name). <br><br>\n",
    "My name is `3`. I study `2` at `1`.\n"
   ]
  },
  {
   "cell_type": "code",
   "execution_count": null,
   "id": "ad8ed892",
   "metadata": {},
   "outputs": [],
   "source": [
    "#Type your code here\n"
   ]
  },
  {
   "cell_type": "markdown",
   "id": "4f2c8b5a",
   "metadata": {},
   "source": [
    "## The f-string method"
   ]
  },
  {
   "cell_type": "markdown",
   "id": "b24ece27",
   "metadata": {},
   "source": [
    "This method is the most **concise**, **simple** and **readible** way of formatting strings. The syntax is simply `f\"This is a string where I insert something {var_name}\"`"
   ]
  },
  {
   "cell_type": "code",
   "execution_count": null,
   "id": "3b3d82e7",
   "metadata": {},
   "outputs": [],
   "source": [
    "society = \"CodeSoc\"\n",
    "\n",
    "print(f\"I am joining {society}\")\n",
    "\n",
    "# You can also have multiple variables\n",
    "\n",
    "society2 = \"WAI\"\n",
    "society3 = \"UWCS\"\n",
    "\n",
    "print(f\"I should also join {society2} and {society3}\")\n",
    "\n",
    "# Obviously, you can include numbers as well\n",
    "\n",
    "number = 0\n",
    "\n",
    "print(f\"I have {number} bitches\")"
   ]
  },
  {
   "cell_type": "markdown",
   "id": "cd5d0292",
   "metadata": {},
   "source": [
    "Float formatting can be done with the following syntax `{value:{width}.{precision}}`"
   ]
  },
  {
   "cell_type": "code",
   "execution_count": null,
   "id": "3375bc0a",
   "metadata": {},
   "outputs": [],
   "source": [
    "num = 4.57683\n",
    "\n",
    "print(f\"rounded number: {num:{5}.{4}}\")"
   ]
  },
  {
   "cell_type": "markdown",
   "id": "a9239f89",
   "metadata": {},
   "source": [
    "# Comparison operators and conditions"
   ]
  },
  {
   "cell_type": "markdown",
   "id": "04d56189",
   "metadata": {},
   "source": [
    "## Logical operators"
   ]
  },
  {
   "cell_type": "markdown",
   "id": "21c355a2",
   "metadata": {},
   "source": [
    "**Introducing a new data type : booleans**\n",
    "\n",
    "Booleans represent one of two values: **True** or **False**.<br>\n",
    "\n",
    "In programming you often need to know if an **expression** is True or False.\n",
    "You can evaluate any expression in Python, and get one of two answers, True or False.\n"
   ]
  },
  {
   "cell_type": "code",
   "execution_count": null,
   "id": "1a1541be",
   "metadata": {},
   "outputs": [],
   "source": [
    "# Is 5 greater than 2?\n",
    "5 > 2\n",
    "\n",
    "# Is 2 greater than 5?\n",
    "2 > 5"
   ]
  },
  {
   "cell_type": "markdown",
   "id": "dc8b26a1",
   "metadata": {},
   "source": [
    "We can also assign variables to be `True` or `False`"
   ]
  },
  {
   "cell_type": "code",
   "execution_count": null,
   "id": "fb0f58fa",
   "metadata": {},
   "outputs": [],
   "source": [
    "a = True\n",
    "\n",
    "print(a)"
   ]
  },
  {
   "cell_type": "markdown",
   "id": "3e243584",
   "metadata": {},
   "source": [
    "You can evaluate values using the `bool()` function. "
   ]
  },
  {
   "cell_type": "code",
   "execution_count": null,
   "id": "36a18acd",
   "metadata": {},
   "outputs": [],
   "source": [
    "a = 15\n",
    "\n",
    "bool(a)"
   ]
  },
  {
   "cell_type": "markdown",
   "id": "5df71dce",
   "metadata": {},
   "source": [
    "All values return True except the following:\n",
    "- for integers: 0\n",
    "- for strings: \"\"\n",
    "- the value None and False"
   ]
  },
  {
   "cell_type": "markdown",
   "id": "a97bfde7",
   "metadata": {},
   "source": [
    ">**Task**<br>\n",
    "Evaluate 0, \"\", None, and False and check they indeed return False"
   ]
  },
  {
   "cell_type": "code",
   "execution_count": 32,
   "id": "708ac602",
   "metadata": {},
   "outputs": [],
   "source": [
    "# Write your code here"
   ]
  },
  {
   "cell_type": "markdown",
   "id": "90a084d0",
   "metadata": {},
   "source": [
    "## Python operators"
   ]
  },
  {
   "cell_type": "markdown",
   "id": "448f4dc3",
   "metadata": {},
   "source": [
    "#### 1) Comparison operators\n",
    "\n",
    "`==`\tEqual <br>\n",
    "`!=`\tNot equal <br>\n",
    "`>`\tGreater than <br>\n",
    "`<`\tLess than <br>\n",
    "`>=`\tGreater than or equal to <br>\n",
    "`<=`\tLess than or equal to <br>\n",
    "\n",
    "These comparison operators are used in logical statements and these statements will return a boolean:<br> **True** if the statement is true and **False** otherwise"
   ]
  },
  {
   "cell_type": "code",
   "execution_count": null,
   "id": "a31bdc81",
   "metadata": {},
   "outputs": [],
   "source": [
    "# Equal Examples\n",
    "\n",
    "3 == 2\n",
    "\n",
    "\"a\" == \"A\"\n",
    "\n",
    "\"CodeSoc\" == \"UWCS\""
   ]
  },
  {
   "cell_type": "markdown",
   "id": "232b556e",
   "metadata": {},
   "source": [
    "<b>Note:</b> Don't forget the second equal sign when testing equality. <br>`=` is used to assign a value to a variable, while `==` is a comparison operator!"
   ]
  },
  {
   "cell_type": "code",
   "execution_count": null,
   "id": "fdfbb184",
   "metadata": {},
   "outputs": [],
   "source": [
    "# Not Equal examples\n",
    "\n",
    "3 != 2\n",
    "\n",
    "\"a\" != \"A\"\n",
    "\n",
    "\"CodeSoc\" != \"CodeSoc\""
   ]
  },
  {
   "cell_type": "code",
   "execution_count": null,
   "id": "4f9be550",
   "metadata": {},
   "outputs": [],
   "source": [
    "# Comparison examples\n",
    "\n",
    "# Is 3 strictly greater than 4 ? \n",
    "\n",
    "3 > 4\n",
    "\n",
    "# Is a less than or equal 100\n",
    "\n",
    "a = 462 / 5\n",
    "\n",
    "a <= 100"
   ]
  },
  {
   "cell_type": "markdown",
   "id": "c469b08d",
   "metadata": {},
   "source": [
    "#### 2) Logical operators"
   ]
  },
  {
   "cell_type": "markdown",
   "id": "0a24a61b",
   "metadata": {},
   "source": [
    "The 3 logical operators we can use to create more complex statements : **and**, **or**, and **not** <br>\n",
    "- *statement 1 **and** statement 2* will be `True` if **both** *statement 1* and *statement 2* are `True`.\n",
    "- *statement 1 **or** statement 2* will be `True` if **at least one** of the two statements is `True`.\n",
    "- **not** statement* will return `True` if *statement* is False and False if *statement* is `True`.<br><br>\n",
    "Else these are `False`"
   ]
  },
  {
   "cell_type": "code",
   "execution_count": null,
   "id": "2a686a72",
   "metadata": {},
   "outputs": [],
   "source": [
    "# Here 2 == 3 is False so the whole statement is False\n",
    "\n",
    "3 == 3 and 2 == 3\n",
    "\n",
    "# Here all statements are True so the whole statement is True\n",
    "\n",
    "a = 2\n",
    "b = 2\n",
    "\n",
    "# I put parenthesis so the statement is clearer. You can remove those if you prefer\n",
    "\n",
    "(a == b) and (\"A\" == \"A\") and (True != False)\n",
    "\n",
    "# Here the first statement is false but the second is True so the whole statement is True\n",
    "\n",
    "(5 % 2 == 0) or (8-5 == 3)\n"
   ]
  },
  {
   "cell_type": "markdown",
   "id": "23b092f5",
   "metadata": {},
   "source": [
    "**Note:** In the last example we combined 3 statements. There are no limits on how many statements you can evaluate together."
   ]
  },
  {
   "cell_type": "markdown",
   "id": "0fe16b72",
   "metadata": {},
   "source": [
    ">**Task**"
   ]
  },
  {
   "cell_type": "code",
   "execution_count": null,
   "id": "73b8751c",
   "metadata": {},
   "outputs": [],
   "source": [
    "#What will be the output?\n",
    "\n",
    "(\"Warwick\" != \"Warwick\") or (\"Warwick\" == \"warwick\") or (5 > 18)"
   ]
  },
  {
   "cell_type": "markdown",
   "id": "d5cca7e6",
   "metadata": {},
   "source": [
    "We can also use the built-in python function `not()` which just means the opposite of whatever is in the parentheses"
   ]
  },
  {
   "cell_type": "code",
   "execution_count": null,
   "id": "0b1a5ccd",
   "metadata": {},
   "outputs": [],
   "source": [
    "# 3 is not equal to 4 so the output will be not(False), that is True !\n",
    "\n",
    "not(3 == 4)\n",
    "\n",
    "# We can take previous examples and see it returns the opposite \n",
    "\n",
    "not((a == b) and (\"A\" == \"A\") and (True != False))\n",
    "\n",
    "# You can also combine and, or, and not statements \n",
    "\n",
    "((5 < 6) or not(2 != 3)) and (10-2 == 8)"
   ]
  },
  {
   "cell_type": "markdown",
   "id": "759f986a",
   "metadata": {},
   "source": [
    "<b>Note:</b> Try to decompose the logical statements into smaller pieces if you don't understand a logical statement and use bool() to check if they are True or False."
   ]
  },
  {
   "cell_type": "markdown",
   "id": "98e2c2f6",
   "metadata": {},
   "source": [
    ">**Task**<br>\n",
    "Given 3 numbers stored in the variables `a`, `b` and `c`, find out if any of them are equal.<br>\n",
    "<br>*Hint: You need to use the comprarison operator `==` and the logical operator `or`*"
   ]
  },
  {
   "cell_type": "code",
   "execution_count": null,
   "id": "66c2b4e4",
   "metadata": {},
   "outputs": [],
   "source": [
    "a,b,c= 10,12,10\n",
    "\n",
    "#Type your code here\n"
   ]
  },
  {
   "cell_type": "markdown",
   "id": "774c8aa2",
   "metadata": {},
   "source": [
    "## If, Elif, and Else conditonal statements"
   ]
  },
  {
   "cell_type": "markdown",
   "id": "3e6d8b8d",
   "metadata": {},
   "source": [
    "`if`, `elif`, and `else` allows to execute blocks of code if a certain set of conditions is fulfilled. <br><br>\n",
    "The syntax is the following:<br>\n",
    "```\n",
    "    if statement1:\n",
    "        execute block of code\n",
    "```\n",
    "Here what we are basically doing is saying \"If statement 1 is true, then execute the block of code\"<br>\n",
    "\n",
    "We can also add elif and else with the following syntax:\n",
    "```\n",
    "    if statement1:\n",
    "        execute block of code 1\n",
    "    \n",
    "    elif statement2:\n",
    "        execute block of code 2\n",
    "\n",
    "    else:\n",
    "        execute block of code 3\n",
    "```\n",
    "Here we are saying \"If statement is true, then execute block of code 1, else if statement2 is true, then execute block of code 2, else execute block of code 3\"\n"
   ]
  },
  {
   "cell_type": "code",
   "execution_count": null,
   "id": "b3b67cb2",
   "metadata": {},
   "outputs": [],
   "source": [
    "# Example\n",
    "\n",
    "age = 25\n",
    "\n",
    "if age < 18:\n",
    "    print(\"You are under-age\")\n",
    "\n",
    "else:\n",
    "    print(\"You can go to the pub!\")\n",
    "\n",
    "# Example 2\n",
    "\n",
    "x = False \n",
    "\n",
    "if x:\n",
    "    print(\"x is true\")\n",
    "else:\n",
    "    print(\"x is false\")"
   ]
  },
  {
   "cell_type": "markdown",
   "id": "4b21d16e",
   "metadata": {},
   "source": [
    "If we want to have more than 2 conditions, we add them with `elif`."
   ]
  },
  {
   "cell_type": "code",
   "execution_count": null,
   "id": "ac2bdfdf",
   "metadata": {},
   "outputs": [],
   "source": [
    "# Example\n",
    " \n",
    "x = 4\n",
    "\n",
    "if x == 0:\n",
    "    print(\"x is 0 !\")\n",
    "\n",
    "elif x == 2:\n",
    "    print(\"x is equal to 2!\")\n",
    "\n",
    "elif x == 4: \n",
    "    print(\"x is equal to 4\")\n",
    "\n",
    "else:\n",
    "    print(\"x is strictly negative\")"
   ]
  },
  {
   "cell_type": "markdown",
   "id": "74a49298",
   "metadata": {},
   "source": [
    "<b>Note:</b> Indentation is very important to let Python know what block of code needs to be executed. If your code is not correctly indented, you may get errors! \n",
    "</div>"
   ]
  },
  {
   "cell_type": "code",
   "execution_count": 4,
   "id": "c525b082",
   "metadata": {},
   "outputs": [
    {
     "ename": "IndentationError",
     "evalue": "expected an indented block (1056039821.py, line 6)",
     "output_type": "error",
     "traceback": [
      "\u001b[0;36m  Input \u001b[0;32mIn [4]\u001b[0;36m\u001b[0m\n\u001b[0;31m    print(\"x is 0 !\")\u001b[0m\n\u001b[0m    ^\u001b[0m\n\u001b[0;31mIndentationError\u001b[0m\u001b[0;31m:\u001b[0m expected an indented block\n"
     ]
    }
   ],
   "source": [
    "# Example\n",
    "\n",
    "x = 4\n",
    "\n",
    "if x == 0:\n",
    "print(\"x is 0 !\")"
   ]
  },
  {
   "cell_type": "markdown",
   "id": "9587039e",
   "metadata": {},
   "source": [
    ">**Task**<br>\n",
    "Create an IF statement which works out if a number, stored in the variable `number`, is odd or even<br><br>\n",
    "*Hint - Use the conditional operator `==`, and the operator `%`*"
   ]
  },
  {
   "cell_type": "code",
   "execution_count": null,
   "id": "ac997e88",
   "metadata": {},
   "outputs": [],
   "source": [
    "number = 83498874\n",
    "#Type your code here"
   ]
  },
  {
   "cell_type": "markdown",
   "id": "3ba86f72",
   "metadata": {},
   "source": [
    ">**Task**<br>\n",
    "Create an IF statement which compares 2 numbers, stored in the variables `num_one` and `num_two`, and outputs the highest, or outputs \"the same\" if they are the same <br><br>\n",
    "*Hint - Use the conditional operators `>,` `<,` `==`*"
   ]
  },
  {
   "cell_type": "code",
   "execution_count": null,
   "id": "0933abab",
   "metadata": {},
   "outputs": [],
   "source": [
    "num_one, num_two = 172487298, 172486298\n",
    "#Type your code here\n"
   ]
  }
 ],
 "metadata": {
  "kernelspec": {
   "display_name": "Python 3 (ipykernel)",
   "language": "python",
   "name": "python3"
  },
  "language_info": {
   "codemirror_mode": {
    "name": "ipython",
    "version": 3
   },
   "file_extension": ".py",
   "mimetype": "text/x-python",
   "name": "python",
   "nbconvert_exporter": "python",
   "pygments_lexer": "ipython3",
   "version": "3.9.6"
  }
 },
 "nbformat": 4,
 "nbformat_minor": 5
}
