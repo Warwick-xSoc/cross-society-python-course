{
 "cells": [
  {
   "cell_type": "markdown",
   "id": "d565658a",
   "metadata": {},
   "source": [
    "# Cross-Society Python Course - Week 2\n",
    "\n",
    "**In week 1, we covered:**\n",
    "1. Built-in Functions\n",
    "2. Variables\n",
    "3. Debugging\n",
    "4. Datatypes\n",
    "\n",
    "**This week, we will cover:**\n",
    "1. String Indexing, slicing, and appending\n",
    "2. String formatting\n",
    "3. Logical operators\n",
    "4. Conditional operators (if, else)\n"
   ]
  },
  {
   "cell_type": "markdown",
   "id": "455e9aec",
   "metadata": {},
   "source": [
    "## Indexing, slicing "
   ]
  },
  {
   "cell_type": "markdown",
   "id": "58076a16",
   "metadata": {},
   "source": [
    "### Indexing"
   ]
  },
  {
   "cell_type": "markdown",
   "id": "47dc86f7",
   "metadata": {},
   "source": [
    "We have seen that strings are chain or sequence of characters, hence they have an **order** and we can **extract** characters from a string using **indexing**.<br><br> To extract a character we use the following syntax : *my_string_name[n]* where **n** is the **position** of the character in the **string**"
   ]
  },
  {
   "cell_type": "markdown",
   "id": "629e4fe2",
   "metadata": {},
   "source": [
    "In most coding languages, indexing starts at 0. This means that to get the first character of the string, you need to type <code>mystring[0]</code>. There is also **negative indexing**, which allows you to grab characters starting from the end. So if <code>mystring = \"Bob\"</code> then <code>mystring[-1]</code> will grab `b`"
   ]
  },
  {
   "cell_type": "code",
   "execution_count": null,
   "id": "512c447e",
   "metadata": {},
   "outputs": [],
   "source": [
    "my_string = \"Warwick\"\n",
    "\n",
    "\n",
    "print(my_string[0]) # 1. Extract the first character\n",
    "\n",
    "\n",
    "print(my_string[2]) # 2. Extract the 3d character\n",
    "\n",
    "\n",
    "print(my_string[-1]) # 3. Extract the last character\n",
    "\n",
    "\n",
    "print(my_string[-2]) # 4. Extract the second last character"
   ]
  },
  {
   "cell_type": "markdown",
   "id": "061611f0",
   "metadata": {},
   "source": [
    "<b>Note:</b> Don't forget that indexing starts at 0 ! "
   ]
  },
  {
   "cell_type": "markdown",
   "id": "d2eca8aa",
   "metadata": {},
   "source": [
    "You will get an error if you try to index outside the string, here my_string has 7 characters, hence my_string[6] gets the last character. <br><br> Try to run the following code:\n"
   ]
  },
  {
   "cell_type": "code",
   "execution_count": null,
   "id": "05f671ac",
   "metadata": {},
   "outputs": [],
   "source": [
    "my_string = \"Warwick\"\n",
    "\n",
    "my_string[7]"
   ]
  },
  {
   "cell_type": "markdown",
   "id": "6719ed58",
   "metadata": {},
   "source": [
    "A useful function to determine the length of a string is the **len()** function"
   ]
  },
  {
   "cell_type": "code",
   "execution_count": null,
   "id": "819a7c3a",
   "metadata": {},
   "outputs": [],
   "source": [
    "# What is the length of my_string ?\n",
    "\n",
    "len(my_string)"
   ]
  },
  {
   "cell_type": "code",
   "execution_count": null,
   "id": "b252d40d",
   "metadata": {},
   "outputs": [],
   "source": [
    "# Note that spaces count as characters characters\n",
    "\n",
    "full_name = \"Code Soc\"\n",
    "\n",
    "print(full_name[3]) # this will print the space \" \"\n",
    "\n",
    "full_name_compact = \"CodeSoc\"\n",
    "\n",
    "# Checkout the result of this:\n",
    "\n",
    "print(len(full_name))\n",
    "print(len(full_name_compact))\n"
   ]
  },
  {
   "cell_type": "markdown",
   "id": "efc3e3e7",
   "metadata": {},
   "source": [
    "### Slicing"
   ]
  },
  {
   "cell_type": "markdown",
   "id": "3f1f1e27",
   "metadata": {},
   "source": [
    "We can also **slice** strings, that is to take a \"block\" of the string. The syntax is `my_string[start:stop]` where `start` is the index of the first character you want to grab and `stop` is the index of the first character **we do not grab**. "
   ]
  },
  {
   "cell_type": "code",
   "execution_count": null,
   "id": "f469089a",
   "metadata": {},
   "outputs": [],
   "source": [
    "my_string = \"Warwick\"\n",
    "\n",
    "# If you don't include any start or stop, by default start=0 and stop=len(my_string)\n",
    "\n",
    "my_string[:]"
   ]
  },
  {
   "cell_type": "code",
   "execution_count": null,
   "id": "ce73741e",
   "metadata": {},
   "outputs": [],
   "source": [
    "# To grab the first 3 characters\n",
    "\n",
    "my_string[0:3]\n",
    "\n",
    "# To grab the last 3 characters\n",
    "\n",
    "my_string[-3:]"
   ]
  },
  {
   "cell_type": "markdown",
   "id": "d77775de",
   "metadata": {},
   "source": [
    "> **Task** <br> A small exercise before starting the next section! Get the first 3 and last 2 letters of a string."
   ]
  },
  {
   "cell_type": "code",
   "execution_count": null,
   "id": "9cf39b14",
   "metadata": {},
   "outputs": [],
   "source": [
    "my_string = \"university\"\n",
    "\n",
    "#Type your code below here\n"
   ]
  },
  {
   "cell_type": "markdown",
   "id": "48655b44",
   "metadata": {},
   "source": [
    "## Immutability of strings"
   ]
  },
  {
   "cell_type": "markdown",
   "id": "7bb937e2",
   "metadata": {},
   "source": [
    "One important property of string is **immutability**. This means you cannot modify strings"
   ]
  },
  {
   "cell_type": "code",
   "execution_count": null,
   "id": "ff097708",
   "metadata": {},
   "outputs": [],
   "source": [
    "# Run this cells\n",
    "\n",
    "full_name = \"Leo Messi\"\n",
    "\n",
    "# Let's try to change the first character to a \"M\"\n",
    "\n",
    "full_name[0] = \"M\""
   ]
  },
  {
   "cell_type": "markdown",
   "id": "56cce503",
   "metadata": {},
   "source": [
    "You can however overwrite `full_name` to `\"Meo Messi\"` as we have seen in lesson 1!"
   ]
  },
  {
   "cell_type": "code",
   "execution_count": null,
   "id": "7c2e0507",
   "metadata": {},
   "outputs": [],
   "source": [
    "# No error here\n",
    "\n",
    "full_name = \"Meo Messi\""
   ]
  },
  {
   "cell_type": "markdown",
   "id": "258aaa5e",
   "metadata": {},
   "source": [
    "> **Task**<br>\n",
    "Take the first 4 letters, the 7th, 10th, and 12th letters <br>\n",
    "Then every 2 letters from the 13th letter onwards<br>\n",
    "Store the new word into the variable `new_string`"
   ]
  },
  {
   "cell_type": "code",
   "execution_count": null,
   "id": "e3a4e11f",
   "metadata": {},
   "outputs": [],
   "source": [
    "my_string = \"supercalifragilisticexpialidocious\"\n",
    "#Type your code below"
   ]
  },
  {
   "cell_type": "markdown",
   "id": "5501f46f",
   "metadata": {},
   "source": [
    "# String Formatting"
   ]
  },
  {
   "cell_type": "markdown",
   "id": "65f7a0f4",
   "metadata": {},
   "source": [
    "**String formatting** is the process of infusing things in the string dynamically and presenting the string. In this lesson we will see 3 ways of doing that, *(there is a fourth way we will see later in this course)*"
   ]
  },
  {
   "cell_type": "markdown",
   "id": "10b76238",
   "metadata": {},
   "source": [
    "## 1. Formatting with placeholders (old way)"
   ]
  },
  {
   "cell_type": "markdown",
   "id": "36c371d6",
   "metadata": {},
   "source": [
    "This string formatting method is not really used now but it is important you understand how it works if you encounter it in someone's code. <br> This method uses `%s` to inject strings into your print statments. In that context, `%` is called the **string-formatting operator**"
   ]
  },
  {
   "cell_type": "code",
   "execution_count": null,
   "id": "c8e5104a",
   "metadata": {},
   "outputs": [],
   "source": [
    "# Example\n",
    "\n",
    "print(\"I am going to insert %s in the middle of the string\" % \"something\")\n",
    "\n",
    "# You can also insert multiple strings\n",
    "\n",
    "print(\"My first name is %s and my last name is %s\" % (\"Lewis\", \"Hamilton\"))\n",
    "\n",
    "# And obviously, you can pass variables as well\n",
    "\n",
    "age = \"boomer\"\n",
    "type = \"sock\"\n",
    "\n",
    "print(\"I am a %s and I am a %s\" % (age, type))"
   ]
  },
  {
   "cell_type": "code",
   "execution_count": null,
   "id": "3ca4993a",
   "metadata": {},
   "outputs": [],
   "source": [
    "# Numbers (int and float) will be automatically converted to strings after being printed or returned\n",
    "\n",
    "print((\"I am %s years old and I cost £%s\") % (20, 0.25))"
   ]
  },
  {
   "cell_type": "markdown",
   "id": "ea96972a",
   "metadata": {},
   "source": [
    "We have seen `%s`, which injects a string, but we can also insert integers with `%d`, floats with `%f`"
   ]
  },
  {
   "cell_type": "code",
   "execution_count": null,
   "id": "b1fb5c74",
   "metadata": {},
   "outputs": [],
   "source": [
    "# Example\n",
    "\n",
    "print(\"I am %d years old\" % 20)\n",
    "\n",
    "# %d will convert the float in int\n",
    "\n",
    "print(\"Undergraduates represent %d of Warwicks' students\" % 0.75)\n",
    "\n",
    "# Using %f\n",
    "\n",
    "print(\"Undergraduates represent %f of Warwicks' students\" % 0.75)"
   ]
  },
  {
   "cell_type": "code",
   "execution_count": null,
   "id": "0ead4757",
   "metadata": {},
   "outputs": [],
   "source": [
    "# We can actually control the rounding precision\n",
    "\n",
    "print(\"I am going to round 0.754: %4.2f\" % 0.754)\n",
    "\n",
    "# The first integer 4 specifies the minimum number of characters (. is a character) to be present in the string. \n",
    "# The second integer 2 specifies how many digits we display after the floating point."
   ]
  },
  {
   "cell_type": "markdown",
   "id": "ed8cb7d9",
   "metadata": {},
   "source": [
    ">**Task**<br>\n",
    "Take the string \"John Smith\", split it up into first name and last name using slicing and store them into the variables `first_name` and `last_name` e.g,<br><br> `first_name = name[first 4 letters]` <br> `last_name = name[last 5 letters]`<br><br>Then print out the sentence below using placeholders <br>My firstname is `first_name`, my lastname is `last_name`.<br>"
   ]
  },
  {
   "cell_type": "code",
   "execution_count": null,
   "id": "0c74fd81",
   "metadata": {},
   "outputs": [],
   "source": [
    "name = \"John Smith\"\n",
    "\n",
    "#Type your code below"
   ]
  },
  {
   "cell_type": "markdown",
   "id": "f2a5fcfe",
   "metadata": {},
   "source": [
    "## 2. The .format() method"
   ]
  },
  {
   "cell_type": "markdown",
   "id": "57d7954e",
   "metadata": {},
   "source": [
    "The `.format()` method was introduced in Python 3. It gets rid of the % operator and is much more powerful"
   ]
  },
  {
   "cell_type": "code",
   "execution_count": null,
   "id": "f997645f",
   "metadata": {},
   "outputs": [],
   "source": [
    "# Example\n",
    "\n",
    "print(\"I am going to insert {} using {}\".format(\n",
    "  \"a string\", \"the .format() method\"))\n",
    "\n",
    "# Inserted objects can be called by index position:\n",
    "\n",
    "print(\"I am {2} years old, you can call me Mr.{0}, or by my first name, {1}\".format(\n",
    "  \"Smith\", \"Adam\", 16))\n",
    "\n",
    "# Inserted objects can be assigned keywords\n",
    "\n",
    "print(\"I am {age} years old, you can call me Mr.{last_name}, or by my first name, {first_name}\".format(\n",
    "  last_name=\"Smith\", first_name=\"Adam\", age=16))\n",
    "\n",
    "# Inserted object can be called by their variable name previously defined in the code\n",
    "\n",
    "last_name = \"Smith\"\n",
    "first_name = \"Adam\"\n",
    "age = 16\n",
    "\n",
    "print(\"I am {} years old, you can call me Mr.{}, or by my first name, {}\".format(\n",
    "    age, last_name, first_name))\n",
    "\n",
    "# Inserted objects can be reused, avoiding duplication:\n",
    "\n",
    "print(\"We all thought he was from DCS {d}, but he is actually from WBS {d}\".format(\n",
    "    d=\"department\"))\n"
   ]
  },
  {
   "cell_type": "markdown",
   "id": "88e55dc6",
   "metadata": {},
   "source": [
    ">**Task**<br>\n",
    "Print the following phrase replacing `1`,`2`,`3` with variables in the brackets using the **.format** method (university, degree, name). <br><br>\n",
    "My name is `3`. I study `2` at `1`.\n"
   ]
  },
  {
   "cell_type": "code",
   "execution_count": null,
   "id": "ad8ed892",
   "metadata": {},
   "outputs": [],
   "source": [
    "#Type your code here\n"
   ]
  },
  {
   "cell_type": "markdown",
   "id": "4f2c8b5a",
   "metadata": {},
   "source": [
    "## The f-string method"
   ]
  },
  {
   "cell_type": "markdown",
   "id": "b24ece27",
   "metadata": {},
   "source": [
    "This method is the most **concise**, **simple** and **readible** way of formatting strings. The syntax is simply `f\"This is a string where I insert something {var_name}\"`"
   ]
  },
  {
   "cell_type": "code",
   "execution_count": null,
   "id": "3b3d82e7",
   "metadata": {},
   "outputs": [],
   "source": [
    "society = \"CodeSoc\"\n",
    "\n",
    "print(f\"I am joining {society}\")\n",
    "\n",
    "# You can also have multiple variables\n",
    "\n",
    "society2 = \"WAI\"\n",
    "society3 = \"UWCS\"\n",
    "\n",
    "print(f\"I should also join {society2} and {society3}\")\n",
    "\n",
    "# Obviously, you can include numbers as well\n",
    "\n",
    "number = 0\n",
    "\n",
    "print(f\"I have {number} bitches\")"
   ]
  },
  {
   "cell_type": "markdown",
   "id": "cd5d0292",
   "metadata": {},
   "source": [
    "Float formatting can be done with the following syntax `{value:{width}.{precision}}`"
   ]
  },
  {
   "cell_type": "code",
   "execution_count": null,
   "id": "3375bc0a",
   "metadata": {},
   "outputs": [],
   "source": [
    "num = 4.57683\n",
    "\n",
    "print(f\"rounded number: {num:{5}.{4}}\")"
   ]
  },
  {
   "cell_type": "markdown",
   "id": "a9239f89",
   "metadata": {},
   "source": [
    "# Comparison operators and conditions"
   ]
  },
  {
   "cell_type": "markdown",
   "id": "04d56189",
   "metadata": {},
   "source": [
    "## Logical operators"
   ]
  },
  {
   "cell_type": "markdown",
   "id": "21c355a2",
   "metadata": {},
   "source": [
    "**Introducing a new data type : booleans**\n",
    "\n",
    "Booleans represent one of two values: **True** or **False**.<br>\n",
    "\n",
    "In programming you often need to know if an **expression** is True or False.\n",
    "You can evaluate any expression in Python, and get one of two answers, True or False.\n"
   ]
  },
  {
   "cell_type": "code",
   "execution_count": null,
   "id": "1a1541be",
   "metadata": {},
   "outputs": [],
   "source": [
    "# Is 5 greater than 2?\n",
    "5 > 2\n",
    "\n",
    "# Is 2 greater than 5?\n",
    "2 > 5"
   ]
  },
  {
   "cell_type": "markdown",
   "id": "dc8b26a1",
   "metadata": {},
   "source": [
    "We can also assign variables to be `True` or `False`"
   ]
  },
  {
   "cell_type": "code",
   "execution_count": null,
   "id": "fb0f58fa",
   "metadata": {},
   "outputs": [],
   "source": [
    "a = True\n",
    "\n",
    "print(a)"
   ]
  },
  {
   "cell_type": "markdown",
   "id": "3e243584",
   "metadata": {},
   "source": [
    "You can evaluate values using the `bool()` function. "
   ]
  },
  {
   "cell_type": "code",
   "execution_count": null,
   "id": "36a18acd",
   "metadata": {},
   "outputs": [],
   "source": [
    "a = 15\n",
    "\n",
    "bool(a)"
   ]
  },
  {
   "cell_type": "markdown",
   "id": "5df71dce",
   "metadata": {},
   "source": [
    "All values return True except the following:\n",
    "- for integers: 0\n",
    "- for strings: \"\"\n",
    "- the value None and False"
   ]
  },
  {
   "cell_type": "markdown",
   "id": "a97bfde7",
   "metadata": {},
   "source": [
    ">**Task**<br>\n",
    "Evaluate 0, \"\", None, and False and check they indeed return False"
   ]
  },
  {
   "cell_type": "code",
   "execution_count": 32,
   "id": "708ac602",
   "metadata": {},
   "outputs": [],
   "source": [
    "# Write your code here"
   ]
  },
  {
   "cell_type": "markdown",
   "id": "90a084d0",
   "metadata": {},
   "source": [
    "## Python operators"
   ]
  },
  {
   "cell_type": "markdown",
   "id": "448f4dc3",
   "metadata": {},
   "source": [
    "#### 1) Comparison operators\n",
    "\n",
    "`==`\tEqual <br>\n",
    "`!=`\tNot equal <br>\n",
    "`>`\tGreater than <br>\n",
    "`<`\tLess than <br>\n",
    "`>=`\tGreater than or equal to <br>\n",
    "`<=`\tLess than or equal to <br>\n",
    "\n",
    "These comparison operators are used in logical statements and these statements will return a boolean:<br> **True** if the statement is true and **False** otherwise"
   ]
  },
  {
   "cell_type": "code",
   "execution_count": null,
   "id": "a31bdc81",
   "metadata": {},
   "outputs": [],
   "source": [
    "# Equal Examples\n",
    "\n",
    "3 == 2\n",
    "\n",
    "\"a\" == \"A\"\n",
    "\n",
    "\"CodeSoc\" == \"UWCS\""
   ]
  },
  {
   "cell_type": "markdown",
   "id": "232b556e",
   "metadata": {},
   "source": [
    "<b>Note:</b> Don't forget the second equal sign when testing equality. <br>`=` is used to assign a value to a variable, while `==` is a comparison operator!"
   ]
  },
  {
   "cell_type": "code",
   "execution_count": null,
   "id": "fdfbb184",
   "metadata": {},
   "outputs": [],
   "source": [
    "# Not Equal examples\n",
    "\n",
    "3 != 2\n",
    "\n",
    "\"a\" != \"A\"\n",
    "\n",
    "\"CodeSoc\" != \"CodeSoc\""
   ]
  },
  {
   "cell_type": "code",
   "execution_count": null,
   "id": "4f9be550",
   "metadata": {},
   "outputs": [],
   "source": [
    "# Comparison examples\n",
    "\n",
    "# Is 3 strictly greater than 4 ? \n",
    "\n",
    "3 > 4\n",
    "\n",
    "# Is a less than or equal 100\n",
    "\n",
    "a = 462 / 5\n",
    "\n",
    "a <= 100"
   ]
  },
  {
   "cell_type": "markdown",
   "id": "c469b08d",
   "metadata": {},
   "source": [
    "#### 2) Logical operators"
   ]
  },
  {
   "cell_type": "markdown",
   "id": "0a24a61b",
   "metadata": {},
   "source": [
    "The 3 logical operators we can use to create more complex statements : **and**, **or**, and **not** <br>\n",
    "- *statement 1 **and** statement 2* will be `True` if **both** *statement 1* and *statement 2* are `True`.\n",
    "- *statement 1 **or** statement 2* will be `True` if **at least one** of the two statements is `True`.\n",
    "- **not** statement* will return `True` if *statement* is False and False if *statement* is `True`.<br><br>\n",
    "Else these are `False`"
   ]
  },
  {
   "cell_type": "code",
   "execution_count": null,
   "id": "2a686a72",
   "metadata": {},
   "outputs": [],
   "source": [
    "# Here 2 == 3 is False so the whole statement is False\n",
    "\n",
    "3 == 3 and 2 == 3\n",
    "\n",
    "# Here all statements are True so the whole statement is True\n",
    "\n",
    "a = 2\n",
    "b = 2\n",
    "\n",
    "# I put parenthesis so the statement is clearer. You can remove those if you prefer\n",
    "\n",
    "(a == b) and (\"A\" == \"A\") and (True != False)\n",
    "\n",
    "# Here the first statement is false but the second is True so the whole statement is True\n",
    "\n",
    "(5 % 2 == 0) or (8-5 == 3)\n"
   ]
  },
  {
   "cell_type": "markdown",
   "id": "23b092f5",
   "metadata": {},
   "source": [
    "**Note:** In the last example we combined 3 statements. There are no limits on how many statements you can evaluate together."
   ]
  },
  {
   "cell_type": "markdown",
   "id": "0fe16b72",
   "metadata": {},
   "source": [
    ">**Task**"
   ]
  },
  {
   "cell_type": "code",
   "execution_count": null,
   "id": "73b8751c",
   "metadata": {},
   "outputs": [],
   "source": [
    "#What will be the output?\n",
    "\n",
    "(\"Warwick\" != \"Warwick\") or (\"Warwick\" == \"warwick\") or (5 > 18)"
   ]
  },
  {
   "cell_type": "markdown",
   "id": "d5cca7e6",
   "metadata": {},
   "source": [
    "We can also use the built-in python function `not()` which just means the opposite of whatever is in the parentheses"
   ]
  },
  {
   "cell_type": "code",
   "execution_count": null,
   "id": "0b1a5ccd",
   "metadata": {},
   "outputs": [],
   "source": [
    "# 3 is not equal to 4 so the output will be not(False), that is True !\n",
    "\n",
    "not(3 == 4)\n",
    "\n",
    "# We can take previous examples and see it returns the opposite \n",
    "\n",
    "not((a == b) and (\"A\" == \"A\") and (True != False))\n",
    "\n",
    "# You can also combine and, or, and not statements \n",
    "\n",
    "((5 < 6) or not(2 != 3)) and (10-2 == 8)"
   ]
  },
  {
   "cell_type": "markdown",
   "id": "759f986a",
   "metadata": {},
   "source": [
    "<b>Note:</b> Try to decompose the logical statements into smaller pieces if you don't understand a logical statement and use bool() to check if they are True or False."
   ]
  },
  {
   "cell_type": "markdown",
   "id": "98e2c2f6",
   "metadata": {},
   "source": [
    ">**Task**<br>\n",
    "Given 3 numbers stored in the variables `a`, `b` and `c`, find out if any of them are equal.<br>\n",
    "<br>*Hint: You need to use the comprarison operator `==` and the logical operator `or`*"
   ]
  },
  {
   "cell_type": "code",
   "execution_count": null,
   "id": "66c2b4e4",
   "metadata": {},
   "outputs": [],
   "source": [
    "a,b,c= 10,12,10\n",
    "\n",
    "#Type your code here\n"
   ]
  }
 ],
 "metadata": {
  "kernelspec": {
   "display_name": "Python 3 (ipykernel)",
   "language": "python",
   "name": "python3"
  },
  "language_info": {
   "codemirror_mode": {
    "name": "ipython",
    "version": 3
   },
   "file_extension": ".py",
   "mimetype": "text/x-python",
   "name": "python",
   "nbconvert_exporter": "python",
   "pygments_lexer": "ipython3",
   "version": "3.9.6"
  }
 },
 "nbformat": 4,
 "nbformat_minor": 5
}
