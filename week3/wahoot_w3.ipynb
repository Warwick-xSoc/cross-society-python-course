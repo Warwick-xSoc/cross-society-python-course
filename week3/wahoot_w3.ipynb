{
 "cells": [
  {
   "cell_type": "markdown",
   "metadata": {},
   "source": [
    "# **Wahoot!**"
   ]
  },
  {
   "cell_type": "markdown",
   "metadata": {},
   "source": [
    "## **The xSoc Python Course Project**\n",
    "#### *Created by Tomas ([Warwick AI]()) and Keegan ([Computing](https://go.uwcs.uk/links))*"
   ]
  },
  {
   "cell_type": "markdown",
   "metadata": {},
   "source": [
    "# Wahoot Project: Accessing Quiz Data"
   ]
  },
  {
   "cell_type": "markdown",
   "metadata": {},
   "source": [
    "This week, we'd like you to:\n",
    "\n",
    "- Handle question data originally in the form of a long list, and store them in a more useful format.\n",
    "- Create a function that can return as many questions as we need of a specified difficulty."
   ]
  },
  {
   "cell_type": "markdown",
   "metadata": {},
   "source": [
    "## Question Data"
   ]
  },
  {
   "cell_type": "markdown",
   "metadata": {},
   "source": [
    "In the actual program, questions will be stored in a CSV file (we cover file handling in Week 4). For the purposes of this week, we'll originally store all the questions in a long, one-dimensional list.\n",
    "\n",
    "Every 6 indices of the list represents a single question. The components are as follows:\n",
    "\n",
    "| Offset| Name | Type | Description\n",
    "|:--:|--|:--:|--|\n",
    "| 0 | Difficulty | `int` | Between 0 and 2: Easy, Medium, or Hard |\n",
    "| 1 | Text | `str` | The actual question asked |\n",
    "| 2 | Correct | `str` | The correct answer |\n",
    "| 3 | Wrong 1 | `str` | An incorrect answer |\n",
    "| 4 | Wrong 2 | `str` | Another incorrect answer |\n",
    "| 5 | Wrong 3 | `str` | Yet another incorrect answer |\n",
    "\n",
    "For example, here is what the list would look like if we only had 2 questions."
   ]
  },
  {
   "cell_type": "code",
   "execution_count": null,
   "metadata": {},
   "outputs": [],
   "source": [
    "example_data = [0, \"What is 1+1?\", \"2\", \"3\", \"1\", \"0\", 1, \"What is life?\", \"Life\", \"Yes\", \"No\", \"Maybe\"]\n",
    "\n",
    "print(example_data[:6])  # Question 1 Data\n",
    "print(example_data[6:])  # Question 2 Data"
   ]
  },
  {
   "cell_type": "markdown",
   "metadata": {},
   "source": [
    "In this format, the questions appear one after another, with no indication where one question starts and the other questions ends. But since we know that each question has 6 components, we can figure out how to reference them. It might be useful to put this data into a better structure!"
   ]
  },
  {
   "cell_type": "markdown",
   "metadata": {},
   "source": [
    "> **Task 1**: Implement the `parse_questions` function, which should take in a list of questions like the one above, and return a 2D list of questions with each sublist representing a question.\n",
    "\n",
    "Each sublist should contain 3 elements: \n",
    "- The difficulty\n",
    "- The question text\n",
    "- A tuple of the possible answers to the question.\n",
    "\n",
    "For example:"
   ]
  },
  {
   "cell_type": "markdown",
   "metadata": {},
   "source": [
    "`[0, \"What is 1+1\", (\"2\", \"3\", \"1\", \"0\")]`"
   ]
  },
  {
   "cell_type": "code",
   "execution_count": null,
   "metadata": {},
   "outputs": [],
   "source": [
    "def parse_questions(outcome: str, questions: list) -> list:\n",
    "    # The dictionary you need to populate with question data\n",
    "    question_list = []\n",
    "    \n",
    "    # Remember: you can use slicing to extract a certain number of items from a list!\n",
    "    \n",
    "    return question_list\n",
    "\n",
    "print(parse_questions(example_data))  # Should be [[0, \"What is 1+1?\", (\"2\", \"3\", \"1\", \"0\")], [2,\"What is life?\", (\"Life\", \"Yes\", \"No\", \"Maybe\")]}"
   ]
  },
  {
   "cell_type": "markdown",
   "metadata": {},
   "source": [
    "## Getting Questions"
   ]
  },
  {
   "cell_type": "markdown",
   "metadata": {},
   "source": [
    "Once we have this more useful list of questions, we want to be able to access the questions. In particular, we want to be able to select questions based on difficulty, or select to use any difficulty."
   ]
  },
  {
   "cell_type": "markdown",
   "metadata": {},
   "source": [
    "> **Task 2**: Implement the `get_questions()` function, which takes in the 2D list of questions, a number (n) and a difficulty (d) and returns a 2D list of n questions with d difficulty.\n",
    "\n",
    "*Note if difficulty is < 0 or > 2, return questions of any difficulty.*"
   ]
  },
  {
   "cell_type": "code",
   "execution_count": null,
   "metadata": {},
   "outputs": [],
   "source": [
    "def get_questions(outcome: str, question_list: list) -> list:\n",
    "    # Store the questions in this list\n",
    "    output_questions = []\n",
    "    \n",
    "    return output_questions"
   ]
  },
  {
   "cell_type": "markdown",
   "metadata": {},
   "source": [
    "## Iterating Over Questions"
   ]
  },
  {
   "cell_type": "markdown",
   "metadata": {},
   "source": [
    "Lastly, we want to be able to iterate over a 2D list of questions, output them, get input and check if they were answered correctly or not."
   ]
  },
  {
   "cell_type": "markdown",
   "metadata": {},
   "source": [
    "> **Task 3**: Implement the `ask_questions` function below which should take in a 2D list of questions, print each question along with the possible answers, ask for input from the user then output whether they were correct or not. It should return how many questions were answered correctly.\n",
    "\n",
    "*Note we will combine this with the coursework from week 2 in a later week*\n",
    "*Note in order to print the answers in a random order, research the math.random function*"
   ]
  },
  {
   "cell_type": "code",
   "execution_count": null,
   "metadata": {},
   "outputs": [],
   "source": [
    "def ask_questions(questions: list) -> int:\n",
    "    # Use this to store the number of questions answered correctly\n",
    "    answered_correctly = 0\n",
    "    \n",
    "    # We want to display all the questions one by one, is there someway we can do this?\n",
    "    \n",
    "    # We can use the input() function from week 1 to get input from the user.\n",
    "    \n",
    "    return answered_correctly"
   ]
  },
  {
   "cell_type": "markdown",
   "metadata": {},
   "source": [
    "## Putting it all together"
   ]
  },
  {
   "cell_type": "markdown",
   "metadata": {},
   "source": [
    "Alright, you've basically implemented all the functionality we're going to need. Now we just need to combine it together."
   ]
  },
  {
   "cell_type": "markdown",
   "metadata": {},
   "source": [
    "> **Final Task**: Implement the Wahoot `play_quiz()` function. You can use all the previous functions.\n",
    "> \n",
    "> To check you've implemented things correctly, we have tests! You can scroll down a bit and run them. "
   ]
  },
  {
   "cell_type": "code",
   "execution_count": null,
   "metadata": {},
   "outputs": [],
   "source": [
    "def play_quiz(questions: list, difficulty: int):\n",
    "    # First parse the questions into a more useful data structure\n",
    "    \n",
    "    # Second get questions of specified difficulty\n",
    "    \n",
    "    # Third display each question to the user\n",
    "    \n",
    "    # Finally output the number of questions answered correctly"
   ]
  },
  {
   "cell_type": "markdown",
   "metadata": {},
   "source": [
    "In order to test the code, there is a list of questions with various difficulties and the run_tests function which will allow you to test the play quiz function on all difficulty settings. Run this function and make sure it's asking questions of the correct difficulty. \n",
    "\n",
    "Unlike last week, we won't give you specific feedback on what the function expected vs what it got, this is because in real life you will rarely have that help so its useful to be able to figure it out for yourself! Also feel free to add/modify the questions list to try out different things!"
   ]
  },
  {
   "cell_type": "code",
   "execution_count": null,
   "metadata": {},
   "outputs": [],
   "source": [
    "questions = [0,\"What is 1+1?\",\"2\",\"3\",\"4\",\"1\",\n",
    "             2,\"Which society is not involved in this course?\",\"Quidditch\",\"AI\",\"Coding\",\"Computing\",\n",
    "             1,\"How many weeks of content are there on the course?\",\"6\",\"4\",\"5\",\"7\",\n",
    "             0,\"How many societies are involved in this course?\",\"3\",\"1\",\"2\",\"4\",\n",
    "             2,\"Which of these data structures is not taught on this course?\",\"Sets\",\"Lists\",\"Tuples\",\"Dictionaries\"]\n",
    "\n",
    "def run_tests():\n",
    "    # Get questions with difficulty 0\n",
    "    play_quiz(questions,0)\n",
    "    # Get questions with difficulty 1\n",
    "    play_quiz(questions,1)\n",
    "    # Get questions with difficulty 2\n",
    "    play_quiz(questions,2)\n",
    "    # Get questions with any difficulty\n",
    "    play_quiz(questions,-1)"
   ]
  },
  {
   "cell_type": "markdown",
   "metadata": {},
   "source": [
    "### Running The Tests"
   ]
  },
  {
   "cell_type": "markdown",
   "metadata": {},
   "source": [
    "I'd recommend hitting the **Run All** button near the top of your screen, as everything's spread out across multiple cells. Jupyter will have only run the Python code you've hit play on, so if you've not hit play on a function, it might not 'exist', or might have an older version of your function definition saved."
   ]
  },
  {
   "cell_type": "code",
   "execution_count": null,
   "metadata": {},
   "outputs": [],
   "source": [
    "# Run tests on your apply_scoring function.\n",
    "run_tests()"
   ]
  },
  {
   "cell_type": "markdown",
   "metadata": {},
   "source": [
    "🖋️ ***Written by Alistair from the [AI Society](https://warwick.ai)***"
   ]
  }
 ],
 "metadata": {
  "kernelspec": {
   "display_name": "Python 3.8.8 ('base')",
   "language": "python",
   "name": "python3"
  },
  "language_info": {
   "codemirror_mode": {
    "name": "ipython",
    "version": 3
   },
   "file_extension": ".py",
   "mimetype": "text/x-python",
   "name": "python",
   "nbconvert_exporter": "python",
   "pygments_lexer": "ipython3",
   "version": "3.8.8"
  },
  "vscode": {
   "interpreter": {
    "hash": "a08c693456eed66ca7750bd12d0d6082c9dc49d6514892a860380f4ee091e3f1"
   }
  }
 },
 "nbformat": 4,
 "nbformat_minor": 2
}
