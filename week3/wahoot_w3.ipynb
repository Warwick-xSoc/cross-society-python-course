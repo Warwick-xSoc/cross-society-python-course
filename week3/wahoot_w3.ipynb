{
 "cells": [
  {
   "cell_type": "markdown",
   "metadata": {},
   "source": [
    "# **Wahoot!**"
   ]
  },
  {
   "cell_type": "markdown",
   "metadata": {},
   "source": [
    "## **The xSoc Python Course Project**\n",
    "#### *Created by Tomas ([Warwick AI]()) and Keegan ([Computing](https://go.uwcs.uk/links))*"
   ]
  },
  {
   "cell_type": "markdown",
   "metadata": {},
   "source": [
    "# Wahoot Project: Accessing Quiz Data"
   ]
  },
  {
   "cell_type": "markdown",
   "metadata": {},
   "source": [
    "This week, we'd like you to write code which can take in a list of questions and store them in a relevant data structure. We'd also like you to write code to access the questions based on their difficulty."
   ]
  },
  {
   "cell_type": "markdown",
   "metadata": {},
   "source": [
    "This will be done by two separate functions. One function will parse the list of questions and store them in a more useful data structure. The other function will take in the questions, a number and a specified difficulty and will return the given number of questions of the specified difficulty."
   ]
  },
  {
   "cell_type": "markdown",
   "metadata": {},
   "source": [
    "## Question Data"
   ]
  },
  {
   "cell_type": "markdown",
   "metadata": {},
   "source": [
    "In the actual program, questions will be stored as CSV data (you will learn about this in week 4), but for the purpose of this week, we will store the questions in a long list.\n",
    "\n",
    "The questions will be stored one after another, and each question will have 6 components:\n",
    "* Difficulty: A number between 0-2 which indicates the difficulty of the question\n",
    "* Question: The question stored as a string.\n",
    "* Correct: The correct answer stored as a string.\n",
    "* Wrong 1: The first incorrect answer stored as a string.\n",
    "* Wrong 2: The second incorrect answer stored as a string.\n",
    "* Wrong 3: The third incorrect answer stored as a string.\n",
    "\n",
    "An example of a list of questions is shown below."
   ]
  },
  {
   "cell_type": "markdown",
   "metadata": {},
   "source": [
    "`[0,\"What is 1+1?\",\"2\",\"3\",\"1\",\"0\",2,\"What is 63*42?\",\"2646\",\"2520\",\"2650\",\"20\"]`"
   ]
  },
  {
   "cell_type": "markdown",
   "metadata": {},
   "source": [
    "Note that the questions appear one after another with no indication where one question starts and the other questions ends, however each question will always have 6 components, which will prove useful when writing our functions to parse the question data into a more useful structure!"
   ]
  },
  {
   "cell_type": "markdown",
   "metadata": {},
   "source": [
    "> **Task 1**: Implement the `parse_question` function, which should take in a list of questions like the one above and return a dictionary of questions with the difficulty as the key, and the value being a list of the other data."
   ]
  },
  {
   "cell_type": "code",
   "execution_count": null,
   "metadata": {},
   "outputs": [],
   "source": [
    "def parse_question(outcome: str, questions: list) -> dict{int, list}:\n",
    "    # This is the dictionary you need to populate with question data\n",
    "    question_dict = {}\n",
    "    \n",
    "    # Remember you can use slicing to extract a certain number of items from a list!\n",
    "    \n",
    "    # Remeber to put the difficulty as the key for each question in the dictionary.\n",
    "    \n",
    "    return question_dict"
   ]
  },
  {
   "cell_type": "markdown",
   "metadata": {},
   "source": [
    "## Getting Questions"
   ]
  },
  {
   "cell_type": "markdown",
   "metadata": {},
   "source": [
    "Once we have this dictionary of questions, we want to be able to access the questions. In particular, we want to be able to select questions based on difficulty, or select to use any difficulty."
   ]
  },
  {
   "cell_type": "markdown",
   "metadata": {},
   "source": [
    "> **Task 2**: Implement the `get_questions()` function, which takes in a dictionary of questions, a number (n) and a difficulty (d) and returns a 2D list of n questions with d difficulty.\n",
    "\n",
    "*Note if difficulty is < 0 or > 2, return questions of any difficulty.*"
   ]
  },
  {
   "cell_type": "code",
   "execution_count": null,
   "metadata": {},
   "outputs": [],
   "source": [
    "def get_questions(outcome: str, questions: dict{int,list}) -> list[list[int,str,str,str,str,str]]:\n",
    "    # Store the questions in this list\n",
    "    output_questions = []\n",
    "    \n",
    "    return output_questions"
   ]
  },
  {
   "cell_type": "markdown",
   "metadata": {},
   "source": [
    "## Iterating Over Questions"
   ]
  },
  {
   "cell_type": "markdown",
   "metadata": {},
   "source": [
    "Lastly, we want to be able to iterate over a 2D list of questions, output them, get input and check if they were answered correctly or not."
   ]
  },
  {
   "cell_type": "markdown",
   "metadata": {},
   "source": [
    "> **Task 3**: Implement the `ask_questions` function below which should take in a 2D list of questions, print each question, ask for input from the user then output whether they were correct or not. It should return how many questions were answered correctly.\n",
    "\n",
    "*Note we will combine this with the coursework from week 2 in a later week*"
   ]
  },
  {
   "cell_type": "code",
   "execution_count": null,
   "metadata": {},
   "outputs": [],
   "source": [
    "def ask_questions(questions: list[list[int,str,str,str,str,str]]) -> int:\n",
    "    # Use this to store the number of questions answered correctly\n",
    "    answered_correctly = 0\n",
    "    \n",
    "    # We want to display all the questions one by one, is there someway we can do this?\n",
    "    \n",
    "    # We can use the input() function from week 1 to get input from the user.\n",
    "    \n",
    "    return answered_correctly"
   ]
  },
  {
   "cell_type": "markdown",
   "metadata": {},
   "source": [
    "## Putting it all together"
   ]
  },
  {
   "cell_type": "markdown",
   "metadata": {},
   "source": [
    "Alright, you've basically implemented all the functionality we're going to need. Now we just need to combine it together."
   ]
  },
  {
   "cell_type": "markdown",
   "metadata": {},
   "source": [
    "> **Final Task**: Implement the Wahoot `play_quiz()` function. You can use all the previous functions.\n",
    "> \n",
    "> To check you've implemented things correctly, we have tests! You can scroll down a bit and run them. "
   ]
  },
  {
   "cell_type": "code",
   "execution_count": null,
   "metadata": {},
   "outputs": [],
   "source": [
    "def play_quiz(questions: list[], difficulty: int):\n",
    "    # First parse the questions into a more useful data structure\n",
    "    \n",
    "    # Second get questions of specified difficulty\n",
    "    \n",
    "    # Third display each question to the user\n",
    "    \n",
    "    # Finally output the number of questions answered correctly"
   ]
  },
  {
   "cell_type": "markdown",
   "metadata": {},
   "source": [
    "In order to test the code, there is a list of questions with various difficulties and the run_tests function which will allow you to test the play quiz function on all difficulty settings. Run this function and make sure it's asking questions of the correct difficulty. \n",
    "\n",
    "Unlike last week, we won't give you specific feedback on what the function expected vs what it got, this is because in real life you will rarely have that help so its useful to be able to figure it out for yourself! Also feel free to add/modify the questions list to try out different things!"
   ]
  },
  {
   "cell_type": "code",
   "execution_count": null,
   "metadata": {},
   "outputs": [],
   "source": [
    "questions = [0,\"What is 1+1?\",\"2\",\"3\",\"4\",\"1\",\n",
    "             2,\"Which society is not involved in this course?\",\"Quidditch\",\"AI\",\"Coding\",\"Computing\",\n",
    "             1,\"How many weeks of content are there on the course?\",\"6\",\"4\",\"5\",\"7\",\n",
    "             0,\"How many societies are involved in this course?\",\"3\",\"1\",\"2\",\"4\",\n",
    "             2,\"Which of these data structures is not taught on this course?\",\"Sets\",\"Lists\",\"Tuples\",\"Dictionaries\"]\n",
    "\n",
    "def run_tests():\n",
    "    # Get questions with difficulty 0\n",
    "    play_quiz(questions,0)\n",
    "    # Get questions with difficulty 1\n",
    "    play_quiz(questions,1)\n",
    "    # Get questions with difficulty 2\n",
    "    play_quiz(questions,2)\n",
    "    # Get questions with any difficulty\n",
    "    play_quiz(questions,-1)"
   ]
  },
  {
   "cell_type": "markdown",
   "metadata": {},
   "source": [
    "### Running The Tests"
   ]
  },
  {
   "cell_type": "markdown",
   "metadata": {},
   "source": [
    "I'd recommend hitting the **Run All** button near the top of your screen, as everything's spread out across multiple cells. Jupyter will have only run the Python code you've hit play on, so if you've not hit play on a function, it might not 'exist', or might have an older version of your function definition saved."
   ]
  },
  {
   "cell_type": "code",
   "execution_count": null,
   "metadata": {},
   "outputs": [],
   "source": [
    "# Run tests on your apply_scoring function.\n",
    "run_tests()"
   ]
  },
  {
   "cell_type": "markdown",
   "metadata": {},
   "source": [
    "🖋️ ***Written by Alistair from the [AI Society](https://warwick.ai)***"
   ]
  }
 ],
 "metadata": {
  "kernelspec": {
   "display_name": "Python 3",
   "language": "python",
   "name": "python3"
  },
  "language_info": {
   "codemirror_mode": {
    "name": "ipython",
    "version": 3
   },
   "file_extension": ".py",
   "mimetype": "text/x-python",
   "name": "python",
   "nbconvert_exporter": "python",
   "pygments_lexer": "ipython3",
   "version": "3.8.8"
  },
  "vscode": {
   "interpreter": {
    "hash": "268a003517095b3e00ec49a0832a87899bac50083c754616205934d33472dfcd"
   }
  }
 },
 "nbformat": 4,
 "nbformat_minor": 2
}
