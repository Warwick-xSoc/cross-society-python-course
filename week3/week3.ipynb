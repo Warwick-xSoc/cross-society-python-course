{
 "cells": [
  {
   "cell_type": "markdown",
   "id": "8ab9998f",
   "metadata": {},
   "source": [
    "# Functions\n",
    "A function is a named piece of code which you can call to execute later on. They prevent the programmer from having to write out the code multiple times, instead they provide a way of executing code that was defined earlier with a **function call**.\n",
    "\n",
    "You will find yourself using pre-existing functions that come with python as well as writing your own.\n",
    "\n",
    "Function are defined using the ```def``` keyword"
   ]
  },
  {
   "cell_type": "code",
   "execution_count": null,
   "id": "217c62de",
   "metadata": {},
   "outputs": [],
   "source": [
    "def greet(): #This is a function definition, it outlines the code within the function, it does NOT execute the code\n",
    "    print(\"Hello human!!!\")\n",
    "    \n",
    "greet() #This is a function call, the piece of code which actually causes the function to execute."
   ]
  },
  {
   "cell_type": "markdown",
   "id": "424f5e0d",
   "metadata": {},
   "source": [
    "Note that if we never called ```greet()``` then the code within the function would not execute.\n",
    "\n",
    "You often want to change the data that the function operates on between function calls. For example, you may have a function which saves files, in this case you would want to be able to pass different files to the function rather than defining the same function for individual files. This can be done by defining **parameters** between the brackets of the function definition:\n",
    "```def functionName(parameter1, parameter2, parameter3):\n",
    "    #some code here\n",
    "    ```\n",
    "\n",
    "The actual data you pass to the function is known as an **argument**\n",
    "\n",
    "```functionName(arg1, arg2, arg3)```"
   ]
  },
  {
   "cell_type": "code",
   "execution_count": 21,
   "id": "14f26a39",
   "metadata": {},
   "outputs": [
    {
     "name": "stdout",
     "output_type": "stream",
     "text": [
      "Hello James!!!\n",
      "Hello Will!!!\n",
      "Hello Tom!!!\n"
     ]
    }
   ],
   "source": [
    "def greet(name):\n",
    "    print(\"Hello \" + name + \"!!!\")\n",
    "\n",
    "greet(\"James\")\n",
    "greet(\"Will\")\n",
    "greet(\"Tom\")"
   ]
  },
  {
   "cell_type": "markdown",
   "id": "2b3fdd61",
   "metadata": {},
   "source": [
    "functions can ```return``` values. This means that the execution of the function results in some value which is then passed back to where the function was called:"
   ]
  },
  {
   "cell_type": "code",
   "execution_count": 23,
   "id": "6db94826",
   "metadata": {},
   "outputs": [
    {
     "name": "stdout",
     "output_type": "stream",
     "text": [
      "False\n",
      "True\n"
     ]
    }
   ],
   "source": [
    "def isEven(num):\n",
    "    return (num % 2 == 0) #If the remainder when dividing by 2 is zero the number is even.\n",
    "\n",
    "\n",
    "print(isEven(5)) #Here isEven(5) is replaced by the result of the function, in this case, False.\n",
    "\n",
    "print(isEven(42))"
   ]
  },
  {
   "cell_type": "markdown",
   "id": "09e4a9b4",
   "metadata": {},
   "source": [
    "# Lists\n",
    "A list is used to store multiple pieces of data under a single name. Individual items within a list can be accessed using an **index**. Lists in python are **zero-indexed** which means that the first item is placed at index 0.\n"
   ]
  },
  {
   "cell_type": "code",
   "execution_count": 15,
   "id": "41e51e49",
   "metadata": {},
   "outputs": [
    {
     "name": "stdout",
     "output_type": "stream",
     "text": [
      "Monday\n",
      "Sunday\n"
     ]
    }
   ],
   "source": [
    "daysOfTheWeek = [\"Monday\", \"Tuesday\", \"Wednesday\", \"Thursday\", \"Friday\", \"Saturday\", \"Sunday\"]\n",
    "print(daysOfTheWeek[0])\n",
    "print(daysOfTheWeek[6])"
   ]
  },
  {
   "cell_type": "markdown",
   "id": "7378939c",
   "metadata": {},
   "source": [
    "You can use a negative index to access elements from the end of the list. -1 represents the final element within the list:"
   ]
  },
  {
   "cell_type": "code",
   "execution_count": 17,
   "id": "58570087",
   "metadata": {},
   "outputs": [
    {
     "name": "stdout",
     "output_type": "stream",
     "text": [
      "Sunday\n",
      "Monday\n"
     ]
    }
   ],
   "source": [
    "print(daysOfTheWeek[-1])\n",
    "print(daysOfTheWeek[-7])"
   ]
  },
  {
   "cell_type": "markdown",
   "id": "e7778187",
   "metadata": {},
   "source": [
    "Attempting to access an index which does not currently exist results in an error:"
   ]
  },
  {
   "cell_type": "code",
   "execution_count": 18,
   "id": "6c4fc81c",
   "metadata": {},
   "outputs": [
    {
     "ename": "IndexError",
     "evalue": "list index out of range",
     "output_type": "error",
     "traceback": [
      "\u001b[0;31m---------------------------------------------------------------------------\u001b[0m",
      "\u001b[0;31mIndexError\u001b[0m                                Traceback (most recent call last)",
      "Input \u001b[0;32mIn [18]\u001b[0m, in \u001b[0;36m<cell line: 1>\u001b[0;34m()\u001b[0m\n\u001b[0;32m----> 1\u001b[0m \u001b[38;5;28mprint\u001b[39m(\u001b[43mdaysOfTheWeek\u001b[49m\u001b[43m[\u001b[49m\u001b[38;5;241;43m7\u001b[39;49m\u001b[43m]\u001b[49m)\n",
      "\u001b[0;31mIndexError\u001b[0m: list index out of range"
     ]
    }
   ],
   "source": [
    "print(daysOfTheWeek[7]) #Note that even though there are 7 items, the first index is 0 hence the final index is 6."
   ]
  },
  {
   "cell_type": "markdown",
   "id": "06a317a8",
   "metadata": {},
   "source": [
    "Lists are **dynamic**. This means that they can grow and shrink in size. Lists can also contain **heterogeneous** values meaning you can store values of different data types within the same list"
   ]
  },
  {
   "cell_type": "code",
   "execution_count": 20,
   "id": "a66e19e3",
   "metadata": {},
   "outputs": [
    {
     "name": "stdout",
     "output_type": "stream",
     "text": [
      "[1234, '0021', 9421, '0226', 7280, 9421, '6552', '1111']\n",
      "[1234, '0021', 9421, '0226', 7280, 9421, '6552', '1111', 3973]\n",
      "[1234, '0021', '0226', 7280, 9421, '6552', '1111', 3973]\n",
      "1234\n"
     ]
    }
   ],
   "source": [
    "Identifiers = [1234, \"0021\", 9421, \"0226\", 7280, 9421, \"6552\", \"1111\"]\n",
    "print(Identifiers)\n",
    "Identifiers.append(3973) #Adds item to the end of the list\n",
    "print(Identifiers)\n",
    "Identifiers.remove(9421) #Removes the FIRST instance of the item within the list\n",
    "print(Identifiers)\n",
    "firstElement = Identifiers.pop(0) #Pop removes the item at the provided index and returns it\n",
    "print(firstElement)"
   ]
  },
  {
   "cell_type": "markdown",
   "id": "0e50f958",
   "metadata": {},
   "source": [
    "Here is a table of other list functions which you may find useful:\n",
    "\n",
    "| Syntax                       | Description                                                                             |\n",
    "|:----------------------------:|:---------------------------------------------------------------------------------------:|\n",
    "| ```listName.extend(list)```       | Appends the list provided as an argument to listName                                    |\n",
    "| ```listName.insert(index, item)``` | Inserts item at the index provided, **does not replace the item at the provided index** |\n",
    "| ```listName.index(item)```         | Returns the index of the **first instance** of the item                                 |\n",
    "| ```listName.count(item)```         | Returns the number of instances of item within the list                                 |\n",
    "| ```listName.sort()```              | Sorts the list in **non-decreasing** order                                              |\n",
    "| ```listName.reverse()```           | Reverses the list (last item becomes the first, second to last becomes second, etc)     |"
   ]
  },
  {
   "cell_type": "markdown",
   "id": "a1ec021a",
   "metadata": {},
   "source": [
    "# Dictionaries\n",
    "Dictionaries are similar to lists in that they are used to store a collection of items. The difference is that these items are accessed using a key specified by the programmers rather than an index:"
   ]
  },
  {
   "cell_type": "code",
   "execution_count": 25,
   "id": "a05d013d",
   "metadata": {},
   "outputs": [
    {
     "name": "stdout",
     "output_type": "stream",
     "text": [
      "Piotr Zychlinski\n"
     ]
    }
   ],
   "source": [
    "student2139 = {\"first name\" : \"Piotr\",\n",
    "               \"second name\" : \"Zychlinski\",\n",
    "               \"course\" : \"Computer Science\",\n",
    "               \"year\" : 2,\n",
    "               \"ID\" : 2192341}\n",
    "print(student2139[\"first name\"] + \" \" + student2139[\"second name\"])"
   ]
  },
  {
   "cell_type": "markdown",
   "id": "b286544b",
   "metadata": {},
   "source": [
    "Just like with a list, you can store data of different types.\n",
    "\n",
    "There are some restrictions on what can be used for a key. Firstly, the key must be **immutable**. This means that strings, integers, floats and booleans all make valid keys however lists do not as they can be modified. Secondly, **duplicate keys are not allowed** as this would create ambiguity as to which element you are trying to access. Defining a duplicate key simply overwrites the value of the first. **Keys can be of different types to eachother** which means that the following dictionary is valid:"
   ]
  },
  {
   "cell_type": "code",
   "execution_count": 26,
   "id": "0460fb37",
   "metadata": {},
   "outputs": [
    {
     "name": "stdout",
     "output_type": "stream",
     "text": [
      "yes\n",
      "yes\n"
     ]
    }
   ],
   "source": [
    "oddDict = {True : \"yes\",\n",
    "           False : \"no\",\n",
    "           1 : \"yes\", \n",
    "           0 : \"no\"}\n",
    "\n",
    "print(oddDict[1])\n",
    "print(oddDict[True])"
   ]
  },
  {
   "cell_type": "markdown",
   "id": "aeecd71b",
   "metadata": {},
   "source": [
    "# Functions - again\n",
    "\n",
    "Now that we know what lists and dictionaries are we can introduce a useful concept called **variable arguments**. \n",
    "\n",
    "Sometimes when you define a function you may not necessarily know exactly how many arguments you want the function to take. For example, when defining a function which deletes files you don't want to limit the functionality to a specific number of files. Variable arguments allow you to simply say the function takes some variable (non-fixed) number of arguments.\n",
    "\n",
    "This is achieved through the ```*args``` keyword\n",
    "\n",
    "Note that you can put anything after the ```*```, not necessarily ```args```, this is just common practice."
   ]
  },
  {
   "cell_type": "code",
   "execution_count": 2,
   "id": "1b6aa921",
   "metadata": {},
   "outputs": [
    {
     "name": "stdout",
     "output_type": "stream",
     "text": [
      "Deleting cat.png...\n",
      "Deleting homework.mp4...\n",
      "Deleting .git...\n",
      "Deleting log.temp...\n"
     ]
    }
   ],
   "source": [
    "def deleteFiles(*files):  #Here files is an iterable structure of arguments\n",
    "    for file in files:\n",
    "        #Some code to delete the file, you will learn how to do this later on in the course\n",
    "        print(\"Deleting \" + file + \"...\")\n",
    "\n",
    "deleteFiles(\"cat.png\", \"homework.mp4\", \".git\") #Any number of files can be passed to the function\n",
    "deleteFiles(\"log.temp\")\n",
    "deleteFiles() #The function also works with no arguments at all, in this case this won't lead to any execution of code."
   ]
  },
  {
   "cell_type": "markdown",
   "id": "28af138d",
   "metadata": {},
   "source": [
    "Note that in the code above you could just as well access the arguments using regular list index syntax, e.g. ```files[0]```.\n",
    "\n",
    "These arguments can also be named to help determine their meaning, this functions similarly to a dictionary in that the argument is the value with a name as the key.\n",
    "\n",
    "To define a named collection of arguments use the ```**kwargs``` parameter name structure:"
   ]
  },
  {
   "cell_type": "code",
   "execution_count": 8,
   "id": "a5741770",
   "metadata": {},
   "outputs": [
    {
     "name": "stdout",
     "output_type": "stream",
     "text": [
      "Will did exceptionally well\n",
      "Frank did exceptionally well\n"
     ]
    }
   ],
   "source": [
    "def pickTopStudents(**students):\n",
    "    for name, score in students.items():\n",
    "        if(score > 85):\n",
    "            print(name + \" did exceptionally well\")\n",
    "\n",
    "pickTopStudents(Will=90, James=67, Jozef=79, Peter=85, Steven=12, Frank=98)"
   ]
  },
  {
   "cell_type": "markdown",
   "id": "689be243",
   "metadata": {},
   "source": [
    "# Loops\n",
    "\n",
    "Loops are used to repeat sections of code. Instead of writing the code out again and again, you can use a loop."
   ]
  },
  {
   "cell_type": "markdown",
   "id": "600ed34d",
   "metadata": {},
   "source": [
    "## While Loops\n",
    "This type of loop is used to execute a piece of code **until a condition is met**. In practice, the loop executes until the expression between the brackets of the loop evaluates to False:"
   ]
  },
  {
   "cell_type": "code",
   "execution_count": 7,
   "id": "0cacd5d4",
   "metadata": {},
   "outputs": [
    {
     "name": "stdout",
     "output_type": "stream",
     "text": [
      "0\n",
      "1\n",
      "2\n",
      "3\n",
      "4\n",
      "5\n",
      "6\n",
      "7\n",
      "8\n",
      "9\n"
     ]
    }
   ],
   "source": [
    "count = 0\n",
    "while(count < 10):\n",
    "    print(count)\n",
    "    count += 1"
   ]
  },
  {
   "cell_type": "markdown",
   "id": "b614fbcd",
   "metadata": {},
   "source": [
    "## For Loops\n",
    "This type of loop is used to **iterate over a collection of items**. ```for``` loops are often used to execute code a specific number of times however what they really do is take each item from a collection until the end is reached. \n",
    "\n",
    "Note that ```range``` is a function which generates a list of numbers between the first argument and the second. This function is just like any other, it is not specific to ```for``` loops however it is very useful when you need to execute a piece of code a specific number of times."
   ]
  },
  {
   "cell_type": "code",
   "execution_count": 8,
   "id": "fad411e2",
   "metadata": {},
   "outputs": [
    {
     "name": "stdout",
     "output_type": "stream",
     "text": [
      "0\n",
      "1\n",
      "2\n",
      "3\n",
      "4\n",
      "5\n",
      "6\n",
      "7\n",
      "8\n",
      "9\n",
      "0\n",
      "1\n",
      "2\n",
      "3\n",
      "4\n",
      "5\n",
      "6\n",
      "7\n",
      "8\n",
      "9\n"
     ]
    }
   ],
   "source": [
    "for x in range(0, 10): #x is just a variable representing an item from the collection on the right\n",
    "    print(x)\n",
    "    \n",
    "#The code above generates the same result as the code below\n",
    "\n",
    "for x in [0,1,2,3,4,5,6,7,8,9]:\n",
    "    print(x)\n",
    "    "
   ]
  },
  {
   "cell_type": "markdown",
   "id": "267575b9",
   "metadata": {},
   "source": [
    "For loops can be nested an arbitrary number of times, this can be useful when working with two-dimensional arrays like so:"
   ]
  },
  {
   "cell_type": "code",
   "execution_count": 13,
   "id": "e3c3dbbf",
   "metadata": {},
   "outputs": [
    {
     "name": "stdout",
     "output_type": "stream",
     "text": [
      "Modules for year 1\n",
      "CS118\n",
      "CS126\n",
      "CS130\n",
      "CS131\n",
      "Modules for year 2\n",
      "CS241\n",
      "CS258\n",
      "CS259\n",
      "CS260\n",
      "Modules for year 3\n",
      "CS310\n",
      "CS301\n",
      "CS342\n"
     ]
    }
   ],
   "source": [
    "ModulesPerYear = [[\"CS118\", \"CS126\", \"CS130\", \"CS131\"], [\"CS241\", \"CS258\", \"CS259\", \"CS260\"], [\"CS310\", \"CS301\", \"CS342\"]]\n",
    "currentYear = 1\n",
    "for year in ModulesPerYear: #Iterates over years\n",
    "    print(\"Modules for year \" + str(currentYear))\n",
    "    for module in year: #Iterates over modules WITHIN a year\n",
    "        print(module)\n",
    "    currentYear += 1 #Once all of the current year's modules are iterated over, the counter is incremented."
   ]
  },
  {
   "cell_type": "markdown",
   "id": "a6c1b77a",
   "metadata": {},
   "source": [
    "You can iterate over more than just lists. Anything considered to be **iterable** can be looped over. You can iterate over a dictionary by calling the ```items()``` function which returns a list of pairs representing the key and value pairs of the dictionary."
   ]
  },
  {
   "cell_type": "code",
   "execution_count": 28,
   "id": "0a289058",
   "metadata": {},
   "outputs": [
    {
     "name": "stdout",
     "output_type": "stream",
     "text": [
      "Employee Number: 2123124 | Employee Name: James Hill\n",
      "Employee Number: 2012399 | Employee Name: Tom Lauren\n",
      "Employee Number: 2075620 | Employee Name: Kate Johnson\n",
      "Employee Number: 2052156 | Employee Name: Natalia Ford\n"
     ]
    }
   ],
   "source": [
    "employees = {\"2123124\" : \"James Hill\",\n",
    "             \"2012399\" : \"Tom Lauren\",\n",
    "             \"2075620\" : \"Kate Johnson\", \n",
    "             \"2052156\" : \"Natalia Ford\"}\n",
    "\n",
    "for empNumber, empName in employees.items():\n",
    "    print(\"Employee Number: \" + empNumber + \" | \" + \"Employee Name: \" + empName)"
   ]
  },
  {
   "cell_type": "code",
   "execution_count": null,
   "id": "51841e79",
   "metadata": {},
   "outputs": [],
   "source": []
  }
 ],
 "metadata": {
  "kernelspec": {
   "display_name": "Python 3 (ipykernel)",
   "language": "python",
   "name": "python3"
  },
  "language_info": {
   "codemirror_mode": {
    "name": "ipython",
    "version": 3
   },
   "file_extension": ".py",
   "mimetype": "text/x-python",
   "name": "python",
   "nbconvert_exporter": "python",
   "pygments_lexer": "ipython3",
   "version": "3.10.4"
  }
 },
 "nbformat": 4,
 "nbformat_minor": 5
}
