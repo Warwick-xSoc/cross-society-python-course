{
 "cells": [
  {
   "cell_type": "markdown",
   "id": "42a6cd31",
   "metadata": {},
   "source": [
    "# Week 3 Exercises\n",
    "\n",
    "## Exercise 1\n",
    "\n",
    "The DCS needs to store the results of the CS130 exam. Unfortunately, their servers are running out of storage which means they cannot store every grade.\n",
    "\n",
    "They have collectively agreed that storing a third of the grades is good enough. To ensure fairness, you must store retain every third grade from the grades list.\n",
    "\n",
    "For example, if the grades list was ``[49, 52, 19, 0, 62, 23, 29, 72]`` then you should return ``[49, 0, 29]``\n",
    "\n",
    "You should make use of **list slicing** to keep your code concise. If you struggle with list slicing, try using a loop instead."
   ]
  },
  {
   "cell_type": "code",
   "execution_count": 13,
   "id": "980b2f4c",
   "metadata": {},
   "outputs": [
    {
     "name": "stdout",
     "output_type": "stream",
     "text": [
      "\n"
     ]
    }
   ],
   "source": [
    "import random\n",
    "grades = [random.randint(0, 75) for i in range(280)]\n",
    "#Do not modify the code above\n",
    "\n",
    "def compressGradesList(grades): #retain every 3rd grade from the list\n",
    "    #Write your code here\n",
    "\n",
    "compressGradesList(grades)"
   ]
  },
  {
   "cell_type": "markdown",
   "id": "81ca1312",
   "metadata": {},
   "source": [
    "## Exercise 2\n",
    "\n",
    "You have been tasked with implementing an algorithm for calculating the grade a student should get for a specifc piece of coursework. Given a dictionary containing the name of a student as the key and a list of the running times of their coursework as the value, calculate the grade the student should get based on the following criteria:\n",
    "- Average Running Time <= 10s = 75%\n",
    "- 10s < Average Running Time <= 20s = 70%\n",
    "- 20s < Average Running Time <= 30s = 60%\n",
    "- 30s < Average Running Time <= 40s = 45%\n",
    "- 40s < Average Running Time = 0%\n",
    "\n",
    "You should print your results in the following format: ``studentName achieved a grade of x%``"
   ]
  },
  {
   "cell_type": "code",
   "execution_count": null,
   "id": "c9f70e32",
   "metadata": {},
   "outputs": [],
   "source": [
    "gradeDict = {\"Piotr\" : [8,11,9,14,7], \"James\" : [2,1,2,2,100], \"Hugh\" : [23,25,22,20,22], \"Oliver\" : [21,23,34,40,33]}\n",
    "#Do not modify the code above\n",
    "\n",
    "\n",
    "def determineGrades(gradeDict):\n",
    "    #Write your code here"
   ]
  },
  {
   "cell_type": "markdown",
   "id": "f2512422",
   "metadata": {},
   "source": [
    "## Exercise 3\n",
    "\n",
    "A junior developer at your company fails to understand the immutability of tuples meaning they constantly find themselves trying to modify tuples they've previously defined. To help them, write a function which takes an arbitrary number of tuples and returns a list containing all of their elements (in the same order)."
   ]
  },
  {
   "cell_type": "code",
   "execution_count": 5,
   "id": "70d0659a",
   "metadata": {},
   "outputs": [
    {
     "ename": "IndentationError",
     "evalue": "expected an indented block after function definition on line 5 (797351283.py, line 8)",
     "output_type": "error",
     "traceback": [
      "\u001b[0;36m  Input \u001b[0;32mIn [5]\u001b[0;36m\u001b[0m\n\u001b[0;31m    print(tuplesToList(tupOne))\u001b[0m\n\u001b[0m    ^\u001b[0m\n\u001b[0;31mIndentationError\u001b[0m\u001b[0;31m:\u001b[0m expected an indented block after function definition on line 5\n"
     ]
    }
   ],
   "source": [
    "tupOne = (1,2,3,4)\n",
    "tupTwo = (5,6,7,8)\n",
    "tupThree = (9,10)\n",
    "\n",
    "def tuplesToList(*tups):\n",
    "    #Write your code here\n",
    "\n",
    "print(tuplesToList(tupOne))\n",
    "print(tuplesToList(tupOne, tupTwo))\n",
    "print(tuplesToList(tupOne, tupTwo, tupThree))"
   ]
  },
  {
   "cell_type": "code",
   "execution_count": null,
   "id": "709715db",
   "metadata": {},
   "outputs": [],
   "source": []
  }
 ],
 "metadata": {
  "kernelspec": {
   "display_name": "Python 3 (ipykernel)",
   "language": "python",
   "name": "python3"
  },
  "language_info": {
   "codemirror_mode": {
    "name": "ipython",
    "version": 3
   },
   "file_extension": ".py",
   "mimetype": "text/x-python",
   "name": "python",
   "nbconvert_exporter": "python",
   "pygments_lexer": "ipython3",
   "version": "3.10.4"
  }
 },
 "nbformat": 4,
 "nbformat_minor": 5
}
