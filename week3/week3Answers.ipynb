{
 "cells": [
  {
   "cell_type": "markdown",
   "id": "11c9151c",
   "metadata": {},
   "source": [
    "# Week 3 Answers\n",
    "\n",
    "## Exercise 1\n",
    "\n",
    "Two main methods of doing this:\n",
    "\n",
    "Method 1 (List slicing):"
   ]
  },
  {
   "cell_type": "code",
   "execution_count": 7,
   "id": "13f321cb",
   "metadata": {},
   "outputs": [],
   "source": [
    "import random\n",
    "grades = [random.randint(0, 75) for i in range(280)]\n",
    "#Do not modify the code above\n",
    "\n",
    "def compressGradesList(grades): #retain every 3rd grade from the list\n",
    "    return grades[::3] #Samples every third item from the entire list."
   ]
  },
  {
   "cell_type": "markdown",
   "id": "a2603b12",
   "metadata": {},
   "source": [
    "Method 2 (For loop):"
   ]
  },
  {
   "cell_type": "code",
   "execution_count": 1,
   "id": "7b564d2f",
   "metadata": {},
   "outputs": [],
   "source": [
    "import random\n",
    "grades = [random.randint(0, 75) for i in range(280)]\n",
    "#Do not modify the code above\n",
    "\n",
    "def compressGradesList(grades): #retain every 3rd grade from the list\n",
    "    count = 0\n",
    "    reducedGrades = []\n",
    "    for grade in grades :\n",
    "        if(count % 3 == 0):\n",
    "            reducedGrades.append(grade) #You could also remove items from the original list instead\n",
    "        count += 1\n",
    "    return reducedGrades\n",
    "\n"
   ]
  },
  {
   "cell_type": "markdown",
   "id": "1e7696d0",
   "metadata": {},
   "source": [
    "## Exercise 2\n",
    "\n",
    "Note there are other ways of achieving the same result as below."
   ]
  },
  {
   "cell_type": "code",
   "execution_count": 1,
   "id": "cdf78cd3",
   "metadata": {},
   "outputs": [
    {
     "name": "stdout",
     "output_type": "stream",
     "text": [
      "Piotr achieved a grade of 75%\n",
      "James achieved a grade of 0%\n",
      "Hugh achieved a grade of 60%\n",
      "Oliver achieved a grade of 45%\n"
     ]
    }
   ],
   "source": [
    "gradeDict = {\"Piotr\" : [8,11,9,14,7], \"James\" : [2,1,2,2,1000], \"Hugh\" : [23,25,22,20,22], \"Oliver\" : [21,23,34,40,33]}\n",
    "#Do not modify the code above\n",
    "\n",
    "\n",
    "def determineGrades(gradeDict):\n",
    "    for studentName, runningTimes in gradeDict.items():\n",
    "        sum = 0\n",
    "        grade = 0\n",
    "        for runningTime in runningTimes: #Here you could utilise the sum function instead of manually calculating it\n",
    "            sum += runningTime\n",
    "        average = sum / len(runningTimes) #len returns the length of a list\n",
    "        if(average <= 10):\n",
    "            grade = 75\n",
    "        elif(average <= 20): #Important to use elif instead of if here, otherwise grade may be overwritten\n",
    "            grade = 70\n",
    "        elif(average <= 30):\n",
    "            grade = 60\n",
    "        elif(average <= 40):\n",
    "            grade = 45\n",
    "        print(f\"{studentName} achieved a grade of {grade}%\") #Notice the use of a f-String here to format the output\n",
    "\n",
    "determineGrades(gradeDict)"
   ]
  },
  {
   "cell_type": "markdown",
   "id": "c7f17332",
   "metadata": {},
   "source": [
    "## Exercise 3\n",
    "This can be achieved entirely using casting and some pre-existing list functions however without knowing this you will likely use a nested ``for`` loop in your solution:"
   ]
  },
  {
   "cell_type": "code",
   "execution_count": 2,
   "id": "ad28ba5e",
   "metadata": {},
   "outputs": [
    {
     "name": "stdout",
     "output_type": "stream",
     "text": [
      "[1, 2, 3, 4]\n",
      "[1, 2, 3, 4, 5, 6, 7, 8]\n",
      "[1, 2, 3, 4, 5, 6, 7, 8, 9, 10]\n"
     ]
    }
   ],
   "source": [
    "tupOne = (1,2,3,4)\n",
    "tupTwo = (5,6,7,8)\n",
    "tupThree = (9,10)\n",
    "\n",
    "def tuplesToList(*tups):\n",
    "    resultantList = []\n",
    "    for tup in tups:\n",
    "        for item in tup:\n",
    "            resultantList.append(item)\n",
    "    return resultantList\n",
    "\n",
    "print(tuplesToList(tupOne))\n",
    "print(tuplesToList(tupOne, tupTwo))\n",
    "print(tuplesToList(tupOne, tupTwo, tupThree))"
   ]
  },
  {
   "cell_type": "code",
   "execution_count": null,
   "id": "5368b29b",
   "metadata": {},
   "outputs": [],
   "source": []
  }
 ],
 "metadata": {
  "kernelspec": {
   "display_name": "Python 3 (ipykernel)",
   "language": "python",
   "name": "python3"
  },
  "language_info": {
   "codemirror_mode": {
    "name": "ipython",
    "version": 3
   },
   "file_extension": ".py",
   "mimetype": "text/x-python",
   "name": "python",
   "nbconvert_exporter": "python",
   "pygments_lexer": "ipython3",
   "version": "3.10.4"
  }
 },
 "nbformat": 4,
 "nbformat_minor": 5
}
