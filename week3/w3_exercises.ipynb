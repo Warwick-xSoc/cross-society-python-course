{
 "cells": [
  {
   "cell_type": "markdown",
   "id": "42a6cd31",
   "metadata": {},
   "source": [
    "# Week 3 Exercises\n",
    "\n",
    "## Exercise 1\n",
    "\n",
    "The Department of Computer Science needs to store the results of an exam. Unfortunately, their servers are running out of storage meaning they cannot store every grade. In their infinite wisdom, the department have decided that storing a third of the grades is good enough.\n",
    "\n",
    "Write a function that, given the grades list, returns a new grades list retaining *every third grade* from the original.\n",
    "\n",
    "For example, if the grades list was `[49, 52, 19, 0, 62, 23, 29, 72]` then you should return `[49, 0, 29]`\n",
    "\n",
    "You should make use of **list slicing** to keep your code concise. If you struggle with list slicing, try using a loop instead."
   ]
  },
  {
   "cell_type": "code",
   "execution_count": null,
   "id": "980b2f4c",
   "metadata": {},
   "outputs": [],
   "source": [
    "import random\n",
    "grades = [random.randint(0, 75) for i in range(30)]\n",
    "print(grades)\n",
    "\n",
    "# Do not modify the code above\n",
    "\n",
    "def compress_grades_list(grades) -> list[int]:  \n",
    "    # Your function should retain every 3rd grade from the list\n",
    "    return []\n",
    "\n",
    "print(compress_grades_list(grades))"
   ]
  },
  {
   "cell_type": "markdown",
   "id": "81ca1312",
   "metadata": {},
   "source": [
    "## Exercise 2\n",
    "\n",
    "After successfully ruining the lives of two thirds of the student population, you've now been taked with calculating coursework grades from their submissiion running times, and distributing full, detailed feedback on par with the standards of the department.\n",
    "\n",
    "Given a dictionary containing the names of students as keys, with each value being a list of running times for each test in seconds, calculate the grade the student should recieve. This is based on the average running time across all tests:\n",
    "\n",
    "- **75%** when the average running time is less than 10 seconds\n",
    "- **70%** when the average running time is at least 10 but less than 20 seconds\n",
    "- **60%** when the average running time is at least 20 but less than 30 seconds\n",
    "- **45%** when the average running time is at least 30 but less than 40 seconds \n",
    "- **0%** when the average running time is at least 40 seconds\n",
    "\n",
    "You should print your feedback in the following format: `[student_name] achieved a grade of [grade]%`"
   ]
  },
  {
   "cell_type": "code",
   "execution_count": null,
   "id": "c9f70e32",
   "metadata": {},
   "outputs": [],
   "source": [
    "grade_dict = {\"Piotr\" : [8,11,9,14,7], \"James\" : [2,1,2,2,100], \"Hugh\" : [23,25,22,20,22], \"Oliver\" : [21,23,34,40,33]}\n",
    "print(\"Detailed feedback for each student:\")\n",
    "\n",
    "# Do not modify the code above\n",
    "\n",
    "def determineGrades(grade_dict: dict[str, list[int]]):\n",
    "    print(\"Bob achieved a grade of 0%\")\n",
    "    # Your function should work on a general grade_dict, not just the one above!\n",
    "\n",
    "determineGrades(grade_dict)"
   ]
  },
  {
   "cell_type": "markdown",
   "id": "cad56e4c",
   "metadata": {},
   "source": [
    "## What Now?\n",
    " "
   ]
  },
  {
   "cell_type": "markdown",
   "id": "71e04f18",
   "metadata": {},
   "source": [
    "It's Wahoot time! Make sure you're caught up on the coursework in time for Week 4.\n",
    "\n",
    "\n",
    "- First, complete the **new version** of the Week 2 Wahoot Notebook (called `wahoot_w2.ipynb`, in the Week 2 folder)\n",
    "\n",
    "\n",
    "- Then, try working through the Week 3 Wahoot Notebook (called `wahoot_w3.ipynb`)"
   ]
  }
 ],
 "metadata": {
  "kernelspec": {
   "display_name": "Python 3.10.6 64-bit",
   "language": "python",
   "name": "python3"
  },
  "language_info": {
   "codemirror_mode": {
    "name": "ipython",
    "version": 3
   },
   "file_extension": ".py",
   "mimetype": "text/x-python",
   "name": "python",
   "nbconvert_exporter": "python",
   "pygments_lexer": "ipython3",
   "version": "3.10.6"
  },
  "vscode": {
   "interpreter": {
    "hash": "7c57092efe4ff60dfd9ba12cd3127c3cb8001227526172b4b54478afc6e523e7"
   }
  }
 },
 "nbformat": 4,
 "nbformat_minor": 5
}
