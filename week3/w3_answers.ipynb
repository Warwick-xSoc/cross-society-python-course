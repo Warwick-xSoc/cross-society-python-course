{
 "cells": [
  {
   "cell_type": "markdown",
   "id": "11c9151c",
   "metadata": {},
   "source": [
    "# Week 3 Answers\n",
    "\n",
    "## Exercise 1\n",
    "\n",
    "Two main methods of doing this:\n",
    "\n",
    "Method 1 (List slicing):"
   ]
  },
  {
   "cell_type": "code",
   "execution_count": null,
   "id": "13f321cb",
   "metadata": {},
   "outputs": [],
   "source": [
    "import random\n",
    "grades = [random.randint(0, 75) for i in range(280)]\n",
    "#Do not modify the code above\n",
    "\n",
    "def compress_grades_list(grades): #retain every 3rd grade from the list\n",
    "    return grades[::3] #Samples every third item from the entire list."
   ]
  },
  {
   "cell_type": "markdown",
   "id": "a2603b12",
   "metadata": {},
   "source": [
    "Method 2 (For loop):"
   ]
  },
  {
   "cell_type": "code",
   "execution_count": null,
   "id": "7b564d2f",
   "metadata": {},
   "outputs": [],
   "source": [
    "import random\n",
    "grades = [random.randint(0, 75) for i in range(280)]\n",
    "#Do not modify the code above\n",
    "\n",
    "def compress_grades_list(grades): #retain every 3rd grade from the list\n",
    "    count = 0\n",
    "    reducedGrades = []\n",
    "    for grade in grades :\n",
    "        if(count % 3 == 0):\n",
    "            reducedGrades.append(grade) #You could also remove items from the original list instead\n",
    "        count += 1\n",
    "    return reducedGrades\n",
    "\n"
   ]
  },
  {
   "cell_type": "markdown",
   "id": "1e7696d0",
   "metadata": {},
   "source": [
    "## Exercise 2\n",
    "\n",
    "Note there are other ways of achieving the same result as below."
   ]
  },
  {
   "cell_type": "code",
   "execution_count": null,
   "id": "cdf78cd3",
   "metadata": {},
   "outputs": [],
   "source": [
    "grade_dict = {\"Piotr\" : [8,11,9,14,7], \"James\" : [2,1,2,2,1000], \"Hugh\" : [23,25,22,20,22], \"Oliver\" : [21,23,34,40,33]}\n",
    "#Do not modify the code above\n",
    "\n",
    "\n",
    "def determine_grades(grade_dict):\n",
    "    for student_name, running_times in grade_dict.items():\n",
    "        sum = 0\n",
    "        grade = 0\n",
    "        for running_time in running_times: #Here you could utilise the sum function instead of manually calculating it\n",
    "            sum += running_time\n",
    "        average = sum / len(running_times) #len returns the length of a list\n",
    "        if(average <= 10):\n",
    "            grade = 75\n",
    "        elif(average <= 20): #Important to use elif instead of if here, otherwise grade may be overwritten\n",
    "            grade = 70\n",
    "        elif(average <= 30):\n",
    "            grade = 60\n",
    "        elif(average <= 40):\n",
    "            grade = 45\n",
    "        print(f\"{student_name} achieved a grade of {grade}%\") #Notice the use of a f-String here to format the output\n",
    "\n",
    "determine_grades(grade_dict)"
   ]
  },
  {
   "cell_type": "markdown",
   "id": "c7f17332",
   "metadata": {},
   "source": [
    "## Exercise 3\n",
    "This can be achieved entirely using casting and some pre-existing list functions however without knowing this you will likely use a nested ``for`` loop in your solution:"
   ]
  },
  {
   "cell_type": "code",
   "execution_count": null,
   "id": "ad28ba5e",
   "metadata": {},
   "outputs": [],
   "source": [
    "tup_one = (1,2,3,4)\n",
    "tup_two = (5,6,7,8)\n",
    "tup_three = (9,10)\n",
    "\n",
    "def tuples_to_list(*tups):\n",
    "    resultant_list = []\n",
    "    for tup in tups:\n",
    "        for item in tup:\n",
    "            resultant_list.append(item)\n",
    "    return resultant_list\n",
    "\n",
    "print(tuples_to_list(tup_one))\n",
    "print(tuples_to_list(tup_one, tup_two))\n",
    "print(tuples_to_list(tup_one, tup_two, tup_three))"
   ]
  },
  {
   "cell_type": "code",
   "execution_count": null,
   "id": "5368b29b",
   "metadata": {},
   "outputs": [],
   "source": []
  }
 ],
 "metadata": {
  "kernelspec": {
   "display_name": "Python 3.10.7 64-bit",
   "language": "python",
   "name": "python3"
  },
  "language_info": {
   "codemirror_mode": {
    "name": "ipython",
    "version": 3
   },
   "file_extension": ".py",
   "mimetype": "text/x-python",
   "name": "python",
   "nbconvert_exporter": "python",
   "pygments_lexer": "ipython3",
   "version": "3.10.7"
  },
  "vscode": {
   "interpreter": {
    "hash": "268a003517095b3e00ec49a0832a87899bac50083c754616205934d33472dfcd"
   }
  }
 },
 "nbformat": 4,
 "nbformat_minor": 5
}
