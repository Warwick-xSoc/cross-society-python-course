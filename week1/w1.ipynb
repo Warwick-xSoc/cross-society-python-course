{
 "cells": [
  {
   "cell_type": "markdown",
   "metadata": {},
   "source": [
    "# Cross-Society Python Course - Week 1"
   ]
  },
  {
   "cell_type": "markdown",
   "metadata": {},
   "source": [
    "### Introduction"
   ]
  },
  {
   "cell_type": "markdown",
   "metadata": {},
   "source": [
    "This is a *Jupyter notebook*. It's a special type of file that allows us to easily run and re-run snippets of Python code, carrying information from one snippet to the other.\n",
    "\n",
    "Try hovering over the snippet below, and press the play button to run it."
   ]
  },
  {
   "cell_type": "code",
   "execution_count": 31,
   "metadata": {},
   "outputs": [
    {
     "name": "stdout",
     "output_type": "stream",
     "text": [
      "I love cabbage\n"
     ]
    }
   ],
   "source": [
    "good_food = \"cabbage\"\n",
    "print(\"I love \" + good_food)"
   ]
  },
  {
   "cell_type": "markdown",
   "metadata": {},
   "source": [
    "This snippet is fairly simple, but it's important to understand what's going on behind the scenes. \n",
    "\n",
    "Each line is executed from top to bottom - the first line sets the value of the **variable** `good_food` to the **string** `cabbage`. The second line combines both strings together with the + **operator**, and the print **function** takes this new string as an **argument**, in order to display `I love cabbage`. Don't worry if some of those words are unfamiliar for now, because the goal of today is to help you understand them.\n",
    "\n",
    "> Task 0: Before moving on, try modifying the code snippet above, to display a better food when you run it!"
   ]
  },
  {
   "cell_type": "markdown",
   "metadata": {},
   "source": [
    "---"
   ]
  },
  {
   "cell_type": "markdown",
   "metadata": {},
   "source": [
    "## Variables & Integers"
   ]
  },
  {
   "cell_type": "markdown",
   "metadata": {},
   "source": [
    "You've probably come across variables before, in the context of maths. Something like 'find $x$, where $42 + x = 111$'. In other words, variables consist of two things - a name and a value. It's pretty similar for Python programs. We have to assign a value of a particular **datatype** (more on those later) to the variable name, and can recall it later in the script.\n",
    "\n",
    "The syntax for assigning some datatype value to a variable name is `[variable name] = [expression]`. This assigns the *value* of the right hand side to the *name* on the left hand side. Note that `[variable name]` can't start with a digit, or contain any spaces. Something like `long_variable_name` would be valid.\n",
    "\n",
    "A basic example:"
   ]
  },
  {
   "cell_type": "code",
   "execution_count": 32,
   "metadata": {},
   "outputs": [
    {
     "name": "stdout",
     "output_type": "stream",
     "text": [
      "4\n"
     ]
    }
   ],
   "source": [
    "concerningly_long_name_to_represent_a_single_number = 4\n",
    "print(concerningly_long_name_to_represent_a_single_number)"
   ]
  },
  {
   "cell_type": "markdown",
   "metadata": {},
   "source": [
    "You can also overwrite the value of a variable later on in the script, and this change will be active for all lines below it."
   ]
  },
  {
   "cell_type": "code",
   "execution_count": 33,
   "metadata": {},
   "outputs": [
    {
     "name": "stdout",
     "output_type": "stream",
     "text": [
      "-16\n",
      "1024\n"
     ]
    }
   ],
   "source": [
    "cool_new_number = 8\n",
    "cool_new_number = -16\n",
    "print(cool_new_number)\n",
    "cool_new_number = -512\n",
    "cool_new_number = 1024\n",
    "print(cool_new_number)"
   ]
  },
  {
   "cell_type": "markdown",
   "metadata": {},
   "source": [
    "### Operations"
   ]
  },
  {
   "cell_type": "markdown",
   "metadata": {},
   "source": [
    "Let's also introduce some basic infix operations we can use on integers.\n",
    "\n",
    "| Operation | Description | Operation | Description |\n",
    "|:-:|-|:-:|-|\n",
    "| `+` | Adds two numbers | `/` | Divides two numbers, always returns a float |\n",
    "| `-` | Subtracts two numbers | `//` | Divides two numbers, returning the integer part |\n",
    "| `*` | Multiplies two numbers | `%` | Divides two numbers, returning the remainder |\n",
    "\n",
    "Most of them should be fairly recognisable, but it's worth noting the difference between `/` and `//`. Using the first one reveals another datatype: floating point numbers, or floats! Because not all numbers are created whole."
   ]
  },
  {
   "cell_type": "code",
   "execution_count": 34,
   "metadata": {},
   "outputs": [
    {
     "name": "stdout",
     "output_type": "stream",
     "text": [
      "2.3333333333333335\n",
      "1.0\n",
      "2\n",
      "1\n"
     ]
    }
   ],
   "source": [
    "# Float (normal) division\n",
    "print(7 / 3)\n",
    "print(4 / 4)\n",
    "# Integer (quotient) division\n",
    "print(7 // 3)\n",
    "print(4 // 4)"
   ]
  },
  {
   "cell_type": "markdown",
   "metadata": {},
   "source": [
    "As you might expect, you can use either variables or direct values in these expressions."
   ]
  },
  {
   "cell_type": "code",
   "execution_count": 35,
   "metadata": {},
   "outputs": [
    {
     "name": "stdout",
     "output_type": "stream",
     "text": [
      "7\n"
     ]
    }
   ],
   "source": [
    "foo = 5\n",
    "bar = 2\n",
    "baz = foo + 3 * bar\n",
    "print(baz - 4)"
   ]
  },
  {
   "cell_type": "markdown",
   "metadata": {},
   "source": [
    "> Task 1: Here's a slightly longer example below. See if you can predict the future - that is, work out the five numbers this script will display before you run it!"
   ]
  },
  {
   "cell_type": "code",
   "execution_count": 36,
   "metadata": {},
   "outputs": [
    {
     "name": "stdout",
     "output_type": "stream",
     "text": [
      "7\n",
      "5\n",
      "7\n",
      "-3\n",
      "-22\n"
     ]
    }
   ],
   "source": [
    "best = 5\n",
    "worst = 2\n",
    "ok = best + worst\n",
    "print(ok)\n",
    "worst = worst - best\n",
    "print(best)\n",
    "print(ok)\n",
    "ok = best * worst - ok\n",
    "print(worst)\n",
    "print(ok)"
   ]
  },
  {
   "cell_type": "markdown",
   "metadata": {},
   "source": [
    "> Task 2: What does this script do to the values of the variables `goose` and `duck`? Would this work for every possible value of `goose` and `duck`?"
   ]
  },
  {
   "cell_type": "code",
   "execution_count": 37,
   "metadata": {},
   "outputs": [
    {
     "name": "stdout",
     "output_type": "stream",
     "text": [
      "3\n",
      "7\n"
     ]
    }
   ],
   "source": [
    "goose = 7\n",
    "duck = 3\n",
    "\n",
    "goose = goose + duck\n",
    "duck = goose - duck\n",
    "goose = goose - duck\n",
    "\n",
    "print(goose)\n",
    "print(duck)"
   ]
  },
  {
   "cell_type": "markdown",
   "metadata": {},
   "source": [
    "> Task 3: It's time to start modifying some code. [rest of task]"
   ]
  },
  {
   "cell_type": "code",
   "execution_count": 38,
   "metadata": {},
   "outputs": [],
   "source": [
    "# Code here"
   ]
  },
  {
   "cell_type": "markdown",
   "metadata": {},
   "source": [
    "### Exceptions"
   ]
  },
  {
   "cell_type": "markdown",
   "metadata": {},
   "source": [
    "This is probably also a good time to introduce something you'll be seeing a lot - Exceptions. These will pop up whenever something goes wrong with your program, and stop the rest of it from executing. It's normal to run into these. Everyone makes mistakes when programming, even professionals!\n",
    "\n",
    "There are generally 3 'forms' of problems that can arise in your code:\n",
    "- Syntax - Your script doesn't follow the structural rules of the language.\n",
    "- Semantic - The structure is fine, but your script attempts to do something prohibited by the language.\n",
    "- Specification - The script runs fine, but it doesn't do what you want it to.\n",
    "\n",
    "Obviously, Python exceptions are only going to catch the first two. Make sure to pay attention to the extra information exceptions give you, they usually give a pretty good indicator of the problem. If in doubt, you can always look up the error you're getting.\n",
    "\n",
    "> Task 4: The three cells below are each going to cause an exception. See if you can figure out why before running each!"
   ]
  },
  {
   "cell_type": "code",
   "execution_count": null,
   "metadata": {},
   "outputs": [],
   "source": [
    "12 = dozen\n",
    "13 = bakers_dozen\n",
    "print(bakers_dozen-dozen)"
   ]
  },
  {
   "cell_type": "code",
   "execution_count": null,
   "metadata": {},
   "outputs": [],
   "source": [
    "variablename == 2\n",
    "print(variablename)"
   ]
  },
  {
   "cell_type": "code",
   "execution_count": null,
   "metadata": {},
   "outputs": [],
   "source": [
    "normal_number =6\n",
    "uh_oh = normal_number / 0\n",
    "print(uh_oh)"
   ]
  },
  {
   "cell_type": "markdown",
   "metadata": {},
   "source": [
    "> Task 5: Modify only the first line of this script, to cause an exception on line 4."
   ]
  },
  {
   "cell_type": "code",
   "execution_count": null,
   "metadata": {},
   "outputs": [],
   "source": [
    "a = 5\n",
    "b = 6 * 5\n",
    "a = a - b\n",
    "print(100 // a)"
   ]
  },
  {
   "cell_type": "markdown",
   "metadata": {},
   "source": [
    "## Strings & Things"
   ]
  },
  {
   "cell_type": "markdown",
   "metadata": {},
   "source": [
    "Python represents text using something called a string - basically a collection of letters strung (get it?) together in some order. We'll revisit them in more detail when we discuss arrays, but for now just think of them as a big chunk of text.\n",
    "\n",
    "When specifying a string, you have to denote the start and end of it with either the `\"` or `'` character. Why? Well, Python normally doesn't care too much about spaces in your code, so each of the three lines here are all equivalent, even if a few of them look cursed..."
   ]
  },
  {
   "cell_type": "code",
   "execution_count": null,
   "metadata": {},
   "outputs": [],
   "source": [
    "print(    (5+8)//4   )\n",
    "print((5 + 8) // 4)\n",
    "print(          (     5      +   8  )      //    4     )"
   ]
  },
  {
   "cell_type": "markdown",
   "metadata": {},
   "source": [
    "Spaces within string quotes are counted as actual spaces, so they'll be copied back out when using the `print` function."
   ]
  },
  {
   "cell_type": "code",
   "execution_count": null,
   "metadata": {},
   "outputs": [],
   "source": [
    "truth = 'Computers do not like me'\n",
    "print(\"I like computers\")\n",
    "print(truth)"
   ]
  },
  {
   "cell_type": "markdown",
   "metadata": {},
   "source": [
    "Some operations (but not all) that work on integers also work on strings. But I'll leave that for you to figure out below :)\n",
    "\n",
    "> Task 6: Let's try a little experiment. What happens when we:\n",
    "> - Try to add two strings together?\n",
    "> - Try to multiply two strings together?\n",
    "> - Try to add a string and an integer??\n",
    "> - Try to multiply a string and an integer together???\n",
    ">\n",
    "> Use the cell below to try it out."
   ]
  },
  {
   "cell_type": "code",
   "execution_count": null,
   "metadata": {},
   "outputs": [],
   "source": [
    "# Notebooks actually display whatever's calculated on the last line of a cell, so we don't need a print here\n",
    "\"This is our first string\" + \"This is our second string\""
   ]
  },
  {
   "cell_type": "markdown",
   "metadata": {},
   "source": [
    "(unfinished)"
   ]
  },
  {
   "cell_type": "markdown",
   "metadata": {},
   "source": [
    "> Task 7: You're an overworked teacher who's technically responsible for writing the digital report cards of 200 students across the school. After writing up the report card for Adam, the first student on the list, you realise you don't really care enough to write a unique response for each student.\n",
    "> \n",
    "> Modify the cell below to make it 'significantly easier' to fill out all 200 report cards. Make sure your formatting is correct."
   ]
  },
  {
   "cell_type": "code",
   "execution_count": null,
   "metadata": {},
   "outputs": [],
   "source": [
    "report_comment = \"Adam is a good student who works very hard most of the time.\\nWhile Adam is not perfect, Adam sometimes contributes in class, like the time Adam answered a fairly difficult question about geometry.\\nI'm truly proud of Adam, and as parents of a child like Adam, I'm sure you would be proud too.\"\n",
    "print(report_comment)"
   ]
  },
  {
   "cell_type": "markdown",
   "metadata": {},
   "source": [
    "## Input & Type Conversions"
   ]
  },
  {
   "cell_type": "markdown",
   "metadata": {},
   "source": [
    "[Needs content]"
   ]
  },
  {
   "cell_type": "markdown",
   "metadata": {},
   "source": [
    "### Exercise X.X"
   ]
  },
  {
   "cell_type": "markdown",
   "metadata": {},
   "source": [
    "This script calculates the area and perimeter of a square, given its side length as input."
   ]
  },
  {
   "cell_type": "code",
   "execution_count": null,
   "metadata": {},
   "outputs": [],
   "source": [
    "# Get the length as input\n",
    "text = input(\"Enter the side length of the square: \")\n",
    "length = int(text)\n",
    "\n",
    "# Calculate area and perimeter\n",
    "perimeter = 4 * length\n",
    "area = length * length\n",
    "\n",
    "# Output answer\n",
    "print(\"Area of the square is \" + str(area) + \", and the Perimeter is \" + str(perimeter))"
   ]
  },
  {
   "cell_type": "markdown",
   "metadata": {},
   "source": [
    "Now it's your turn. Given the base and height of a right-angled triangle, create a script to calculate the area and perimeter of it.\n",
    "\n",
    "*(Hint: the idea is similar to the script above, but you'll need to ask for two inputs. Don't be afraid to look things up!)*"
   ]
  },
  {
   "cell_type": "code",
   "execution_count": null,
   "metadata": {},
   "outputs": [],
   "source": [
    "# Get the base and height as input\n",
    "\n",
    "\n",
    "# Calculate area and perimeter\n",
    "\n",
    "\n",
    "# Output answer\n"
   ]
  }
 ],
 "metadata": {
  "kernelspec": {
   "display_name": "Python 3.10.6 64-bit",
   "language": "python",
   "name": "python3"
  },
  "language_info": {
   "codemirror_mode": {
    "name": "ipython",
    "version": 3
   },
   "file_extension": ".py",
   "mimetype": "text/x-python",
   "name": "python",
   "nbconvert_exporter": "python",
   "pygments_lexer": "ipython3",
   "version": "3.10.6"
  },
  "orig_nbformat": 4,
  "vscode": {
   "interpreter": {
    "hash": "7c57092efe4ff60dfd9ba12cd3127c3cb8001227526172b4b54478afc6e523e7"
   }
  }
 },
 "nbformat": 4,
 "nbformat_minor": 2
}
