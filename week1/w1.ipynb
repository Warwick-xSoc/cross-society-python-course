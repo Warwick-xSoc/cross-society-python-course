{
 "cells": [
  {
   "cell_type": "markdown",
   "metadata": {},
   "source": [
    "## Introduction"
   ]
  },
  {
   "cell_type": "markdown",
   "metadata": {},
   "source": [
    "This is a *Jupyter notebook*. It's a special type of file that allows us to easily run and re-run snippets of Python code, carrying information from one snippet to the other.\n",
    "\n",
    "Try hovering over the snippet below, and press the play button to run it."
   ]
  },
  {
   "cell_type": "code",
   "execution_count": 4,
   "metadata": {},
   "outputs": [
    {
     "name": "stdout",
     "output_type": "stream",
     "text": [
      "I love cabbage\n"
     ]
    }
   ],
   "source": [
    "good_food = \"cabbage\"\n",
    "print(\"I love \" + good_food)"
   ]
  },
  {
   "cell_type": "markdown",
   "metadata": {},
   "source": [
    "This snippet is fairly simple, but it's important to understand what's going on behind the scenes. \n",
    "\n",
    "Each line is executed from top to bottom - the first line sets the value of the **variable** `good_food` to the **string** `cabbage`. The second line combines both strings together with the + **operator**, and the print **function** takes this new string as an **argument**, in order to display `I love cabbage`. Don't worry if some of those words are unfamiliar for now, because the goal of today is to help you understand them.\n",
    "\n",
    "Before moving on, try modifying the code snippet above, to display a better food when it runs!"
   ]
  },
  {
   "cell_type": "markdown",
   "metadata": {},
   "source": [
    "---"
   ]
  },
  {
   "cell_type": "markdown",
   "metadata": {},
   "source": [
    "### Exercise X.X"
   ]
  },
  {
   "cell_type": "markdown",
   "metadata": {},
   "source": [
    "This script calculates the area and perimeter of a square, given its side length as input."
   ]
  },
  {
   "cell_type": "code",
   "execution_count": 8,
   "metadata": {},
   "outputs": [
    {
     "name": "stdout",
     "output_type": "stream",
     "text": [
      "Area of the square is 100, and the Perimeter is 40\n"
     ]
    }
   ],
   "source": [
    "# Get the length as input\n",
    "text = input(\"Enter the side length of the square: \")\n",
    "length = int(text)\n",
    "\n",
    "# Calculate area and perimeter\n",
    "perimeter = 4 * length\n",
    "area = length * length\n",
    "\n",
    "# Output answer\n",
    "print(\"Area of the square is \" + str(area) + \", and the Perimeter is \" + str(perimeter))"
   ]
  },
  {
   "cell_type": "markdown",
   "metadata": {},
   "source": [
    "Given the base and height of a right-angled triangle, create a script to calculate the area and perimeter of it.\n",
    "\n",
    "*(Hint: the idea is similar to the script above, but you'll need to ask for two inputs. Don't be afraid to look things up!)*"
   ]
  },
  {
   "cell_type": "code",
   "execution_count": null,
   "metadata": {},
   "outputs": [],
   "source": [
    "# Get the base and height as input\n",
    "\n",
    "\n",
    "# Calculate area and perimeter\n",
    "\n",
    "\n",
    "# Output answer\n"
   ]
  }
 ],
 "metadata": {
  "kernelspec": {
   "display_name": "Python 3.10.6 64-bit",
   "language": "python",
   "name": "python3"
  },
  "language_info": {
   "codemirror_mode": {
    "name": "ipython",
    "version": 3
   },
   "file_extension": ".py",
   "mimetype": "text/x-python",
   "name": "python",
   "nbconvert_exporter": "python",
   "pygments_lexer": "ipython3",
   "version": "3.10.6"
  },
  "orig_nbformat": 4,
  "vscode": {
   "interpreter": {
    "hash": "7c57092efe4ff60dfd9ba12cd3127c3cb8001227526172b4b54478afc6e523e7"
   }
  }
 },
 "nbformat": 4,
 "nbformat_minor": 2
}
