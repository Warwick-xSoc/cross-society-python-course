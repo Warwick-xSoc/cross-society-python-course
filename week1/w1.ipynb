{
 "cells": [
  {
   "cell_type": "markdown",
   "metadata": {},
   "source": [
    "# xSoc Python Course - Week 1"
   ]
  },
  {
   "cell_type": "markdown",
   "metadata": {},
   "source": [
    "### Introduction"
   ]
  },
  {
   "cell_type": "markdown",
   "metadata": {},
   "source": [
    "This is a *Jupyter notebook*. It's a special type of file that allows us to easily run and re-run snippets of Python code, carrying information from one snippet to the other. These snippets are usually called **cells**.\n",
    "\n",
    "Try hovering over the cell below, and press the play button to run it."
   ]
  },
  {
   "cell_type": "code",
   "execution_count": null,
   "metadata": {},
   "outputs": [],
   "source": [
    "good_food = \"cabbage\"\n",
    "print(\"I love \" + good_food)"
   ]
  },
  {
   "cell_type": "markdown",
   "metadata": {},
   "source": [
    "This cell is fairly compact, but it's important to understand what's going on behind the scenes. \n",
    "\n",
    "In almost all sensible programming languages, the lines are **individually executed, from top to bottom**:\n",
    "- Line 1 sets the value of the **variable** name `good_food` to the **string** `cabbage`\n",
    "- Line 2 combines both strings using the + **operator**, and the print **function** takes this new string as an **argument** in order to display the output `I love cabbage`. \n",
    "\n",
    "Don't worry if some of those words are unfamiliar for now, because the goal of today is to help you understand them.\n",
    "\n",
    "> Task 0: Before moving on, see if you can figure out how to get the cell to display a better food when you run it!"
   ]
  },
  {
   "cell_type": "markdown",
   "metadata": {},
   "source": [
    "---"
   ]
  },
  {
   "cell_type": "markdown",
   "metadata": {},
   "source": [
    "## Variables, Integers and a Function"
   ]
  },
  {
   "cell_type": "markdown",
   "metadata": {},
   "source": [
    "You've probably come across variables before, in the context of maths. Something like 'find $x$, where $42 + x = 111$'. In other words, variables consist of two things - a name and a value. It's pretty similar for Python programs. We have to assign a value of a particular **datatype** (more on those later) to the variable name, and can recall it later in the script.\n",
    "\n",
    "The syntax rules for assigning some datatype value to a variable name is `[variable name] = [expression]`. This assigns the *value* of the right hand side to the *name* on the left hand side. Note that `[variable name]` can't start with a digit, or contain any spaces.\n",
    "\n",
    "Here are some basic examples of assignments, using the integer (whole number) datatype:"
   ]
  },
  {
   "cell_type": "code",
   "execution_count": null,
   "metadata": {},
   "outputs": [],
   "source": [
    "seven = 6\n",
    "favouriteNumber = -74\n",
    "concerningly_long_name_to_represent_a_single_integer = 4321"
   ]
  },
  {
   "cell_type": "markdown",
   "metadata": {},
   "source": [
    "The general convention in Python is to write variable names in snake case, putting underscores to represent gaps between words `like_this` or `this` but `notLikeThis`. So, the first and third examples would follow these conventions, if you care about that sort of thing. We'll try to stick to that in our examples."
   ]
  },
  {
   "cell_type": "markdown",
   "metadata": {},
   "source": [
    "If you ran the cell above, you might have noticed the lack of any output. This is because we haven't told Python to output anything! To fix this, let's introduce the `print()` function. It's pretty simple - you put some data between the brackets, and it's going to be displayed."
   ]
  },
  {
   "cell_type": "code",
   "execution_count": null,
   "metadata": {},
   "outputs": [],
   "source": [
    "x = 4\n",
    "print(7)\n",
    "print(x)"
   ]
  },
  {
   "cell_type": "markdown",
   "metadata": {},
   "source": [
    "The cell executes line-by-line, top to bottom:\n",
    "- Line 1 assigns the integer value 4 to the variable name `x`.\n",
    "- Line 2 calls the print function with the integer value 7, so we display 7 on the first output line\n",
    "- Line 3 calls the print function with the variable name `x` - this has the integer value 4, so we also display 4 on the next output line.\n",
    "\n",
    "Every function has to be referred to by a name, in this case 'print', and we call the value between the brackets an **argument** - the data the function uses. For now, think of functions as magical black boxes that either do something, or evaluate to something.\n",
    "\n",
    "Some functions can accept multiple arguments, separated by commas. For example, `print()` has a 2-argument version:"
   ]
  },
  {
   "cell_type": "code",
   "execution_count": null,
   "metadata": {},
   "outputs": [],
   "source": [
    "x = -9\n",
    "y = 13\n",
    "print(y, x)"
   ]
  },
  {
   "cell_type": "markdown",
   "metadata": {},
   "source": [
    "Before we move on, one more thing about variables. You can overwrite them! Since we execute each line from top to bottom, this will obviously only affect the value for anything below the re-assignment."
   ]
  },
  {
   "cell_type": "code",
   "execution_count": null,
   "metadata": {},
   "outputs": [],
   "source": [
    "cool_number = 8\n",
    "epic_number = -16\n",
    "print(cool_number, epic_number)\n",
    "epic_number = -512\n",
    "cool_number = 1024\n",
    "print(epic_number, cool_number)"
   ]
  },
  {
   "cell_type": "markdown",
   "metadata": {},
   "source": [
    "### Operations"
   ]
  },
  {
   "cell_type": "markdown",
   "metadata": {},
   "source": [
    "Let's also introduce some basic infix operations we can use on integers.\n",
    "\n",
    "| Operation | Description | Operation | Description |\n",
    "|:-:|-|:-:|-|\n",
    "| `+` | Adds two numbers | `/` | Divides two numbers, always returns a float |\n",
    "| `-` | Subtracts two numbers | `//` | Divides two numbers, returning the integer part |\n",
    "| `*` | Multiplies two numbers | `%` | Divides two numbers, returning the remainder |\n",
    "\n",
    "Most of them should be fairly recognisable, but it's worth noting the difference between `/` and `//`. Using the first one reveals another datatype: floating point numbers, or floats! Because not all numbers are created whole. Here's the difference:"
   ]
  },
  {
   "cell_type": "code",
   "execution_count": null,
   "metadata": {},
   "outputs": [],
   "source": [
    "# Float (normal) division\n",
    "print(7 / 3)\n",
    "print(4 / 4)\n",
    "# Integer (quotient) division\n",
    "print(7 // 3)\n",
    "print(4 // 4)"
   ]
  },
  {
   "cell_type": "markdown",
   "metadata": {},
   "source": [
    "You can also just write something as a float to begin with, like so:"
   ]
  },
  {
   "cell_type": "code",
   "execution_count": null,
   "metadata": {},
   "outputs": [],
   "source": [
    "x = 2.6\n",
    "print(5.4 + x)  # Outputs 8.0 (float), not 8 (integer)!"
   ]
  },
  {
   "cell_type": "markdown",
   "metadata": {},
   "source": [
    "As you might expect, you're free to switch between variables or direct values when using operations; just remember to put these expressions on the right hand side of an assignment statement."
   ]
  },
  {
   "cell_type": "code",
   "execution_count": null,
   "metadata": {},
   "outputs": [],
   "source": [
    "foo = 5\n",
    "bar = 2\n",
    "baz = foo + 3 * bar\n",
    "biz = 50 // (4 + baz)  # Without brackets, division happens first\n",
    "print(biz - 1)"
   ]
  },
  {
   "cell_type": "markdown",
   "metadata": {},
   "source": [
    "> Task 1: Here's a larger example below. See if you can predict the future - that is, work out the five numbers this script will display before you run it!"
   ]
  },
  {
   "cell_type": "code",
   "execution_count": null,
   "metadata": {},
   "outputs": [],
   "source": [
    "best = 5\n",
    "worst = 2\n",
    "ok = best + worst\n",
    "print(ok)\n",
    "worst = worst - best\n",
    "print(best, ok)\n",
    "ok = best * worst - ok\n",
    "print(worst, ok)"
   ]
  },
  {
   "cell_type": "markdown",
   "metadata": {},
   "source": [
    "> Task 2: What does this script do to the values of the variables `goose` and `duck`? Would this work for every possible value of `goose` and `duck`?"
   ]
  },
  {
   "cell_type": "code",
   "execution_count": null,
   "metadata": {},
   "outputs": [],
   "source": [
    "goose = 7\n",
    "duck = 3\n",
    "\n",
    "print(goose, duck)  # Before\n",
    "\n",
    "goose = goose + duck\n",
    "duck = goose - duck\n",
    "goose = goose - duck\n",
    "\n",
    "print(goose, duck)  # After"
   ]
  },
  {
   "cell_type": "markdown",
   "metadata": {},
   "source": [
    "For statements like `a = a + b`, Python has a shorthand notation! The `+=` operator allows us to write `a += b`, which just takes the existing value of `a`, adds `b`, and then reassigns it to `a`. This also works for the other operations: subtraction (`-=`), multiplication (`*=`), division (`/=` or `//=`), and modulo (`%=`). \n",
    "\n",
    "Let's rewrite the previous code block using these symbols. If we run it, the result is exactly the same:"
   ]
  },
  {
   "cell_type": "code",
   "execution_count": null,
   "metadata": {},
   "outputs": [],
   "source": [
    "goose = 7\n",
    "duck = 3\n",
    "\n",
    "print(goose, duck)  # Before\n",
    "\n",
    "goose += duck\n",
    "duck = goose - duck\n",
    "goose -= duck\n",
    "\n",
    "print(goose, duck)  # After"
   ]
  },
  {
   "cell_type": "markdown",
   "metadata": {},
   "source": [
    "> Task 3: This code is supposed to convert kilometres into miles, but if you run it... something's not quite right. Can you fix the problem?"
   ]
  },
  {
   "cell_type": "code",
   "execution_count": null,
   "metadata": {},
   "outputs": [],
   "source": [
    "km = 29\n",
    "print(km)\n",
    "\n",
    "miles_per_km = 5 // 8\n",
    "miles = km * miles_per_km\n",
    "\n",
    "print(miles)"
   ]
  },
  {
   "cell_type": "markdown",
   "metadata": {},
   "source": [
    "> Task 4: Write a short program that roughly calculates the area of a circle from its radius. In other words:\n",
    "> - Declare two variables, `radius` and `pi`. Give them appropriate values.\n",
    "> - Calculate the area (the formula is an internet search away)\n",
    "> - Display the result!\n"
   ]
  },
  {
   "cell_type": "code",
   "execution_count": null,
   "metadata": {},
   "outputs": [],
   "source": [
    "# Declare variables\n",
    "\n",
    "# Calculate\n",
    "\n",
    "# Output\n"
   ]
  },
  {
   "cell_type": "markdown",
   "metadata": {},
   "source": [
    "### Exceptions"
   ]
  },
  {
   "cell_type": "markdown",
   "metadata": {},
   "source": [
    "This is probably a good time to introduce something you'll be seeing a lot - Exceptions. These will pop up whenever something goes wrong with your program, and stop the rest of it from executing. It's normal to run into these. Everyone makes mistakes when programming, even professionals!\n",
    "\n",
    "There are generally 3 'forms' of problems that can arise in your code:\n",
    "- Syntax - Your script doesn't follow the structural rules of the language.\n",
    "- Semantic - The structure is fine, but your script attempts to do something prohibited by the language.\n",
    "- Specification - The script runs fine, but it doesn't do what you want it to.\n",
    "\n",
    "Obviously, Python exceptions are only going to catch the first two. Make sure to pay attention to the extra information exceptions give you, they usually give a pretty good indicator of the problem. If in doubt, you can always look up the error you're getting.\n",
    "\n",
    "> Task 5: The three cells below are each going to cause an exception. See if you can figure out why before running each!"
   ]
  },
  {
   "cell_type": "code",
   "execution_count": null,
   "metadata": {},
   "outputs": [],
   "source": [
    "12 = dozen\n",
    "13 = bakers_dozen\n",
    "print(bakers_dozen-dozen)"
   ]
  },
  {
   "cell_type": "code",
   "execution_count": null,
   "metadata": {},
   "outputs": [],
   "source": [
    "x =        4\n",
    "y += 2\n",
    "print(x + y)"
   ]
  },
  {
   "cell_type": "code",
   "execution_count": null,
   "metadata": {},
   "outputs": [],
   "source": [
    "normal_number =6\n",
    "uh_oh = normal_number / 0\n",
    "print(uh_oh)"
   ]
  },
  {
   "cell_type": "markdown",
   "metadata": {},
   "source": [
    "> Task 6: Modify only Line 1 of this script, to cause an exception on Line 4."
   ]
  },
  {
   "cell_type": "code",
   "execution_count": null,
   "metadata": {},
   "outputs": [],
   "source": [
    "a = 5\n",
    "b = 6 * 5\n",
    "a -= b\n",
    "print(100 // a)"
   ]
  },
  {
   "cell_type": "markdown",
   "metadata": {},
   "source": [
    "---"
   ]
  },
  {
   "cell_type": "markdown",
   "metadata": {},
   "source": [
    "## Strings, Casting, and another Function"
   ]
  },
  {
   "cell_type": "markdown",
   "metadata": {},
   "source": [
    "Python represents text using something called a string - basically a collection of letters strung (get it?) together in some order. We'll revisit them in more detail when we discuss arrays, but for now just think of them as a big chunk of text.\n",
    "\n",
    "When specifying a string, you have to denote where it starts and ends, by surrounding it in either the `\"` character or `'` character. Why? Well, Python normally doesn't care too much about spaces in your code, so each of the three lines here are all equivalent, even if a few of them look cursed..."
   ]
  },
  {
   "cell_type": "code",
   "execution_count": null,
   "metadata": {},
   "outputs": [],
   "source": [
    "print(    (5+8)//4   )\n",
    "print((5 + 8) // 4)\n",
    "print(          (     5      +   8  )      //    4     )"
   ]
  },
  {
   "cell_type": "markdown",
   "metadata": {},
   "source": [
    "However, spaces within string quotes are counted as the literal 'space character', so will be displayed with the `print` function."
   ]
  },
  {
   "cell_type": "code",
   "execution_count": null,
   "metadata": {},
   "outputs": [],
   "source": [
    "truth = 'Computers do not like me'\n",
    "print(\"I like computers\")\n",
    "print(truth)"
   ]
  },
  {
   "cell_type": "markdown",
   "metadata": {},
   "source": [
    "Some operations (but not all) that work on integers also work on strings. Strings can also contain special characters, which serve different purposes. The next few exercises will guide you through these concepts.\n",
    "\n",
    "> Task 7: Let's try a little experiment. What happens when we:\n",
    "> - Try to add two strings together?\n",
    "> - Try to multiply two strings together?\n",
    "> - Try to add a string and an integer??\n",
    "> - Try to multiply a string and an integer together???"
   ]
  },
  {
   "cell_type": "code",
   "execution_count": null,
   "metadata": {},
   "outputs": [],
   "source": [
    "print(\"This is our first string\" + \"This is our second string\")"
   ]
  },
  {
   "cell_type": "markdown",
   "metadata": {},
   "source": [
    "> Task 8: This task is pretty straightforward. Display the following text, all on the same line:\n",
    "> \n",
    "> `We're \"Warwick Paid-in-Exposure Society\", and you're going to love volunteering for our partner's business!`"
   ]
  },
  {
   "cell_type": "code",
   "execution_count": null,
   "metadata": {},
   "outputs": [],
   "source": [
    "# Hint: You can surround a string in either \"\" or ''.\n"
   ]
  },
  {
   "cell_type": "markdown",
   "metadata": {},
   "source": [
    "> Task 9: Try inserting `\\n` somewhere in the middle of this string. What do you think `\\n` does?"
   ]
  },
  {
   "cell_type": "code",
   "execution_count": null,
   "metadata": {},
   "outputs": [],
   "source": [
    "print(\"This is an super extremely very long line of ultimate mega longness\")"
   ]
  },
  {
   "cell_type": "markdown",
   "metadata": {},
   "source": [
    "> Task 10: You're an overworked and underpaid teacher who's responsible for writing the digital report cards of 200 students across the school. After writing up the report card for Adam, the first student on the list, you realise you don't really care enough to write a unique response for each student.\n",
    "> \n",
    "> Modify the cell below to make it 'significantly easier' to fill out all 200 report cards. Make sure you format the text correctly."
   ]
  },
  {
   "cell_type": "code",
   "execution_count": null,
   "metadata": {},
   "outputs": [],
   "source": [
    "# student_name = ...\n",
    "\n",
    "report_comment = \"Adam is a good student who works very hard most of the time.\\nWhile Adam is not perfect, Adam sometimes contributes in class, like the time Adam answered a fairly difficult question about geometry.\\nI'm truly proud of Adam, and as parents of a child like Adam, I'm sure you would be proud too.\"\n",
    "print(report_comment)"
   ]
  },
  {
   "cell_type": "markdown",
   "metadata": {},
   "source": [
    "### Type Casting"
   ]
  },
  {
   "cell_type": "markdown",
   "metadata": {},
   "source": [
    "As you might have noticed when doing Task 7, strings and integers don't really mix. Thankfully, it's possible to turn integers into strings, and (some) strings into integers - this is called type casting. We'll do this using the `str()`, `int()` and `float()` casts. The standard versions accept a single argument, and that's the datatype you're trying to change. No prizes for guessing which cast is which."
   ]
  },
  {
   "cell_type": "code",
   "execution_count": null,
   "metadata": {},
   "outputs": [],
   "source": [
    "var = \"-3\"\n",
    "print(var)\n",
    "\n",
    "# From a string to an integer...\n",
    "var = int(var) + 4\n",
    "print(var)\n",
    "\n",
    "# ...from an integer to a float...\n",
    "var = float(var) - 0.5\n",
    "print(var)\n",
    "\n",
    "# ...and back to a string.\n",
    "var = \"£\" + str(var) + \"0 in my bank account\"\n",
    "print(var)"
   ]
  },
  {
   "cell_type": "markdown",
   "metadata": {},
   "source": [
    "There are some subtlties when converting between integers and floats. For example:"
   ]
  },
  {
   "cell_type": "markdown",
   "metadata": {},
   "source": [
    "- What happens when we try to add an integer and a float without converting anything?"
   ]
  },
  {
   "cell_type": "code",
   "execution_count": null,
   "metadata": {},
   "outputs": [],
   "source": [
    "whole = 7\n",
    "floaty = 4.2\n",
    "print(whole + floaty)  # didn't break!\n",
    "print(whole)  # still an integer"
   ]
  },
  {
   "cell_type": "markdown",
   "metadata": {},
   "source": [
    "As floats are a type of number with more information than an integer - the cast happens automatically. We call this an **implicit cast**, because Python sees that the integer `whole` can have its type *widened* for that calculation. Neat!"
   ]
  },
  {
   "cell_type": "markdown",
   "metadata": {},
   "source": [
    "- What happens when we convert a float to an integer?"
   ]
  },
  {
   "cell_type": "code",
   "execution_count": null,
   "metadata": {},
   "outputs": [],
   "source": [
    "e = 2.7182818\n",
    "print(int(e))  # The engineer's preferred version of e"
   ]
  },
  {
   "cell_type": "markdown",
   "metadata": {},
   "source": [
    "As floats store more information than an integer does, Python converts it by chopping off everything after the decimal point. This is called **type narrowing**, because we're losing information from the cast. Sorry, `e`!"
   ]
  },
  {
   "cell_type": "markdown",
   "metadata": {},
   "source": [
    "In Python, you can assign values of a different datatype to the same variable name. Depending on who you ask this was either a wonderfully brilliant or absolutely terrible decision. Other programming languages may not let you do this."
   ]
  },
  {
   "cell_type": "markdown",
   "metadata": {},
   "source": [
    "> Task 11: Use casts on the given variables to correctly complete the displayed sentence! Try to avoid any unnecessary casting."
   ]
  },
  {
   "cell_type": "code",
   "execution_count": null,
   "metadata": {},
   "outputs": [],
   "source": [
    "pens = 8\n",
    "pineapples = \"15\"\n",
    "apples = 9.5  # I ate half of one already, sorry\n",
    "\n",
    "print(\"I have ??? pens, ??? pineapples, and ??? apples, for a total stock of ??? sellable products.\")"
   ]
  },
  {
   "cell_type": "markdown",
   "metadata": {},
   "source": [
    "> Task 12: If `x` and `y` are integers, is `int(x / y)` always equivalent to `x // y`?"
   ]
  },
  {
   "cell_type": "code",
   "execution_count": null,
   "metadata": {},
   "outputs": [],
   "source": [
    "x = 10\n",
    "y = 4\n",
    "\n",
    "print(int(x / y))\n",
    "print(x // y)"
   ]
  },
  {
   "cell_type": "markdown",
   "metadata": {},
   "source": [
    "> Task 13: Exceptions? - Some of these scripts work, some of them don't. Before running them, see if you can work out which ones and why!\n",
    "\n",
    "*As always, you're free to look things up on the internet.*"
   ]
  },
  {
   "cell_type": "code",
   "execution_count": null,
   "metadata": {},
   "outputs": [],
   "source": [
    "x = 5\n",
    "y = int(  \"-\"  + str(  x )   )\n",
    "print(y)\n",
    "z = int(\"-\" + str(y))\n",
    "print(z)"
   ]
  },
  {
   "cell_type": "code",
   "execution_count": null,
   "metadata": {},
   "outputs": [],
   "source": [
    "rainbow = float(int(str(4)))\n",
    "double_rainbow = float(int(str(rainbow)))\n",
    "print(double_rainbow)"
   ]
  },
  {
   "cell_type": "code",
   "execution_count": null,
   "metadata": {},
   "outputs": [],
   "source": [
    "a = 100\n",
    "a -= int(float(str(int(\"100\", 2))))\n",
    "b = 100\n",
    "b /= float(str(int(str(a))))\n",
    "print(b)"
   ]
  },
  {
   "cell_type": "code",
   "execution_count": null,
   "metadata": {},
   "outputs": [],
   "source": [
    "a = 6\n",
    "b = 4.5\n",
    "x = str(int(a - b)) + \"e\" + str(a)\n",
    "print(float(x), \":)\")"
   ]
  },
  {
   "cell_type": "markdown",
   "metadata": {},
   "source": [
    "### Accepting User Input"
   ]
  },
  {
   "cell_type": "markdown",
   "metadata": {},
   "source": [
    "So far, we've been accepting 'input' to our program by declaring some variables at the top. But it turns out there was an `input()` function for it all along...\n",
    "\n",
    "`input()` accepts a single argument, which will be displayed as a prompt to the user when the cell is run. The script will be paused until you type something, and hit enter. Whatever you typed is then **returned** by the function, as a string. In other words, this function produces a value, and can be assigned to a variable or used in an expression.\n",
    "\n",
    "Try it out below:"
   ]
  },
  {
   "cell_type": "code",
   "execution_count": null,
   "metadata": {},
   "outputs": [],
   "source": [
    "your_name = input(\"What's your name? : \")\n",
    "print(\"Hi \" + your_name + \", I'm Dad!\")"
   ]
  },
  {
   "cell_type": "markdown",
   "metadata": {},
   "source": [
    "We can combine the `input()` function with type casting, to handle datatypes other than strings."
   ]
  },
  {
   "cell_type": "code",
   "execution_count": null,
   "metadata": {},
   "outputs": [],
   "source": [
    "your_age = input(\"Enter your age: \")\n",
    "your_age = int(your_age) + 1\n",
    "print(\"You'll be \" + str(your_age) + \" next year? Wow, and I thought my grandpa was old.\")"
   ]
  },
  {
   "cell_type": "markdown",
   "metadata": {},
   "source": [
    "The function and cast in Lines 1 and 2 above can be condensed into a single line, if you want:"
   ]
  },
  {
   "cell_type": "code",
   "execution_count": null,
   "metadata": {},
   "outputs": [],
   "source": [
    "your_age = int(input(\"Enter your age: \")) + 1\n",
    "print(\"You'll be \" + str(your_age) + \" next year? Wow, and I thought my great grandma was old.\")"
   ]
  },
  {
   "cell_type": "markdown",
   "metadata": {},
   "source": [
    "Alright, that's everything you need to know for Week 1! Now, let's check you understand it."
   ]
  },
  {
   "cell_type": "markdown",
   "metadata": {},
   "source": [
    "> Task 14: Write a script that, given the length & width of a rectangle, calculates it's area and perimeter. Make it clear what you calculated in your output."
   ]
  },
  {
   "cell_type": "code",
   "execution_count": null,
   "metadata": {},
   "outputs": [],
   "source": [
    "# Get the length and width as input\n",
    "\n",
    "# Calculate...\n",
    "\n",
    "# Output..."
   ]
  },
  {
   "cell_type": "markdown",
   "metadata": {},
   "source": [
    "# Bonus Tasks"
   ]
  },
  {
   "cell_type": "markdown",
   "metadata": {},
   "source": [
    "> Task A: Find the number of pizzas, each split into `slices_per_pizza` slices, that a family of size `family_size` should order to make sure each family member gets at least `slices_per_person` slices per person. How many slices will be left over? Display both of these answers."
   ]
  },
  {
   "cell_type": "code",
   "execution_count": null,
   "metadata": {},
   "outputs": [],
   "source": [
    "family_size = 18\n",
    "slices_per_pizza = 4\n",
    "slices_per_person = 2\n",
    "\n",
    "# How many slices will need to be ordered in total?\n",
    "\n",
    "# Calculate how many pizzas we need, and how many slices are left over\n",
    "# Hmmmm...\n"
   ]
  },
  {
   "cell_type": "markdown",
   "metadata": {},
   "source": [
    "This next task introduces a new function, and this time it's imported! For now, all you need to know is that the `sqrt()` function takes a single, numerical argument, and returns the square root of it. No need to edit the first line, which imports it.\n",
    "\n",
    "> Task B: Write a script that, given the base and height of a triangle, calculates it's area and perimeter. Make it clear what's calculated in your output."
   ]
  },
  {
   "cell_type": "code",
   "execution_count": null,
   "metadata": {},
   "outputs": [],
   "source": [
    "from math import sqrt\n",
    "\n",
    "# Get the base and height as input\n",
    "\n",
    "\n",
    "# Calculate...\n",
    "\n",
    "\n",
    "# Output...\n"
   ]
  },
  {
   "cell_type": "markdown",
   "metadata": {},
   "source": [
    "#### *This week of content was written by the Computing Society.*"
   ]
  }
 ],
 "metadata": {
  "kernelspec": {
   "display_name": "Python 3.10.6 64-bit",
   "language": "python",
   "name": "python3"
  },
  "language_info": {
   "codemirror_mode": {
    "name": "ipython",
    "version": 3
   },
   "file_extension": ".py",
   "mimetype": "text/x-python",
   "name": "python",
   "nbconvert_exporter": "python",
   "pygments_lexer": "ipython3",
   "version": "3.10.6"
  },
  "orig_nbformat": 4,
  "vscode": {
   "interpreter": {
    "hash": "7c57092efe4ff60dfd9ba12cd3127c3cb8001227526172b4b54478afc6e523e7"
   }
  }
 },
 "nbformat": 4,
 "nbformat_minor": 2
}
